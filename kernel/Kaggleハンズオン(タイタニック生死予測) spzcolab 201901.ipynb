{
 "cells": [
  {
   "cell_type": "markdown",
   "metadata": {
    "_cell_guid": "b1076dfc-b9ad-4769-8c92-a6c4dae69d19",
    "_uuid": "8f2839f25d086af736a60e9eeb907d3b93b6e0e5"
   },
   "source": [
    "## このカーネルについて\n",
    "\n",
    "2019/01開催[Kaggleタイタニックハンズオン（サポーターズ勉強会）](https://supporterzcolab.com/event/677/)用のkernelです。  \n",
    "ハンズオンパートで使います\n",
    "\n",
    "1. まず一緒に一回やってkernelの操作に慣れる\n",
    "2. もくもくタイムで各自試行錯誤（コード片を組み合わせる）"
   ]
  },
  {
   "cell_type": "markdown",
   "metadata": {
    "_cell_guid": "79c7e3d0-c299-4dcb-8224-4455121ee9b0",
    "_uuid": "d629ff2d2480ee46fbb7e2d37f6b5fab8052498a",
    "collapsed": true
   },
   "source": [
    "## 基本操作\n",
    "\n",
    "コードが書かれているブロックを **セル** と呼びます。  \n",
    "\n",
    "1. セルをクリックして選択する（入力できる状態になる）\n",
    "2. 選択したセルを実行する\n",
    "    - 入力できる状態でShift+Enterキーを押す（こちらに慣れると簡単です）\n",
    "    - 左側に表示される再生ボタン▶をクリック"
   ]
  },
  {
   "cell_type": "markdown",
   "metadata": {
    "_uuid": "e61a21e29e422d59c393565c5424ab05d5a131db"
   },
   "source": [
    "## このカーネルでやること\n",
    "\n",
    "1. 学習用データから乗客の生存／死亡を予測するモデルを作る\n",
    "    1. 前処理\n",
    "    2. モデル作成\n",
    "    3. 性能確認\n",
    "2. 1で作ったモデルでテスト用データについて予測する（その後、Kaggleに提出する）"
   ]
  },
  {
   "cell_type": "markdown",
   "metadata": {
    "_uuid": "bdfaa2b5d850f3353eced7993c025acdd8602c83"
   },
   "source": [
    "## 1-A. 前処理\n",
    "\n",
    "1. 欠損値\n",
    "1. カテゴリ変数\n",
    "1. 不要な列を削除"
   ]
  },
  {
   "cell_type": "code",
   "execution_count": null,
   "metadata": {
    "_uuid": "1cfc40de1ea79f50218d9ad0c978c51594353d01"
   },
   "outputs": [],
   "source": [
    "# 前処理に必要なモジュールの読み込み\n",
    "import numpy as np\n",
    "import pandas as pd\n",
    "# 可視化に必要なモジュールの読み込み\n",
    "import matplotlib.pyplot as plt\n",
    "import seaborn as sns\n",
    "%matplotlib inline"
   ]
  },
  {
   "cell_type": "markdown",
   "metadata": {
    "_uuid": "15f58440178d2240f490af07ecb4ae57d26100fa"
   },
   "source": [
    "タイタニックコンペでは以下のフォルダ配置となる。これを踏まえて、相対パスでデータを指定する\n",
    "\n",
    "- ┣ 現在のkernel\n",
    "- ┗ input/\n",
    "    - ┣ train.csv（学習用データ）\n",
    "    - ┣ test.csv（テスト用データ）\n",
    "    - ┗ gender_submission.csv（提出練習用データ）"
   ]
  },
  {
   "cell_type": "code",
   "execution_count": null,
   "metadata": {
    "_uuid": "c51e5fd74bfa4eeb84c1aadfebc8f059190fc596"
   },
   "outputs": [],
   "source": [
    "# 読み込んだデータはExcelの表のような形式で扱う（行と列がある）\n",
    "# 学習用データの読み込み（生存か死亡か知っているデータ）\n",
    "train_df = pd.read_csv('https://raw.githubusercontent.com/ftnext/spzcolab_titanic/master/input/train.csv')\n",
    "# テスト用データの読み込み（生存か死亡か知らないデータ）\n",
    "test_df = pd.read_csv('https://raw.githubusercontent.com/ftnext/spzcolab_titanic/master/input/test.csv')"
   ]
  },
  {
   "cell_type": "markdown",
   "metadata": {
    "_uuid": "f98367e6902032fe3c05b240baceaa85cc8b59e4"
   },
   "source": [
    "`read_csv`  \n",
    "解説: https://note.nkmk.me/python-pandas-read-csv-tsv/  \n",
    "ドキュメント: https://pandas.pydata.org/pandas-docs/stable/reference/api/pandas.read_csv.html"
   ]
  },
  {
   "cell_type": "code",
   "execution_count": null,
   "metadata": {
    "_uuid": "a8fce89b69183148bacdad4507f474af93900d01"
   },
   "outputs": [],
   "source": [
    "# 学習用データのサイズを確認\n",
    "# (行数, 列数) で表示される\n",
    "train_df.shape"
   ]
  },
  {
   "cell_type": "code",
   "execution_count": null,
   "metadata": {
    "_uuid": "31250ea2947935237bcd038686dd3b52fa968c30"
   },
   "outputs": [],
   "source": [
    "# テスト用データのサイズを確認\n",
    "# 学習用データに対して1列少ない\n",
    "test_df.shape"
   ]
  },
  {
   "cell_type": "markdown",
   "metadata": {
    "_uuid": "e492a2390deb2451771e3e9ff856da8a672244ab"
   },
   "source": [
    "`shape`  \n",
    "ドキュメント: https://pandas.pydata.org/pandas-docs/stable/reference/api/pandas.DataFrame.shape.html"
   ]
  },
  {
   "cell_type": "code",
   "execution_count": null,
   "metadata": {
    "_uuid": "0539904b0e0c8ad1f9be69de3288275ff8761e9d"
   },
   "outputs": [],
   "source": [
    "# 学習用データの上から5行を表示\n",
    "# 参考: train_df.head(7) # 上から7行表示\n",
    "train_df.head()"
   ]
  },
  {
   "cell_type": "code",
   "execution_count": null,
   "metadata": {
    "_uuid": "396149f7b3382de0d4d8de5f21f04d8b2ade66a1"
   },
   "outputs": [],
   "source": [
    "# テスト用データの上から5行を表示\n",
    "# Survivedの列（生存か死亡かを表す）がないことが確認できる\n",
    "test_df.head()"
   ]
  },
  {
   "cell_type": "markdown",
   "metadata": {
    "_uuid": "0e55e984bbaa82fdbdee7c7244162aea0dd4803d"
   },
   "source": [
    "`head`  \n",
    "ドキュメント: https://pandas.pydata.org/pandas-docs/stable/reference/api/pandas.DataFrame.head.html"
   ]
  },
  {
   "cell_type": "code",
   "execution_count": null,
   "metadata": {
    "_uuid": "8fee68e0970b6d1d8f8363fec7032694c05876e9"
   },
   "outputs": [],
   "source": [
    "# 学習用データの情報を確認\n",
    "train_df.info()"
   ]
  },
  {
   "cell_type": "code",
   "execution_count": null,
   "metadata": {
    "_uuid": "5313cd4db853ceb6f5e09e9bfb8a37df278f16a0"
   },
   "outputs": [],
   "source": [
    "# テスト用データの情報を確認\n",
    "test_df.info()"
   ]
  },
  {
   "cell_type": "markdown",
   "metadata": {
    "_uuid": "9b86455b77dfbfdb8f5905e61a4227e37c914a3b"
   },
   "source": [
    "`info`  \n",
    "解説: https://note.nkmk.me/python-pandas-len-shape-size/  \n",
    "ドキュメント: https://pandas.pydata.org/pandas-docs/stable/reference/api/pandas.DataFrame.info.html"
   ]
  },
  {
   "cell_type": "markdown",
   "metadata": {
    "_uuid": "167716b1debadbf441c33bd89f478243130e1a38"
   },
   "source": [
    "| infoによる情報 | 意味 |\n",
    "| ----|---- | \n",
    "| int | 整数 |\n",
    "| float | 浮動小数点数 |\n",
    "| object | 文字列 |"
   ]
  },
  {
   "cell_type": "markdown",
   "metadata": {
    "_uuid": "e24224735ca20796ab15c84f5984cda34a107f53"
   },
   "source": [
    "| データの情報 | 列名 |　意味 | モデル作成に使う | \n",
    "| ----- | ----- | ----- | ----- |\n",
    "| int | PassengerId | 乗客ID | |\n",
    "| int | Pclass | チケットの等級 (1, 2, 3) | ◯ |\n",
    "| int | SibSp | 同乗した兄弟姉妹/配偶者の人数 | ◯ |\n",
    "| int | Parch | 同乗した両親/子供の人数 | ◯ |\n",
    "| int | Survived | 0：死亡、1：生存 | 予測したい |\n",
    "| float | Age | 年齢（推測があるため、浮動小数点数） | ◯ |\n",
    "| float | Fare | 運賃 | ◯ |\n",
    "| object | Name | 氏名 | |\n",
    "| object | Sex | 性別 | ◯ |\n",
    "| object | Ticket | チケット番号 | |\n",
    "| object | Cabin | 船室番号　| |\n",
    "| object | Embarked | 乗船した港の頭文字(S, Q, C) | ◯ |\n",
    "\n",
    "**注**: モデル作成に使う列は、ハンズオン進行の都合により、こちらで決めました（本来はデータを分析してから決めます）  \n",
    "ref: https://www.kaggle.com/c/titanic/data"
   ]
  },
  {
   "cell_type": "code",
   "execution_count": null,
   "metadata": {
    "_uuid": "d3de1be1c2d424e946be557575c3fc51a577ee5c"
   },
   "outputs": [],
   "source": [
    "# 学習データについて欠けたデータがある列を確認（infoの情報に、891よりも少ない数の列があった）\n",
    "train_df.isnull().sum()"
   ]
  },
  {
   "cell_type": "code",
   "execution_count": null,
   "metadata": {
    "_uuid": "24cb53ce65dbd52ccef2a9d92102f5233e0a4279"
   },
   "outputs": [],
   "source": [
    "# テスト用データについて欠けたデータがある列を確認\n",
    "test_df.isnull().sum()"
   ]
  },
  {
   "cell_type": "markdown",
   "metadata": {
    "_uuid": "4aee0885b58eb27f8dda60e788047a7d6639d94d"
   },
   "source": [
    "`isnull().sum()`  \n",
    "参考: https://note.nkmk.me/python-pandas-nan-judge-count/"
   ]
  },
  {
   "cell_type": "markdown",
   "metadata": {
    "_uuid": "4a5cca3fbad874c92e1912dd1f7d3531a0f899b9"
   },
   "source": [
    "欠けたデータがある列\n",
    "\n",
    "| データ種別 | 列名 | 欠け具合 |\n",
    "| ----- | ----- | ----- |\n",
    "| 学習用・テスト用 | Age | 20%程度 |\n",
    "| 学習用 | Embarked | 数件 |\n",
    "| テスト用 | Fare | 数件 |\n",
    "| 学習用・テスト用 | Cabin | 78%程度 |"
   ]
  },
  {
   "cell_type": "markdown",
   "metadata": {
    "_uuid": "6f6ce29051148dfdadc14814b43d8bf6a9d12f33"
   },
   "source": [
    "- 欠けたデータ＝**欠損値**（missing value、欠測値とも呼ばれる）  \n",
    "- 欠損の要因：データの収集過程で抜けてしまったなど\n",
    "- 機械学習のツールは **一般に欠損値に対処できない**（そのためデータを前処理する）\n",
    "- 削除すると貴重なデータが減るので、**埋める**"
   ]
  },
  {
   "cell_type": "markdown",
   "metadata": {
    "_uuid": "46f9342245cd114b8ea266e1b4041ea698875741"
   },
   "source": [
    "### 1-A 1.欠損値を埋める\n",
    "\n",
    "- Age\n",
    "- Fare\n",
    "- Embarked\n",
    "\n",
    "注: Cabinは欠損が多いため、使わないという選択をしました（そのため埋めません）"
   ]
  },
  {
   "cell_type": "markdown",
   "metadata": {
    "_uuid": "97a3d9f7ec887bd5d9890a2aec7d0240e1677d08"
   },
   "source": [
    "埋めるのに使うデータ\n",
    "\n",
    "- Age: 学習用データの平均値（=年齢の総和/個数）\n",
    "- Fare: 学習用データの中央値（運賃を小さい順に並べて真ん中に来る値）\n",
    "- Embarked: 学習用データで一番多く登場する値（一番多くの人が乗っている港）"
   ]
  },
  {
   "cell_type": "code",
   "execution_count": null,
   "metadata": {
    "_uuid": "52d18c05598f55d0881aa7825c8d1adb46cae8ce"
   },
   "outputs": [],
   "source": [
    "# 学習用データの値を使って欠損を埋めるために使う値を表示\n",
    "train_df[['Age', 'Fare', 'Embarked']].describe([.5], 'all')"
   ]
  },
  {
   "cell_type": "markdown",
   "metadata": {
    "_uuid": "ac8752d938b72d257edbbfdb24c96e7104cf59dc"
   },
   "source": [
    "- Age: 学習用データの平均値(mean) → 29.69... → 30歳で埋める\n",
    "- Fare: 学習用データの中央値（50%） → 14.4542\n",
    "- Embarked: 学習用データで一番多く登場する値（top） → S"
   ]
  },
  {
   "cell_type": "markdown",
   "metadata": {
    "_uuid": "71e8b334833adfba13614f781ac8c61b69d72fef"
   },
   "source": [
    "`describe`  \n",
    "参考: https://note.nkmk.me/python-pandas-describe/  \n",
    "ドキュメント: https://pandas.pydata.org/pandas-docs/stable/reference/api/pandas.DataFrame.describe.html"
   ]
  },
  {
   "cell_type": "code",
   "execution_count": null,
   "metadata": {
    "_uuid": "482cd50ce38eed1383eff601016a9780cb85a055"
   },
   "outputs": [],
   "source": [
    "# 参考: Ageの分布（欠損値を除いて描画）\n",
    "sns.distplot(train_df['Age'].dropna(), kde=False, bins=20)\n",
    "plt.show()"
   ]
  },
  {
   "cell_type": "code",
   "execution_count": null,
   "metadata": {
    "_uuid": "f4277c9894fc583966fe71d3e876918d4bf8a979"
   },
   "outputs": [],
   "source": [
    "# 参考: Fareの分布\n",
    "sns.distplot(train_df['Fare'], kde=False, bins=50)\n",
    "plt.show()"
   ]
  },
  {
   "cell_type": "code",
   "execution_count": null,
   "metadata": {
    "_uuid": "1e392cdb9284ead55663b4f96ff6364d05552768"
   },
   "outputs": [],
   "source": [
    "# Ageの欠損を平均値 30歳 で埋める\n",
    "# **Note**: モクモクタイムで他の埋め方を試す際は、このセルを置き換えます\n",
    "train_df['Age'] = train_df['Age'].fillna(30)\n",
    "test_df['Age'] = test_df['Age'].fillna(30)"
   ]
  },
  {
   "cell_type": "code",
   "execution_count": null,
   "metadata": {
    "_uuid": "825dcf1903d21d104df11497a71c0274b533d33d"
   },
   "outputs": [],
   "source": [
    "# Embarkedの欠損を、一番多い乗船港 S で埋める\n",
    "train_df['Embarked'] = train_df['Embarked'].fillna('S')"
   ]
  },
  {
   "cell_type": "code",
   "execution_count": null,
   "metadata": {
    "_uuid": "423b580d23784f9312dad0e17bc6d853948c9d8e"
   },
   "outputs": [],
   "source": [
    "# Fareの欠損を 中央値 14.4542 で埋める\n",
    "test_df['Fare'] = test_df['Fare'].fillna(14.4542)"
   ]
  },
  {
   "cell_type": "markdown",
   "metadata": {
    "_uuid": "b41dcdfdad508bb5c66c62861eae104c87ef3cb6"
   },
   "source": [
    "`fillna`  \n",
    "参考: https://note.nkmk.me/python-pandas-nan-dropna-fillna/  \n",
    "ドキュメント: https://pandas.pydata.org/pandas-docs/stable/reference/api/pandas.DataFrame.fillna.html"
   ]
  },
  {
   "cell_type": "code",
   "execution_count": null,
   "metadata": {
    "_uuid": "e6be4a7e4ab1dda2d633cd2777b2b45e56371ddc"
   },
   "outputs": [],
   "source": [
    "# 学習用データの欠損値が埋まったことを確認\n",
    "train_df.isnull().sum()"
   ]
  },
  {
   "cell_type": "code",
   "execution_count": null,
   "metadata": {
    "_uuid": "cc7b658bc09beaf8fa1fc2ea0fa8ca058720c596"
   },
   "outputs": [],
   "source": [
    "# テスト用データの欠損値が埋まったことを確認\n",
    "test_df.isnull().sum()"
   ]
  },
  {
   "cell_type": "markdown",
   "metadata": {
    "_uuid": "1e94db06aa65e16f583114bf512928a946445c4b"
   },
   "source": [
    "### 1-A 2.カテゴリ変数を数値化する\n",
    "\n",
    "- Sex（male, female）\n",
    "- Embarked(S, Q, C)"
   ]
  },
  {
   "cell_type": "markdown",
   "metadata": {
    "_uuid": "aaf0f66e132db42d17086c89d6eb083dcac5d0fa"
   },
   "source": [
    "- カテゴリ変数とは、いくつかの文字列の値を取る変数\n",
    "    - Sex: male, female\n",
    "    - Embarked: S, Q, C　（乗船した港の頭文字）\n",
    "- 文字列を整数に変換する\n",
    "    - Sex: male=0, female=1として置き換え\n",
    "    - Embarked: ダミー変数化（後述）"
   ]
  },
  {
   "cell_type": "code",
   "execution_count": null,
   "metadata": {
    "_uuid": "95b3433b43833efb0683217f03d8bac661437124"
   },
   "outputs": [],
   "source": [
    "# カテゴリを整数に置き換えるための辞書を用意\n",
    "gender_map = {'female': 1, 'male': 0}\n",
    "# 引数の辞書のキーに一致する要素が、辞書の値に置き換わる（femaleが1に置き換わり、maleが0に置き換わる）\n",
    "# 注: Sexの取りうる値はfemaleかmale\n",
    "train_df['Sex'] = train_df['Sex'].map(gender_map)\n",
    "test_df['Sex'] = test_df['Sex'].map(gender_map)"
   ]
  },
  {
   "cell_type": "markdown",
   "metadata": {
    "_uuid": "fe3ce2c3f8fea59b861ffda21c900921975b2014"
   },
   "source": [
    "`map`  \n",
    "参考: https://note.nkmk.me/python-pandas-map-replace/  \n",
    "ドキュメント: https://pandas.pydata.org/pandas-docs/stable/reference/api/pandas.Series.map.html"
   ]
  },
  {
   "cell_type": "markdown",
   "metadata": {
    "_uuid": "a9c09d0c92a076202a75212cbbb8adfe6448cb89"
   },
   "source": [
    "Embarkedのダミー変数化について\n",
    "\n",
    "- S=1, Q=2, C=3と整数に置き換える\n",
    "    - **本来なかった大小関係が想定されてしまう**\n",
    "- (S, Q, C)という形式で整数に置き換える\n",
    "\n",
    "| Embarkedの値 | 置き換えたあと |\n",
    "| ----- | ----- |\n",
    "| S | (1, 0, 0) |\n",
    "| Q | (0, 1, 0) |\n",
    "| C | (0, 0, 1) |"
   ]
  },
  {
   "cell_type": "code",
   "execution_count": null,
   "metadata": {
    "_uuid": "ad483a345f9bda629b262fd57032c223caa13e4d"
   },
   "outputs": [],
   "source": [
    "# Embarked（S, Q, Cという3カテゴリ）をダミー変数にする\n",
    "train_df = pd.get_dummies(train_df, columns=['Embarked'])\n",
    "test_df = pd.get_dummies(test_df, columns=['Embarked'])"
   ]
  },
  {
   "cell_type": "markdown",
   "metadata": {
    "_uuid": "ccf7610fcfbe42ec74414db5337a2f26420dd39d"
   },
   "source": [
    "`get_dummies`  \n",
    "参考: https://note.nkmk.me/python-pandas-get-dummies/  \n",
    "ドキュメント: https://pandas.pydata.org/pandas-docs/stable/reference/api/pandas.get_dummies.html"
   ]
  },
  {
   "cell_type": "markdown",
   "metadata": {
    "_uuid": "e12668662f40a1903ff80faa2920918ffb5dd2a0"
   },
   "source": [
    "### 1-A 3.不要な列を削除"
   ]
  },
  {
   "cell_type": "code",
   "execution_count": null,
   "metadata": {
    "_uuid": "0707d0e2e546d57e4c5ac737b4f100f99e52a72f"
   },
   "outputs": [],
   "source": [
    "# 取り除く列のリスト\n",
    "not_use_columns = ['Name', 'Ticket', 'Cabin']\n",
    "# 学習用データから列を削除する（PassengerIdは後ほど取り除く）\n",
    "train_df.drop(not_use_columns, axis=1, inplace=True)\n",
    "# テスト用データから列を削除する\n",
    "test_df.drop(not_use_columns, axis=1, inplace=True)"
   ]
  },
  {
   "cell_type": "markdown",
   "metadata": {
    "_uuid": "9e2f9ee52cb9088a6ad9f6857a2e46fd939b3e84"
   },
   "source": [
    "`drop`  \n",
    "参考: https://note.nkmk.me/python-pandas-drop/  \n",
    "ドキュメント: https://pandas.pydata.org/pandas-docs/stable/reference/api/pandas.DataFrame.drop.html"
   ]
  },
  {
   "cell_type": "code",
   "execution_count": null,
   "metadata": {
    "_uuid": "7f74d6042e6a98f95c7886b3e8b3f089aed82f20"
   },
   "outputs": [],
   "source": [
    "# 前処理した学習用データの確認\n",
    "train_df.head()"
   ]
  },
  {
   "cell_type": "code",
   "execution_count": null,
   "metadata": {
    "_uuid": "ae4c0d70c4b4f639a5066dfa0d3488bd6ff31bf7"
   },
   "outputs": [],
   "source": [
    "# 前処理したテスト用データの確認\n",
    "test_df.head()"
   ]
  },
  {
   "cell_type": "markdown",
   "metadata": {
    "_uuid": "ad9750cdad36be1b0569bbbf46d7e123fccef64d"
   },
   "source": [
    "## 1-B. モデル作成\n",
    "\n",
    "モデルは学習用データにアルゴリズムを適用して作成する。  \n",
    "今回はアルゴリズムにロジスティック回帰を使う（後ほど変更も試せます）  \n",
    "\n",
    "ドキュメント(ロジスティック関数): https://scikit-learn.org/stable/auto_examples/linear_model/plot_logistic.html"
   ]
  },
  {
   "cell_type": "code",
   "execution_count": null,
   "metadata": {
    "_uuid": "be0f79324212932276ad8066d59f3d9f77894fda"
   },
   "outputs": [],
   "source": [
    "# 慣例にのっとり、モデルが予測に使うデータをX, モデルが予測するデータをyとする\n",
    "X = train_df.drop(['PassengerId', 'Survived'], axis=1)\n",
    "y = train_df['Survived']"
   ]
  },
  {
   "cell_type": "code",
   "execution_count": null,
   "metadata": {
    "_uuid": "2fadac5efca744f9aab968d1b51ab7591cbed06f"
   },
   "outputs": [],
   "source": [
    "# モデル作成・性能評価に使うモジュールの読み込み\n",
    "from sklearn.linear_model import LogisticRegression\n",
    "from sklearn.metrics import accuracy_score\n",
    "from sklearn.model_selection import train_test_split\n",
    "from sklearn.tree import DecisionTreeClassifier "
   ]
  },
  {
   "cell_type": "markdown",
   "metadata": {
    "_uuid": "a07a42f98a6585bddaed7f062fbd56f852faf03b"
   },
   "source": [
    "このあとモデルを作成するが、テスト用データについて生死を予測する前に、  \n",
    "どの程度の性能のモデルなのか確認したい。  \n",
    "→学習用データをランダムに2つに分ける（`train_test_split`）\n",
    "\n",
    "- 学習用データのうち、例えば7割でモデルを作る\n",
    "- 残りの3割でモデルの性能を評価する\n",
    "\n",
    "参考情報\n",
    "\n",
    "- ランダムに分けているが、`random_state`引数の値が同じなら、**何回実行しても同じ** ようにランダムに分かれる"
   ]
  },
  {
   "cell_type": "code",
   "execution_count": null,
   "metadata": {
    "_uuid": "2e265192a98cecd770899eeb223b768e25b736ae"
   },
   "outputs": [],
   "source": [
    "# 今回のハンズオンは7:3に分けて進める\n",
    "X_train, X_val, y_train, y_val = train_test_split(X, y, test_size=0.3, random_state=1)"
   ]
  },
  {
   "cell_type": "markdown",
   "metadata": {
    "_uuid": "d81fe7d9e0e5e18b34f62ac72bf04466b694ea42"
   },
   "source": [
    "`train_test_split`  \n",
    "参考: https://docs.pyq.jp/python/machine_learning/tips/train_test_split.html  \n",
    "ドキュメント: https://scikit-learn.org/stable/modules/generated/sklearn.model_selection.train_test_split.html"
   ]
  },
  {
   "cell_type": "markdown",
   "metadata": {
    "_uuid": "f0568ada7f8aada0ff02000fe944a8a136fdaad6"
   },
   "source": [
    "| 変数名 | 用途 |\n",
    "| ----- | ----- |\n",
    "| X_train | モデル作成用のデータ（乗客の属性） |\n",
    "| y_train | モデル作成用のデータ（生死） |\n",
    "| X_val | モデルの性能確認用のデータ（乗客の属性） |\n",
    "| y_val | モデルの性能確認用のデータ（生死） |"
   ]
  },
  {
   "cell_type": "code",
   "execution_count": null,
   "metadata": {
    "_uuid": "7d837f2e0c8d24f6640d759c80b63e3c468924e0"
   },
   "outputs": [],
   "source": [
    "# モデル作成用のデータの数の確認\n",
    "len(y_train)"
   ]
  },
  {
   "cell_type": "code",
   "execution_count": null,
   "metadata": {
    "_uuid": "8d393db840989c0bb5262bc821122421bf8b522f"
   },
   "outputs": [],
   "source": [
    "# モデル性能確認用のデータの数の確認\n",
    "len(y_val)"
   ]
  },
  {
   "cell_type": "code",
   "execution_count": null,
   "metadata": {
    "_uuid": "cdf685a0444a5412229e394ee1a11ce854114b63"
   },
   "outputs": [],
   "source": [
    "# ロジスティック回帰というアルゴリズムを使ったモデルを用意\n",
    "model = LogisticRegression(random_state=1, solver='liblinear')\n",
    "# モデル作成は以下の1行（ここまでの前処理に対してたった1行！）で完了する\n",
    "model.fit(X_train, y_train)"
   ]
  },
  {
   "cell_type": "markdown",
   "metadata": {
    "_uuid": "e652b8a1ea66c81b23bdf494b1e9047e4a9865db"
   },
   "source": [
    "## 1-C. 性能確認\n",
    "\n",
    "タイタニックの場合、モデルの性能はaccuracyというスコアで評価される  \n",
    "（**注**：性能を表すスコアは他にもある）\n",
    "\n",
    "- 418名のうち生死を正しく予想できたものの割合\n",
    "- 1に近いほど性能がよい\n",
    "\n",
    "| ケース | 正解／誤り |\n",
    "| ----- | ----- |\n",
    "| 生存した乗客を生存と予測 | 正解 |\n",
    "| 生存した乗客を死亡と予測 | 誤り |\n",
    "| 死亡した乗客を生存と予測 | 誤り |\n",
    "| 死亡した乗客を死亡と予測 | 正解 |\n",
    "\n",
    "accuracy = (正解の総数) / (正解の総数 + 誤りの総数)\n",
    "\n",
    ">Your score is the percentage of passengers you correctly predict. This is known simply as \"accuracy”.\n",
    "\n",
    "ref: https://www.kaggle.com/c/titanic#evaluation"
   ]
  },
  {
   "cell_type": "code",
   "execution_count": null,
   "metadata": {
    "_uuid": "a063293d2167961907aa65fe4cc2f504bdc86a16"
   },
   "outputs": [],
   "source": [
    "# モデル性能確認用データについて生死を予測\n",
    "pred = model.predict(X_val)\n",
    "# accuracyを算出して表示\n",
    "accuracy_score(y_val, pred)"
   ]
  },
  {
   "cell_type": "markdown",
   "metadata": {
    "_uuid": "abdf38022a47dee4890ca7e5d692972ca1bdf570"
   },
   "source": [
    "`accuracy_score`  \n",
    "ドキュメント: https://scikit-learn.org/stable/modules/generated/sklearn.metrics.accuracy_score.html"
   ]
  },
  {
   "cell_type": "markdown",
   "metadata": {
    "_uuid": "9da8b7d4bdd7c0a45b244dd5489bb5b074304dfc"
   },
   "source": [
    "初回はすぐ提出。  \n",
    "別のモデルを作ったときに、以前に作ったモデルよりスコアが低ければ、提出しないという判断ができる  \n",
    "（Kaggleに提出しなくても試行錯誤が進められる）"
   ]
  },
  {
   "cell_type": "markdown",
   "metadata": {
    "_uuid": "3db5d5be38078c0947737831b895af5e25a4c9c4"
   },
   "source": [
    "## 2. テスト用データの生死を予測\n",
    "\n",
    "- テスト用データ（418件）について予測したあと、提出用データを作る\n",
    "- 提出用データは以下の形式のCSVとするように指定されている（1が生存、0が死亡）\n",
    "\n",
    "PassengerId | Survived\n",
    "----- | -----\n",
    "892 | 0\n",
    ": | :\n",
    "1309|1\n",
    "\n",
    "- ref: https://www.kaggle.com/c/titanic#evaluation"
   ]
  },
  {
   "cell_type": "code",
   "execution_count": null,
   "metadata": {
    "_uuid": "6f8f1f89df8a2845df1840288c04a8cc51213e0c"
   },
   "outputs": [],
   "source": [
    "# テスト用データからPassengerId列を除く\n",
    "X_test = test_df.drop(['PassengerId'], axis=1)\n",
    "# テスト用データについて生死を予測\n",
    "pred = model.predict(X_test)"
   ]
  },
  {
   "cell_type": "code",
   "execution_count": null,
   "metadata": {
    "_uuid": "048198f3fda1818008d2e7b20b6bacce37109c53"
   },
   "outputs": [],
   "source": [
    "# colabでの実行の際は省略\n",
    "# # 提出用データの形式に変換\n",
    "# submission = pd.DataFrame({\n",
    "#     'PassengerId': test_df['PassengerId'],\n",
    "#     'Survived': pred\n",
    "# })\n",
    "# # 提出用データ作成\n",
    "# submission.to_csv('submission.csv', index=False)"
   ]
  },
  {
   "cell_type": "markdown",
   "metadata": {
    "_uuid": "3f70e884b01eef5bc942a5ca73a8c17a8f7f6b27"
   },
   "source": [
    "## 参考: 提出練習データを提出してみる"
   ]
  },
  {
   "cell_type": "code",
   "execution_count": null,
   "metadata": {
    "_uuid": "0ffee8e8d4f95d220255ed8d6a0a6d21cbaa9ab9"
   },
   "outputs": [],
   "source": [
    "# 以下のコードはお手元では実行不要です\n",
    "# import pandas as pd\n",
    "# gender_submission_df = pd.read_csv('../input/gender_submission.csv')\n",
    "# gender_submission_df.to_csv('submission.csv', index=False)"
   ]
  },
  {
   "cell_type": "markdown",
   "metadata": {
    "_uuid": "f01462b982b057daa411cd90db965dda2efb1ebd"
   },
   "source": [
    "## 精度を上げるために\n",
    "\n",
    "精度が変わる方法（上がらない場合もあります）\n",
    "\n",
    "- Ageの欠損の埋め方を見直す\n",
    "- モデルのアルゴリズムを変える"
   ]
  },
  {
   "cell_type": "markdown",
   "metadata": {
    "_uuid": "666d99e0c21a6fbbe17a9d22e8a295fd63f738be"
   },
   "source": [
    "### Ageの欠損の埋め方を見直す\n",
    "\n",
    "- （案1） 中央値 28歳 で埋める\n",
    "- （案2） Sexに応じて年齢を埋める\n",
    "- （案3） Pclassに応じて年齢を埋める\n",
    "\n",
    "KernelをEditする際、平均値で埋めた部分を以下のいずれかに置き換えてみてください。  \n",
    "現状コメント扱いにしているため、コードとして実行するには、始めと終わりの`\"\"\"`を削除する必要があります"
   ]
  },
  {
   "cell_type": "code",
   "execution_count": null,
   "metadata": {
    "_uuid": "38666dabde97e6a087663d5db4232fbc38e6a808"
   },
   "outputs": [],
   "source": [
    "# （案1） 中央値 28歳 で埋める\n",
    "\"\"\"\n",
    "train_df['Age'] = train_df['Age'].fillna(28)\n",
    "test_df['Age'] = test_df['Age'].fillna(28)\n",
    "\"\"\""
   ]
  },
  {
   "cell_type": "code",
   "execution_count": null,
   "metadata": {
    "_uuid": "0cca156daf48b448aacf8daec7b0aea460c424b9"
   },
   "outputs": [],
   "source": [
    "# (案2) 仮説: 年齢の平均値は性別ごとに違うのでは？\n",
    "# 性別ごとの年齢の平均値を確認\n",
    "# train_df[['Sex', 'Age']].groupby('Sex').mean()"
   ]
  },
  {
   "cell_type": "code",
   "execution_count": null,
   "metadata": {
    "_uuid": "4af4a488e030532e9a9787e942a9c0103c1b7427"
   },
   "outputs": [],
   "source": [
    "# （案2）確認すると、男性の平均年齢 31歳、女性の平均年齢 28歳\n",
    "\"\"\"\n",
    "def age_by_sex(col):\n",
    "    '''col: [age, sex]と想定'''\n",
    "    age, sex = col\n",
    "    if pd.isna(age): # Ageが欠損の場合の処理\n",
    "        if sex == 'male':\n",
    "            return 31\n",
    "        elif sex == 'female':\n",
    "            return 28\n",
    "        else: # 整数に変更したsexが含まれる場合など\n",
    "            print('Sexがmale/female以外の値をとっています')\n",
    "            return -1\n",
    "    else: # Ageが欠損していない場合の処理\n",
    "        return age\n",
    "# train_dfからAgeとSexの2列を取り出し、各行についてage_by_sex関数を適用\n",
    "# age_by_sex関数の返り値でAge列の値を上書きする（欠損の場合は、値が埋められる）\n",
    "train_df['Age'] = train_df[['Age', 'Sex']].apply(age_by_sex, axis=1)\n",
    "test_df['Age'] = test_df[['Age', 'Sex']].apply(age_by_sex, axis=1)\n",
    "\"\"\""
   ]
  },
  {
   "cell_type": "code",
   "execution_count": null,
   "metadata": {
    "_uuid": "bbec728562b5f602a840736a3d2b019a4baad84c"
   },
   "outputs": [],
   "source": [
    "# (案3) 仮説: 年齢の平均値はチケットの階級ごとに違うのでは？（年齢高い→お金持っている→いいチケット）\n",
    "# チケットの等級ごとの年齢の平均値を確認\n",
    "# train_df[['Pclass', 'Age']].groupby('Pclass').mean()"
   ]
  },
  {
   "cell_type": "code",
   "execution_count": null,
   "metadata": {
    "_uuid": "c1384752245acf87fa5cc66206f5476b5e629dea"
   },
   "outputs": [],
   "source": [
    "# （案3） pclass==1 38歳、pclass==2 30歳、pclass==3 25歳\n",
    "\"\"\"\n",
    "def age_by_pclass(col):\n",
    "    '''col: [age, pclass]と想定'''\n",
    "    age, pclass = col\n",
    "    if pd.isna(age): # Ageが欠損の場合の処理\n",
    "        if pclass == 1:\n",
    "            return 38\n",
    "        elif pclass == 2:\n",
    "            return 30\n",
    "        else: # pclass == 3に相当する\n",
    "            return 25\n",
    "    else: # Ageが欠損していない場合の処理\n",
    "        return age\n",
    "train_df['Age'] = train_df[['Age', 'Pclass']].apply(age_by_pclass, axis=1)\n",
    "test_df['Age'] = test_df[['Age', 'Pclass']].apply(age_by_pclass, axis=1)\n",
    "\"\"\""
   ]
  },
  {
   "cell_type": "markdown",
   "metadata": {
    "_uuid": "a8b3f0f18912c4586baf0b709db4643639860f86"
   },
   "source": [
    "`groupby`  \n",
    "参考: https://note.nkmk.me/python-pandas-groupby-statistics/  \n",
    "ドキュメント: http://pandas.pydata.org/pandas-docs/stable/reference/api/pandas.DataFrame.groupby.html"
   ]
  },
  {
   "cell_type": "markdown",
   "metadata": {
    "_uuid": "4633a8ce8588d46256f0d59f0b966064dcfa7a11"
   },
   "source": [
    "`isna`  \n",
    "ドキュメント: http://pandas.pydata.org/pandas-docs/stable/reference/api/pandas.isna.html"
   ]
  },
  {
   "cell_type": "markdown",
   "metadata": {
    "_uuid": "08b39652efed0955d8c9f5d87a61b1759bdb4b08"
   },
   "source": [
    "`apply`  \n",
    "参考: https://note.nkmk.me/python-pandas-map-applymap-apply/  \n",
    "ドキュメント: http://pandas.pydata.org/pandas-docs/stable/reference/api/pandas.DataFrame.apply.html"
   ]
  },
  {
   "cell_type": "markdown",
   "metadata": {
    "_uuid": "fb14c6ccea642a356204e659b6ea68c89373ac5d"
   },
   "source": [
    "### モデルのアルゴリズムを変える\n",
    "\n",
    "決定木を試す  \n",
    "\n",
    "参考: https://scikit-learn.org/stable/modules/tree.html#classification  \n",
    "ドキュメント: https://scikit-learn.org/stable/modules/generated/sklearn.tree.DecisionTreeClassifier.html"
   ]
  },
  {
   "cell_type": "code",
   "execution_count": null,
   "metadata": {
    "_uuid": "765434988edc3415024a1324bfebaa98e2591c89"
   },
   "outputs": [],
   "source": [
    "\"\"\"\n",
    "# 決定木というアルゴリズムを使ったモデルを用意\n",
    "model = DecisionTreeClassifier(random_state=1)\n",
    "# モデル作成は以下の1行（ここまでの前処理に対してたった1行！）で完了する\n",
    "model.fit(X_train, y_train)\n",
    "\"\"\""
   ]
  }
 ],
 "metadata": {
  "kernelspec": {
   "display_name": "Python 3",
   "language": "python",
   "name": "python3"
  },
  "language_info": {
   "codemirror_mode": {
    "name": "ipython",
    "version": 3
   },
   "file_extension": ".py",
   "mimetype": "text/x-python",
   "name": "python",
   "nbconvert_exporter": "python",
   "pygments_lexer": "ipython3",
   "version": "3.7.0"
  }
 },
 "nbformat": 4,
 "nbformat_minor": 1
}
