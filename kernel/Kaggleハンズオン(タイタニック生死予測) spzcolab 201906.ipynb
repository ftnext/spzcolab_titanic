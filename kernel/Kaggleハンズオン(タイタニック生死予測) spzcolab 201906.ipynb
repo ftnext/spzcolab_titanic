{
 "cells": [
  {
   "cell_type": "markdown",
   "metadata": {
    "_cell_guid": "b1076dfc-b9ad-4769-8c92-a6c4dae69d19",
    "_uuid": "8f2839f25d086af736a60e9eeb907d3b93b6e0e5"
   },
   "source": [
    "## このカーネルについて\n",
    "\n",
    "2019/06開催[Kaggleタイタニックハンズオン（サポーターズ勉強会）](https://supporterzcolab.com/event/844/)用のkernelです。  \n",
    "ハンズオンパートで使います\n",
    "\n",
    "0.まずはKernelの操作に慣れる（同時にモデル作成前の準備）\n",
    "\n",
    "1. 可視化したデータを確認（分析を簡易的に体験）\n",
    "2. モデル作成を一緒に一回やる\n",
    "3. もくもくタイムで各自試行錯誤（コード片を組み合わせる）"
   ]
  },
  {
   "cell_type": "markdown",
   "metadata": {
    "_cell_guid": "79c7e3d0-c299-4dcb-8224-4455121ee9b0",
    "_uuid": "d629ff2d2480ee46fbb7e2d37f6b5fab8052498a",
    "collapsed": true
   },
   "source": [
    "## 基本操作\n",
    "\n",
    "コードが書かれているブロックを **セル** と呼びます。  \n",
    "\n",
    "1. セルをクリックして選択する（入力できる状態になる）\n",
    "2. 選択したセルを実行する\n",
    "    - 入力できる状態でShift+Enterキーを押す（こちらに慣れると簡単です）\n",
    "    - 左側に表示される再生ボタン▶をクリック"
   ]
  },
  {
   "cell_type": "markdown",
   "metadata": {
    "_uuid": "e61a21e29e422d59c393565c5424ab05d5a131db"
   },
   "source": [
    "## ハンズオンの時間にやること\n",
    "0.モデル作成の準備\n",
    "\n",
    "1. 分析\n",
    "1. モデル作成用データから乗客の生存／死亡を予測するモデルを作る\n",
    "    1. 前処理\n",
    "    2. モデル作成\n",
    "    3. 性能確認\n",
    "2. 2で作ったモデルで予測対象データについて予測する（その後、Kaggleに提出する）"
   ]
  },
  {
   "cell_type": "markdown",
   "metadata": {},
   "source": [
    "## 連絡\n",
    "\n",
    "Kernelを実行する中でエラーになったら、**もう一度一番上から順に実行**してください  \n",
    "（エラーが発生する原因は、実行していないセルがあるためと想定しています）  \n",
    "\n",
    "オンライン勉強会中にエラーに遭遇し、解決できない場合は #spzcolab を付けてツイートしてください  \n",
    "（オンラインのため、TAは頼めず、登壇者一人で可能な限りの対応となりますこと、何卒ご了承ください）"
   ]
  },
  {
   "cell_type": "markdown",
   "metadata": {},
   "source": [
    "## 0. モデル作成の準備"
   ]
  },
  {
   "cell_type": "code",
   "execution_count": 1,
   "metadata": {
    "_uuid": "1cfc40de1ea79f50218d9ad0c978c51594353d01"
   },
   "outputs": [],
   "source": [
    "# 前処理に必要なモジュールの読み込み\n",
    "import pandas as pd"
   ]
  },
  {
   "cell_type": "markdown",
   "metadata": {
    "_uuid": "15f58440178d2240f490af07ecb4ae57d26100fa"
   },
   "source": [
    "タイタニックコンペでは以下のフォルダ配置となる。これを踏まえて、相対パスでデータを指定する\n",
    "\n",
    "```\n",
    "├── ディレクトリ\n",
    "│   └── 現在のKernel\n",
    "└── input/\n",
    "    ├── train.csv（モデル作成用データ）\n",
    "    ├── test.csv（予測対象データ）\n",
    "    └── gender_submission.csv（提出練習用データ）\n",
    "```\n"
   ]
  },
  {
   "cell_type": "code",
   "execution_count": 2,
   "metadata": {
    "_uuid": "c51e5fd74bfa4eeb84c1aadfebc8f059190fc596"
   },
   "outputs": [],
   "source": [
    "# 読み込んだデータはExcelの表のような形式で扱う（行と列がある）\n",
    "# モデル作成用データの読み込み（生存か死亡か知っているデータ）\n",
    "train_df = pd.read_csv('https://raw.githubusercontent.com/ftnext/spzcolab_titanic/master/input/train.csv')\n",
    "# 予測対象データの読み込み（生存か死亡か知らないデータ）\n",
    "test_df = pd.read_csv('https://raw.githubusercontent.com/ftnext/spzcolab_titanic/master/input/test.csv')"
   ]
  },
  {
   "cell_type": "markdown",
   "metadata": {
    "_uuid": "f98367e6902032fe3c05b240baceaa85cc8b59e4"
   },
   "source": [
    "`read_csv`  \n",
    "解説: https://note.nkmk.me/python-pandas-read-csv-tsv/  \n",
    "ドキュメント: https://pandas.pydata.org/pandas-docs/stable/reference/api/pandas.read_csv.html"
   ]
  },
  {
   "cell_type": "code",
   "execution_count": 3,
   "metadata": {
    "_uuid": "a8fce89b69183148bacdad4507f474af93900d01"
   },
   "outputs": [
    {
     "data": {
      "text/plain": [
       "(891, 12)"
      ]
     },
     "execution_count": 3,
     "metadata": {},
     "output_type": "execute_result"
    }
   ],
   "source": [
    "# モデル作成用データのサイズを確認\n",
    "# (行数, 列数) で表示される\n",
    "train_df.shape"
   ]
  },
  {
   "cell_type": "code",
   "execution_count": 4,
   "metadata": {
    "_uuid": "31250ea2947935237bcd038686dd3b52fa968c30"
   },
   "outputs": [
    {
     "data": {
      "text/plain": [
       "(418, 11)"
      ]
     },
     "execution_count": 4,
     "metadata": {},
     "output_type": "execute_result"
    }
   ],
   "source": [
    "# 予測対象データのサイズを確認\n",
    "# モデル作成用データに対して1列少ない\n",
    "test_df.shape"
   ]
  },
  {
   "cell_type": "markdown",
   "metadata": {
    "_uuid": "e492a2390deb2451771e3e9ff856da8a672244ab"
   },
   "source": [
    "`shape`  \n",
    "ドキュメント: https://pandas.pydata.org/pandas-docs/stable/reference/api/pandas.DataFrame.shape.html"
   ]
  },
  {
   "cell_type": "code",
   "execution_count": 5,
   "metadata": {
    "_uuid": "0539904b0e0c8ad1f9be69de3288275ff8761e9d"
   },
   "outputs": [
    {
     "data": {
      "text/html": [
       "<div>\n",
       "<style scoped>\n",
       "    .dataframe tbody tr th:only-of-type {\n",
       "        vertical-align: middle;\n",
       "    }\n",
       "\n",
       "    .dataframe tbody tr th {\n",
       "        vertical-align: top;\n",
       "    }\n",
       "\n",
       "    .dataframe thead th {\n",
       "        text-align: right;\n",
       "    }\n",
       "</style>\n",
       "<table border=\"1\" class=\"dataframe\">\n",
       "  <thead>\n",
       "    <tr style=\"text-align: right;\">\n",
       "      <th></th>\n",
       "      <th>PassengerId</th>\n",
       "      <th>Survived</th>\n",
       "      <th>Pclass</th>\n",
       "      <th>Name</th>\n",
       "      <th>Sex</th>\n",
       "      <th>Age</th>\n",
       "      <th>SibSp</th>\n",
       "      <th>Parch</th>\n",
       "      <th>Ticket</th>\n",
       "      <th>Fare</th>\n",
       "      <th>Cabin</th>\n",
       "      <th>Embarked</th>\n",
       "    </tr>\n",
       "  </thead>\n",
       "  <tbody>\n",
       "    <tr>\n",
       "      <th>0</th>\n",
       "      <td>1</td>\n",
       "      <td>0</td>\n",
       "      <td>3</td>\n",
       "      <td>Braund, Mr. Owen Harris</td>\n",
       "      <td>male</td>\n",
       "      <td>22.0</td>\n",
       "      <td>1</td>\n",
       "      <td>0</td>\n",
       "      <td>A/5 21171</td>\n",
       "      <td>7.2500</td>\n",
       "      <td>NaN</td>\n",
       "      <td>S</td>\n",
       "    </tr>\n",
       "    <tr>\n",
       "      <th>1</th>\n",
       "      <td>2</td>\n",
       "      <td>1</td>\n",
       "      <td>1</td>\n",
       "      <td>Cumings, Mrs. John Bradley (Florence Briggs Th...</td>\n",
       "      <td>female</td>\n",
       "      <td>38.0</td>\n",
       "      <td>1</td>\n",
       "      <td>0</td>\n",
       "      <td>PC 17599</td>\n",
       "      <td>71.2833</td>\n",
       "      <td>C85</td>\n",
       "      <td>C</td>\n",
       "    </tr>\n",
       "    <tr>\n",
       "      <th>2</th>\n",
       "      <td>3</td>\n",
       "      <td>1</td>\n",
       "      <td>3</td>\n",
       "      <td>Heikkinen, Miss. Laina</td>\n",
       "      <td>female</td>\n",
       "      <td>26.0</td>\n",
       "      <td>0</td>\n",
       "      <td>0</td>\n",
       "      <td>STON/O2. 3101282</td>\n",
       "      <td>7.9250</td>\n",
       "      <td>NaN</td>\n",
       "      <td>S</td>\n",
       "    </tr>\n",
       "    <tr>\n",
       "      <th>3</th>\n",
       "      <td>4</td>\n",
       "      <td>1</td>\n",
       "      <td>1</td>\n",
       "      <td>Futrelle, Mrs. Jacques Heath (Lily May Peel)</td>\n",
       "      <td>female</td>\n",
       "      <td>35.0</td>\n",
       "      <td>1</td>\n",
       "      <td>0</td>\n",
       "      <td>113803</td>\n",
       "      <td>53.1000</td>\n",
       "      <td>C123</td>\n",
       "      <td>S</td>\n",
       "    </tr>\n",
       "    <tr>\n",
       "      <th>4</th>\n",
       "      <td>5</td>\n",
       "      <td>0</td>\n",
       "      <td>3</td>\n",
       "      <td>Allen, Mr. William Henry</td>\n",
       "      <td>male</td>\n",
       "      <td>35.0</td>\n",
       "      <td>0</td>\n",
       "      <td>0</td>\n",
       "      <td>373450</td>\n",
       "      <td>8.0500</td>\n",
       "      <td>NaN</td>\n",
       "      <td>S</td>\n",
       "    </tr>\n",
       "  </tbody>\n",
       "</table>\n",
       "</div>"
      ],
      "text/plain": [
       "   PassengerId  Survived  Pclass    ...        Fare Cabin  Embarked\n",
       "0            1         0       3    ...      7.2500   NaN         S\n",
       "1            2         1       1    ...     71.2833   C85         C\n",
       "2            3         1       3    ...      7.9250   NaN         S\n",
       "3            4         1       1    ...     53.1000  C123         S\n",
       "4            5         0       3    ...      8.0500   NaN         S\n",
       "\n",
       "[5 rows x 12 columns]"
      ]
     },
     "execution_count": 5,
     "metadata": {},
     "output_type": "execute_result"
    }
   ],
   "source": [
    "# モデル作成用データの上から5行を表示\n",
    "# 参考: train_df.head(7) # 上から7行表示\n",
    "train_df.head()"
   ]
  },
  {
   "cell_type": "code",
   "execution_count": 6,
   "metadata": {
    "_uuid": "396149f7b3382de0d4d8de5f21f04d8b2ade66a1"
   },
   "outputs": [
    {
     "data": {
      "text/html": [
       "<div>\n",
       "<style scoped>\n",
       "    .dataframe tbody tr th:only-of-type {\n",
       "        vertical-align: middle;\n",
       "    }\n",
       "\n",
       "    .dataframe tbody tr th {\n",
       "        vertical-align: top;\n",
       "    }\n",
       "\n",
       "    .dataframe thead th {\n",
       "        text-align: right;\n",
       "    }\n",
       "</style>\n",
       "<table border=\"1\" class=\"dataframe\">\n",
       "  <thead>\n",
       "    <tr style=\"text-align: right;\">\n",
       "      <th></th>\n",
       "      <th>PassengerId</th>\n",
       "      <th>Pclass</th>\n",
       "      <th>Name</th>\n",
       "      <th>Sex</th>\n",
       "      <th>Age</th>\n",
       "      <th>SibSp</th>\n",
       "      <th>Parch</th>\n",
       "      <th>Ticket</th>\n",
       "      <th>Fare</th>\n",
       "      <th>Cabin</th>\n",
       "      <th>Embarked</th>\n",
       "    </tr>\n",
       "  </thead>\n",
       "  <tbody>\n",
       "    <tr>\n",
       "      <th>0</th>\n",
       "      <td>892</td>\n",
       "      <td>3</td>\n",
       "      <td>Kelly, Mr. James</td>\n",
       "      <td>male</td>\n",
       "      <td>34.5</td>\n",
       "      <td>0</td>\n",
       "      <td>0</td>\n",
       "      <td>330911</td>\n",
       "      <td>7.8292</td>\n",
       "      <td>NaN</td>\n",
       "      <td>Q</td>\n",
       "    </tr>\n",
       "    <tr>\n",
       "      <th>1</th>\n",
       "      <td>893</td>\n",
       "      <td>3</td>\n",
       "      <td>Wilkes, Mrs. James (Ellen Needs)</td>\n",
       "      <td>female</td>\n",
       "      <td>47.0</td>\n",
       "      <td>1</td>\n",
       "      <td>0</td>\n",
       "      <td>363272</td>\n",
       "      <td>7.0000</td>\n",
       "      <td>NaN</td>\n",
       "      <td>S</td>\n",
       "    </tr>\n",
       "    <tr>\n",
       "      <th>2</th>\n",
       "      <td>894</td>\n",
       "      <td>2</td>\n",
       "      <td>Myles, Mr. Thomas Francis</td>\n",
       "      <td>male</td>\n",
       "      <td>62.0</td>\n",
       "      <td>0</td>\n",
       "      <td>0</td>\n",
       "      <td>240276</td>\n",
       "      <td>9.6875</td>\n",
       "      <td>NaN</td>\n",
       "      <td>Q</td>\n",
       "    </tr>\n",
       "    <tr>\n",
       "      <th>3</th>\n",
       "      <td>895</td>\n",
       "      <td>3</td>\n",
       "      <td>Wirz, Mr. Albert</td>\n",
       "      <td>male</td>\n",
       "      <td>27.0</td>\n",
       "      <td>0</td>\n",
       "      <td>0</td>\n",
       "      <td>315154</td>\n",
       "      <td>8.6625</td>\n",
       "      <td>NaN</td>\n",
       "      <td>S</td>\n",
       "    </tr>\n",
       "    <tr>\n",
       "      <th>4</th>\n",
       "      <td>896</td>\n",
       "      <td>3</td>\n",
       "      <td>Hirvonen, Mrs. Alexander (Helga E Lindqvist)</td>\n",
       "      <td>female</td>\n",
       "      <td>22.0</td>\n",
       "      <td>1</td>\n",
       "      <td>1</td>\n",
       "      <td>3101298</td>\n",
       "      <td>12.2875</td>\n",
       "      <td>NaN</td>\n",
       "      <td>S</td>\n",
       "    </tr>\n",
       "  </tbody>\n",
       "</table>\n",
       "</div>"
      ],
      "text/plain": [
       "   PassengerId  Pclass   ...    Cabin Embarked\n",
       "0          892       3   ...      NaN        Q\n",
       "1          893       3   ...      NaN        S\n",
       "2          894       2   ...      NaN        Q\n",
       "3          895       3   ...      NaN        S\n",
       "4          896       3   ...      NaN        S\n",
       "\n",
       "[5 rows x 11 columns]"
      ]
     },
     "execution_count": 6,
     "metadata": {},
     "output_type": "execute_result"
    }
   ],
   "source": [
    "# 予測対象データの上から5行を表示\n",
    "# Survivedの列（生存か死亡かを表す）がないことが確認できる\n",
    "test_df.head()"
   ]
  },
  {
   "cell_type": "markdown",
   "metadata": {
    "_uuid": "0e55e984bbaa82fdbdee7c7244162aea0dd4803d"
   },
   "source": [
    "`head`  \n",
    "ドキュメント: https://pandas.pydata.org/pandas-docs/stable/reference/api/pandas.DataFrame.head.html"
   ]
  },
  {
   "cell_type": "code",
   "execution_count": 7,
   "metadata": {
    "_uuid": "8fee68e0970b6d1d8f8363fec7032694c05876e9"
   },
   "outputs": [
    {
     "name": "stdout",
     "output_type": "stream",
     "text": [
      "<class 'pandas.core.frame.DataFrame'>\n",
      "RangeIndex: 891 entries, 0 to 890\n",
      "Data columns (total 12 columns):\n",
      "PassengerId    891 non-null int64\n",
      "Survived       891 non-null int64\n",
      "Pclass         891 non-null int64\n",
      "Name           891 non-null object\n",
      "Sex            891 non-null object\n",
      "Age            714 non-null float64\n",
      "SibSp          891 non-null int64\n",
      "Parch          891 non-null int64\n",
      "Ticket         891 non-null object\n",
      "Fare           891 non-null float64\n",
      "Cabin          204 non-null object\n",
      "Embarked       889 non-null object\n",
      "dtypes: float64(2), int64(5), object(5)\n",
      "memory usage: 83.6+ KB\n"
     ]
    }
   ],
   "source": [
    "# モデル作成用データの情報を確認\n",
    "train_df.info()"
   ]
  },
  {
   "cell_type": "code",
   "execution_count": 8,
   "metadata": {
    "_uuid": "5313cd4db853ceb6f5e09e9bfb8a37df278f16a0"
   },
   "outputs": [
    {
     "name": "stdout",
     "output_type": "stream",
     "text": [
      "<class 'pandas.core.frame.DataFrame'>\n",
      "RangeIndex: 418 entries, 0 to 417\n",
      "Data columns (total 11 columns):\n",
      "PassengerId    418 non-null int64\n",
      "Pclass         418 non-null int64\n",
      "Name           418 non-null object\n",
      "Sex            418 non-null object\n",
      "Age            332 non-null float64\n",
      "SibSp          418 non-null int64\n",
      "Parch          418 non-null int64\n",
      "Ticket         418 non-null object\n",
      "Fare           417 non-null float64\n",
      "Cabin          91 non-null object\n",
      "Embarked       418 non-null object\n",
      "dtypes: float64(2), int64(4), object(5)\n",
      "memory usage: 36.0+ KB\n"
     ]
    }
   ],
   "source": [
    "# 予測対象データの情報を確認\n",
    "test_df.info()"
   ]
  },
  {
   "cell_type": "markdown",
   "metadata": {
    "_uuid": "9b86455b77dfbfdb8f5905e61a4227e37c914a3b"
   },
   "source": [
    "`info`  \n",
    "解説: https://note.nkmk.me/python-pandas-len-shape-size/  \n",
    "ドキュメント: https://pandas.pydata.org/pandas-docs/stable/reference/api/pandas.DataFrame.info.html"
   ]
  },
  {
   "cell_type": "markdown",
   "metadata": {
    "_uuid": "167716b1debadbf441c33bd89f478243130e1a38"
   },
   "source": [
    "| infoによる情報 | 意味 |\n",
    "| ----|---- | \n",
    "| int | 整数 |\n",
    "| float | 浮動小数点数 |\n",
    "| object | 文字列 |"
   ]
  },
  {
   "cell_type": "markdown",
   "metadata": {
    "_uuid": "e24224735ca20796ab15c84f5984cda34a107f53"
   },
   "source": [
    "| データの情報 | 列名 |　意味 |\n",
    "| ----- | ----- | ----- |\n",
    "| int | PassengerId | 乗客ID |\n",
    "| int | **Pclass** | チケットの等級 (1, 2, 3) |\n",
    "| int | SibSp | 同乗した兄弟姉妹/配偶者の人数 |\n",
    "| int | Parch | 同乗した両親/子供の人数 |\n",
    "| int | *Survived* | 0：死亡、1：生存 |\n",
    "| float | **Age** | 年齢（推測があるため、浮動小数点数） |\n",
    "| float | Fare | 運賃 |\n",
    "| object | Name | 氏名 |\n",
    "| object | **Sex** | 性別 |\n",
    "| object | Ticket | チケット番号 |\n",
    "| object | Cabin | 船室番号　|\n",
    "| object | **Embarked** | 乗船した港の頭文字(S, Q, C) |\n",
    "\n",
    "ref: https://www.kaggle.com/c/titanic/data"
   ]
  },
  {
   "cell_type": "markdown",
   "metadata": {
    "_uuid": "d36eab66fb45bc71b54361e79ef0a0dead78810e"
   },
   "source": [
    "infoの情報に、train_dfでは891よりも少ない数の列、  \n",
    "test_dfでは418よりも少ない数の列があった。  \n",
    "→欠けたデータについては後ほど前処理で扱います"
   ]
  },
  {
   "cell_type": "markdown",
   "metadata": {
    "_uuid": "3433b4f2b6ef3f56d140638bcc9b016aa20078df"
   },
   "source": [
    "## 1. 分析\n",
    "\n",
    "可視化するためのコードは [2019/03開催ハンズオンのKernel](https://www.kaggle.com/ftnext/kaggle-spzcolab-201903) を参照してください  \n",
    "（今回は可視化した結果だけを扱います）"
   ]
  },
  {
   "cell_type": "markdown",
   "metadata": {},
   "source": [
    "モデル作成用データのSurvivedについてヒストグラムを描画  \n",
    "ヒストグラム: 区間に含まれるデータの個数を表す。個数を柱の高さに反映させる\n",
    "\n",
    "![](https://raw.githubusercontent.com/ftnext/2019_slides/master/spz_Jun_titanic_handson3/assets/survived_hist.png)"
   ]
  },
  {
   "cell_type": "markdown",
   "metadata": {
    "_uuid": "8f72ec471b43b177fa6e63cf3d80473d3b4be04f"
   },
   "source": [
    "- 左側: 0=死亡、右側: 1=生存\n",
    "- 生存者（右側）は死亡者（左側）の半分くらい\n",
    "- → 生存率は1/3くらい"
   ]
  },
  {
   "cell_type": "markdown",
   "metadata": {},
   "source": [
    "モデル作成用データについて、SexとSurvivedを可視化  \n",
    "\n",
    "![](https://raw.githubusercontent.com/ftnext/2019_slides/master/spz_online_titanic_handson/assets/survived_per_sex.png)\n",
    "\n",
    "左側の図が男性について、右側の図が女性について"
   ]
  },
  {
   "cell_type": "markdown",
   "metadata": {
    "_uuid": "58289f43357c9bd71314d465fea5f0da261afda7"
   },
   "source": [
    "- 男性の生存率は低い（左側の柱より右側の柱のほうが低い）\n",
    "- 女性の生存率は高い（左側の柱よりも右側の柱のほうが高い）\n",
    "- → 性別は生死を予測する際に有力な情報と考えられる\n",
    "- 人数は男性の方が多い（男性550名、女性300名）"
   ]
  },
  {
   "cell_type": "markdown",
   "metadata": {},
   "source": [
    "モデル作成用データのAgeについてヒストグラムを作成（8歳で一つの柱としている）  \n",
    "1つの柱のうち、生存者と死亡者を色分けして表示している  \n",
    "\n",
    "![](https://raw.githubusercontent.com/ftnext/2019_slides/master/spz_online_titanic_handson/assets/age_hist_stacked_survived.png)"
   ]
  },
  {
   "cell_type": "markdown",
   "metadata": {
    "_uuid": "4608957b970612741b63b6b8ddb5b7827a612c99"
   },
   "source": [
    "助かっている割合が高い年齢層は0歳〜8歳（半数以上）、10代前半、30代後半、50〜60歳（半数程度）  \n",
    "→ Ageは生死を予測する際に有力な情報と考えられる"
   ]
  },
  {
   "cell_type": "markdown",
   "metadata": {},
   "source": [
    "モデル作成用データのPclass=1,2,3それぞれについて、Survivedのヒストグラムを描画\n",
    "\n",
    "![](https://raw.githubusercontent.com/ftnext/2019_slides/master/spz_online_titanic_handson/assets/survived_per_pclass.png)"
   ]
  },
  {
   "cell_type": "markdown",
   "metadata": {
    "_uuid": "a0ca219121f5bb401b2a6d782ef92152a41d36a2"
   },
   "source": [
    "- Pclass=1は生存者が過半数を超えている\n",
    "- Pclass=2は生存者が半分程度\n",
    "- Pclass=3は生存者が少ない（4分の1程度）\n",
    "- →Pclassも生死の予測に使える\n",
    "- 人数（概算）の多い順に並べると、Pclass=3(500名), 1(220名), 2(180名)"
   ]
  },
  {
   "cell_type": "markdown",
   "metadata": {},
   "source": [
    "モデル作成用データのEmbarked=S,Q,Cそれぞれについて、Survivedのヒストグラムを描画\n",
    "\n",
    "![](https://raw.githubusercontent.com/ftnext/2019_slides/master/spz_online_titanic_handson/assets/survived_per_embarked.png)"
   ]
  },
  {
   "cell_type": "markdown",
   "metadata": {
    "_uuid": "14e5a1a7b7c1f57d3e02d4c93bbccbdec01b0d55"
   },
   "source": [
    "- 港Cは生存者が半分程度\n",
    "- 港S, Qは生存者が3分の1程度\n",
    "- →Embarkedも生死の予測に加えてみる"
   ]
  },
  {
   "cell_type": "markdown",
   "metadata": {},
   "source": [
    "## 連絡：もくもくタイムではここから下のセルを順に実行してください\n",
    "\n",
    "Noteがあるセルは別のサンプルコードに置き換えが試せます"
   ]
  },
  {
   "cell_type": "markdown",
   "metadata": {
    "_uuid": "bdfaa2b5d850f3353eced7993c025acdd8602c83"
   },
   "source": [
    "## 2-A. 前処理\n",
    "\n",
    "1. 欠損値\n",
    "1. カテゴリ変数"
   ]
  },
  {
   "cell_type": "code",
   "execution_count": 9,
   "metadata": {
    "_uuid": "3b6590d451ee88077805d359d494abc3eeeb6cc4"
   },
   "outputs": [],
   "source": [
    "# ここまでの分析を元に、以下の4つの情報から生死を予測することにする\n",
    "columns = ['Age', 'Pclass', 'Sex', 'Embarked']"
   ]
  },
  {
   "cell_type": "code",
   "execution_count": 10,
   "metadata": {
    "_uuid": "38127c4a98a9322e908cd8e8ef8dcb6549bb3df1"
   },
   "outputs": [],
   "source": [
    "# モデルが予測に使う情報をX, モデルが予測する情報（ここでは生死）をyとする（Xとyという変数名が多い）\n",
    "X = train_df[columns].copy()\n",
    "y = train_df['Survived']\n",
    "# 予測対象データについて、予測に使う情報を取り出しておく\n",
    "X_test = test_df[columns].copy()"
   ]
  },
  {
   "cell_type": "code",
   "execution_count": 11,
   "metadata": {
    "_uuid": "41f8c0cdacbc0ff9570929a8a6baa2580021a752"
   },
   "outputs": [
    {
     "data": {
      "text/html": [
       "<div>\n",
       "<style scoped>\n",
       "    .dataframe tbody tr th:only-of-type {\n",
       "        vertical-align: middle;\n",
       "    }\n",
       "\n",
       "    .dataframe tbody tr th {\n",
       "        vertical-align: top;\n",
       "    }\n",
       "\n",
       "    .dataframe thead th {\n",
       "        text-align: right;\n",
       "    }\n",
       "</style>\n",
       "<table border=\"1\" class=\"dataframe\">\n",
       "  <thead>\n",
       "    <tr style=\"text-align: right;\">\n",
       "      <th></th>\n",
       "      <th>Age</th>\n",
       "      <th>Pclass</th>\n",
       "      <th>Sex</th>\n",
       "      <th>Embarked</th>\n",
       "    </tr>\n",
       "  </thead>\n",
       "  <tbody>\n",
       "    <tr>\n",
       "      <th>0</th>\n",
       "      <td>22.0</td>\n",
       "      <td>3</td>\n",
       "      <td>male</td>\n",
       "      <td>S</td>\n",
       "    </tr>\n",
       "    <tr>\n",
       "      <th>1</th>\n",
       "      <td>38.0</td>\n",
       "      <td>1</td>\n",
       "      <td>female</td>\n",
       "      <td>C</td>\n",
       "    </tr>\n",
       "    <tr>\n",
       "      <th>2</th>\n",
       "      <td>26.0</td>\n",
       "      <td>3</td>\n",
       "      <td>female</td>\n",
       "      <td>S</td>\n",
       "    </tr>\n",
       "    <tr>\n",
       "      <th>3</th>\n",
       "      <td>35.0</td>\n",
       "      <td>1</td>\n",
       "      <td>female</td>\n",
       "      <td>S</td>\n",
       "    </tr>\n",
       "    <tr>\n",
       "      <th>4</th>\n",
       "      <td>35.0</td>\n",
       "      <td>3</td>\n",
       "      <td>male</td>\n",
       "      <td>S</td>\n",
       "    </tr>\n",
       "  </tbody>\n",
       "</table>\n",
       "</div>"
      ],
      "text/plain": [
       "    Age  Pclass     Sex Embarked\n",
       "0  22.0       3    male        S\n",
       "1  38.0       1  female        C\n",
       "2  26.0       3  female        S\n",
       "3  35.0       1  female        S\n",
       "4  35.0       3    male        S"
      ]
     },
     "execution_count": 11,
     "metadata": {},
     "output_type": "execute_result"
    }
   ],
   "source": [
    "X.head()"
   ]
  },
  {
   "cell_type": "code",
   "execution_count": 12,
   "metadata": {
    "_uuid": "e6be4a7e4ab1dda2d633cd2777b2b45e56371ddc"
   },
   "outputs": [
    {
     "data": {
      "text/plain": [
       "Age         177\n",
       "Pclass        0\n",
       "Sex           0\n",
       "Embarked      2\n",
       "dtype: int64"
      ]
     },
     "execution_count": 12,
     "metadata": {},
     "output_type": "execute_result"
    }
   ],
   "source": [
    "# モデル作成用データの欠損値の確認\n",
    "X.isnull().sum()"
   ]
  },
  {
   "cell_type": "code",
   "execution_count": 13,
   "metadata": {
    "_uuid": "cc7b658bc09beaf8fa1fc2ea0fa8ca058720c596"
   },
   "outputs": [
    {
     "data": {
      "text/plain": [
       "Age         86\n",
       "Pclass       0\n",
       "Sex          0\n",
       "Embarked     0\n",
       "dtype: int64"
      ]
     },
     "execution_count": 13,
     "metadata": {},
     "output_type": "execute_result"
    }
   ],
   "source": [
    "# 予測対象データの欠損値の確認\n",
    "X_test.isnull().sum()"
   ]
  },
  {
   "cell_type": "markdown",
   "metadata": {
    "_uuid": "cc7b658bc09beaf8fa1fc2ea0fa8ca058720c596"
   },
   "source": [
    "`isnull().sum()`  \n",
    "参考: https://note.nkmk.me/python-pandas-nan-judge-count/"
   ]
  },
  {
   "cell_type": "markdown",
   "metadata": {
    "_uuid": "4a5cca3fbad874c92e1912dd1f7d3531a0f899b9"
   },
   "source": [
    "欠けたデータがある列\n",
    "\n",
    "| データ種別 | 列名 | 欠け具合 |\n",
    "| ----- | ----- | ----- |\n",
    "| モデル作成用・性能評価用 | **Age** | 20%程度 |\n",
    "| モデル作成用 | **Embarked** | 数件 |"
   ]
  },
  {
   "cell_type": "markdown",
   "metadata": {
    "_uuid": "6f6ce29051148dfdadc14814b43d8bf6a9d12f33"
   },
   "source": [
    "- 欠けたデータ＝**欠損値**（missing value、欠測値とも呼ばれる）  \n",
    "- 欠損の要因：データの収集過程で抜けてしまったなど\n",
    "- 機械学習のツールは **一般に欠損値に対処できない**（そのためデータを前処理する）\n",
    "- 削除すると貴重なデータが減るので、**埋める**"
   ]
  },
  {
   "cell_type": "markdown",
   "metadata": {
    "_uuid": "46f9342245cd114b8ea266e1b4041ea698875741"
   },
   "source": [
    "### 2-A 1.欠損値を埋める\n",
    "\n",
    "- Age\n",
    "- Embarked"
   ]
  },
  {
   "cell_type": "markdown",
   "metadata": {
    "_uuid": "97a3d9f7ec887bd5d9890a2aec7d0240e1677d08"
   },
   "source": [
    "埋めるのに使うデータ\n",
    "\n",
    "- Age: モデル作成用データの平均値（=年齢の総和/個数）\n",
    "- Embarked: モデル作成用データで一番多く登場する値（一番多くの人が乗っている港）"
   ]
  },
  {
   "cell_type": "code",
   "execution_count": 14,
   "metadata": {
    "_uuid": "1e392cdb9284ead55663b4f96ff6364d05552768"
   },
   "outputs": [
    {
     "name": "stdout",
     "output_type": "stream",
     "text": [
      "Age mean: 29.69911764705882\n"
     ]
    }
   ],
   "source": [
    "# Ageの欠損を平均値で埋める\n",
    "# **Note**: もくもくタイムで他の埋め方を試す際は、このセルを置き換えます\n",
    "age_mean = X['Age'].mean()\n",
    "print(f'Age mean: {age_mean}')\n",
    "X['AgeFill'] = X['Age'].fillna(age_mean)\n",
    "X_test['AgeFill'] = X_test['Age'].fillna(age_mean)"
   ]
  },
  {
   "cell_type": "markdown",
   "metadata": {
    "_uuid": "a5bf96e35abfc85aa5cccdc6d65694586528402f"
   },
   "source": [
    "`mean`  \n",
    "参考: https://deepage.net/features/pandas-mean.html  \n",
    "ドキュメント: https://pandas.pydata.org/pandas-docs/stable/reference/api/pandas.Series.mean.html"
   ]
  },
  {
   "cell_type": "markdown",
   "metadata": {
    "_uuid": "b41dcdfdad508bb5c66c62861eae104c87ef3cb6"
   },
   "source": [
    "`fillna`  \n",
    "参考: https://note.nkmk.me/python-pandas-nan-dropna-fillna/  \n",
    "ドキュメント: https://pandas.pydata.org/pandas-docs/stable/reference/api/pandas.DataFrame.fillna.html"
   ]
  },
  {
   "cell_type": "code",
   "execution_count": 15,
   "metadata": {
    "_uuid": "767faedddc624268f3f8e785794ff48636805daf"
   },
   "outputs": [],
   "source": [
    "# 欠損を含むAge列を削除（年齢の情報はAgeFill列を参照する）\n",
    "X = X.drop(['Age'], axis=1)\n",
    "X_test = X_test.drop(['Age'], axis=1)"
   ]
  },
  {
   "cell_type": "markdown",
   "metadata": {
    "_uuid": "9e2f9ee52cb9088a6ad9f6857a2e46fd939b3e84"
   },
   "source": [
    "`drop`  \n",
    "参考: https://note.nkmk.me/python-pandas-drop/  \n",
    "ドキュメント: https://pandas.pydata.org/pandas-docs/stable/reference/api/pandas.DataFrame.drop.html"
   ]
  },
  {
   "cell_type": "code",
   "execution_count": 16,
   "metadata": {
    "_uuid": "360757fd4fced2a9d60a59a6b57867ac4331d80e"
   },
   "outputs": [
    {
     "name": "stdout",
     "output_type": "stream",
     "text": [
      "Embarked freq: S\n"
     ]
    }
   ],
   "source": [
    "# Embarkedの欠損値を埋める\n",
    "embarked_freq = X['Embarked'].mode()[0]\n",
    "print(f'Embarked freq: {embarked_freq}')\n",
    "X['Embarked'] = X['Embarked'].fillna(embarked_freq)\n",
    "# X_testにEmbarkedの欠損値がないため、実施しない"
   ]
  },
  {
   "cell_type": "markdown",
   "metadata": {
    "_uuid": "a7f9844d23383a62c9e9beb50722b4ecd7c744ec"
   },
   "source": [
    "`mode`  \n",
    "参考: https://note.nkmk.me/python-pandas-mode/  \n",
    "ドキュメント: https://pandas.pydata.org/pandas-docs/stable/reference/api/pandas.Series.mode.html"
   ]
  },
  {
   "cell_type": "code",
   "execution_count": 17,
   "metadata": {
    "_uuid": "e6be4a7e4ab1dda2d633cd2777b2b45e56371ddc"
   },
   "outputs": [
    {
     "data": {
      "text/plain": [
       "Pclass      0\n",
       "Sex         0\n",
       "Embarked    0\n",
       "AgeFill     0\n",
       "dtype: int64"
      ]
     },
     "execution_count": 17,
     "metadata": {},
     "output_type": "execute_result"
    }
   ],
   "source": [
    "# モデル作成用データの欠損値(Embarked, AgeFill)が埋まったことを確認\n",
    "X.isnull().sum()"
   ]
  },
  {
   "cell_type": "code",
   "execution_count": 18,
   "metadata": {
    "_uuid": "cc7b658bc09beaf8fa1fc2ea0fa8ca058720c596"
   },
   "outputs": [
    {
     "data": {
      "text/plain": [
       "Pclass      0\n",
       "Sex         0\n",
       "Embarked    0\n",
       "AgeFill     0\n",
       "dtype: int64"
      ]
     },
     "execution_count": 18,
     "metadata": {},
     "output_type": "execute_result"
    }
   ],
   "source": [
    "# 予測対象データの欠損値が埋まったことを確認\n",
    "X_test.isnull().sum()"
   ]
  },
  {
   "cell_type": "markdown",
   "metadata": {
    "_uuid": "1e94db06aa65e16f583114bf512928a946445c4b"
   },
   "source": [
    "### 1-A 2.カテゴリ変数を数値化する\n",
    "\n",
    "- Sex（male, female）\n",
    "- Embarked(S, Q, C)"
   ]
  },
  {
   "cell_type": "markdown",
   "metadata": {
    "_uuid": "aaf0f66e132db42d17086c89d6eb083dcac5d0fa"
   },
   "source": [
    "- カテゴリ変数とは、いくつかの文字列の値を取る変数\n",
    "    - Sex: male, female\n",
    "    - Embarked: S, Q, C　（乗船した港の頭文字）\n",
    "- 文字列を整数に変換する\n",
    "    - Sex: male=1, female=0として置き換え\n",
    "    - Embarked: ダミー変数化（後述）"
   ]
  },
  {
   "cell_type": "code",
   "execution_count": 19,
   "metadata": {
    "_uuid": "f0c30016b756fcb47f748f2177b2b8f9c2fee307"
   },
   "outputs": [],
   "source": [
    "# 性別（female/male）を0/1に変換する（maleとfemaleのままではsklearnが扱えない）\n",
    "# カテゴリを整数に置き換えるための辞書を用意\n",
    "gender_map = {'female': 0, 'male': 1}\n",
    "# 引数の辞書のキー（コロンの左側）に一致する要素が、辞書の値（コロンの右側）に置き換わる（femaleが0に置き換わり、maleが1に置き換わる）\n",
    "# 注: Sexの取りうる値はfemaleかmale\n",
    "X['Gender'] = X['Sex'].map(gender_map).astype(int)\n",
    "X_test['Gender'] = X_test['Sex'].map(gender_map).astype(int)"
   ]
  },
  {
   "cell_type": "markdown",
   "metadata": {
    "_uuid": "fe3ce2c3f8fea59b861ffda21c900921975b2014"
   },
   "source": [
    "`map`  \n",
    "参考: https://note.nkmk.me/python-pandas-map-replace/  \n",
    "ドキュメント: https://pandas.pydata.org/pandas-docs/stable/reference/api/pandas.Series.map.html"
   ]
  },
  {
   "cell_type": "code",
   "execution_count": 20,
   "metadata": {
    "_uuid": "058b8098c0c4c7d8cd0095b9db9423bb32c6b791"
   },
   "outputs": [],
   "source": [
    "# Sexに代えてGenderを使うため、Sex列を削除する\n",
    "X = X.drop(['Sex'], axis=1)\n",
    "X_test = X_test.drop(['Sex'], axis=1)"
   ]
  },
  {
   "cell_type": "markdown",
   "metadata": {
    "_uuid": "a9c09d0c92a076202a75212cbbb8adfe6448cb89"
   },
   "source": [
    "Embarkedのダミー変数化について\n",
    "\n",
    "- S=1, Q=2, C=3と整数に置き換える\n",
    "    - **本来なかった大小関係が想定されてしまう**\n",
    "- (S, Q, C)という形式で整数に置き換える\n",
    "\n",
    "| Embarkedの値 | 置き換えたあと |\n",
    "| ----- | ----- |\n",
    "| S | (1, 0, 0) |\n",
    "| Q | (0, 1, 0) |\n",
    "| C | (0, 0, 1) |"
   ]
  },
  {
   "cell_type": "code",
   "execution_count": 21,
   "metadata": {
    "_uuid": "84dbe8476404c0b1dd4f3ed61a0adb13792e83f3"
   },
   "outputs": [],
   "source": [
    "# Embarked（S, Q, Cという3カテゴリ）をダミー変数にする\n",
    "# （Embarked列が消え、Embarked_S, Embarked_Q, Embarked_C列が追加される）\n",
    "X = pd.get_dummies(X, columns=['Embarked'])\n",
    "X_test = pd.get_dummies(X_test, columns=['Embarked'])"
   ]
  },
  {
   "cell_type": "markdown",
   "metadata": {
    "_uuid": "ccf7610fcfbe42ec74414db5337a2f26420dd39d"
   },
   "source": [
    "`get_dummies`  \n",
    "参考: https://note.nkmk.me/python-pandas-get-dummies/  \n",
    "ドキュメント: https://pandas.pydata.org/pandas-docs/stable/reference/api/pandas.get_dummies.html"
   ]
  },
  {
   "cell_type": "code",
   "execution_count": 22,
   "metadata": {
    "_uuid": "7f74d6042e6a98f95c7886b3e8b3f089aed82f20"
   },
   "outputs": [
    {
     "data": {
      "text/html": [
       "<div>\n",
       "<style scoped>\n",
       "    .dataframe tbody tr th:only-of-type {\n",
       "        vertical-align: middle;\n",
       "    }\n",
       "\n",
       "    .dataframe tbody tr th {\n",
       "        vertical-align: top;\n",
       "    }\n",
       "\n",
       "    .dataframe thead th {\n",
       "        text-align: right;\n",
       "    }\n",
       "</style>\n",
       "<table border=\"1\" class=\"dataframe\">\n",
       "  <thead>\n",
       "    <tr style=\"text-align: right;\">\n",
       "      <th></th>\n",
       "      <th>Pclass</th>\n",
       "      <th>AgeFill</th>\n",
       "      <th>Gender</th>\n",
       "      <th>Embarked_C</th>\n",
       "      <th>Embarked_Q</th>\n",
       "      <th>Embarked_S</th>\n",
       "    </tr>\n",
       "  </thead>\n",
       "  <tbody>\n",
       "    <tr>\n",
       "      <th>0</th>\n",
       "      <td>3</td>\n",
       "      <td>22.0</td>\n",
       "      <td>1</td>\n",
       "      <td>0</td>\n",
       "      <td>0</td>\n",
       "      <td>1</td>\n",
       "    </tr>\n",
       "    <tr>\n",
       "      <th>1</th>\n",
       "      <td>1</td>\n",
       "      <td>38.0</td>\n",
       "      <td>0</td>\n",
       "      <td>1</td>\n",
       "      <td>0</td>\n",
       "      <td>0</td>\n",
       "    </tr>\n",
       "    <tr>\n",
       "      <th>2</th>\n",
       "      <td>3</td>\n",
       "      <td>26.0</td>\n",
       "      <td>0</td>\n",
       "      <td>0</td>\n",
       "      <td>0</td>\n",
       "      <td>1</td>\n",
       "    </tr>\n",
       "    <tr>\n",
       "      <th>3</th>\n",
       "      <td>1</td>\n",
       "      <td>35.0</td>\n",
       "      <td>0</td>\n",
       "      <td>0</td>\n",
       "      <td>0</td>\n",
       "      <td>1</td>\n",
       "    </tr>\n",
       "    <tr>\n",
       "      <th>4</th>\n",
       "      <td>3</td>\n",
       "      <td>35.0</td>\n",
       "      <td>1</td>\n",
       "      <td>0</td>\n",
       "      <td>0</td>\n",
       "      <td>1</td>\n",
       "    </tr>\n",
       "  </tbody>\n",
       "</table>\n",
       "</div>"
      ],
      "text/plain": [
       "   Pclass  AgeFill  Gender  Embarked_C  Embarked_Q  Embarked_S\n",
       "0       3     22.0       1           0           0           1\n",
       "1       1     38.0       0           1           0           0\n",
       "2       3     26.0       0           0           0           1\n",
       "3       1     35.0       0           0           0           1\n",
       "4       3     35.0       1           0           0           1"
      ]
     },
     "execution_count": 22,
     "metadata": {},
     "output_type": "execute_result"
    }
   ],
   "source": [
    "# 前処理したモデル作成用データの確認\n",
    "X.head()"
   ]
  },
  {
   "cell_type": "code",
   "execution_count": 23,
   "metadata": {
    "_uuid": "ae4c0d70c4b4f639a5066dfa0d3488bd6ff31bf7"
   },
   "outputs": [
    {
     "data": {
      "text/html": [
       "<div>\n",
       "<style scoped>\n",
       "    .dataframe tbody tr th:only-of-type {\n",
       "        vertical-align: middle;\n",
       "    }\n",
       "\n",
       "    .dataframe tbody tr th {\n",
       "        vertical-align: top;\n",
       "    }\n",
       "\n",
       "    .dataframe thead th {\n",
       "        text-align: right;\n",
       "    }\n",
       "</style>\n",
       "<table border=\"1\" class=\"dataframe\">\n",
       "  <thead>\n",
       "    <tr style=\"text-align: right;\">\n",
       "      <th></th>\n",
       "      <th>Pclass</th>\n",
       "      <th>AgeFill</th>\n",
       "      <th>Gender</th>\n",
       "      <th>Embarked_C</th>\n",
       "      <th>Embarked_Q</th>\n",
       "      <th>Embarked_S</th>\n",
       "    </tr>\n",
       "  </thead>\n",
       "  <tbody>\n",
       "    <tr>\n",
       "      <th>0</th>\n",
       "      <td>3</td>\n",
       "      <td>34.5</td>\n",
       "      <td>1</td>\n",
       "      <td>0</td>\n",
       "      <td>1</td>\n",
       "      <td>0</td>\n",
       "    </tr>\n",
       "    <tr>\n",
       "      <th>1</th>\n",
       "      <td>3</td>\n",
       "      <td>47.0</td>\n",
       "      <td>0</td>\n",
       "      <td>0</td>\n",
       "      <td>0</td>\n",
       "      <td>1</td>\n",
       "    </tr>\n",
       "    <tr>\n",
       "      <th>2</th>\n",
       "      <td>2</td>\n",
       "      <td>62.0</td>\n",
       "      <td>1</td>\n",
       "      <td>0</td>\n",
       "      <td>1</td>\n",
       "      <td>0</td>\n",
       "    </tr>\n",
       "    <tr>\n",
       "      <th>3</th>\n",
       "      <td>3</td>\n",
       "      <td>27.0</td>\n",
       "      <td>1</td>\n",
       "      <td>0</td>\n",
       "      <td>0</td>\n",
       "      <td>1</td>\n",
       "    </tr>\n",
       "    <tr>\n",
       "      <th>4</th>\n",
       "      <td>3</td>\n",
       "      <td>22.0</td>\n",
       "      <td>0</td>\n",
       "      <td>0</td>\n",
       "      <td>0</td>\n",
       "      <td>1</td>\n",
       "    </tr>\n",
       "  </tbody>\n",
       "</table>\n",
       "</div>"
      ],
      "text/plain": [
       "   Pclass  AgeFill  Gender  Embarked_C  Embarked_Q  Embarked_S\n",
       "0       3     34.5       1           0           1           0\n",
       "1       3     47.0       0           0           0           1\n",
       "2       2     62.0       1           0           1           0\n",
       "3       3     27.0       1           0           0           1\n",
       "4       3     22.0       0           0           0           1"
      ]
     },
     "execution_count": 23,
     "metadata": {},
     "output_type": "execute_result"
    }
   ],
   "source": [
    "# 前処理した予測対象データの確認\n",
    "X_test.head()"
   ]
  },
  {
   "cell_type": "markdown",
   "metadata": {
    "_uuid": "ad9750cdad36be1b0569bbbf46d7e123fccef64d"
   },
   "source": [
    "## 2-B. モデル作成\n",
    "\n",
    "モデルはモデル作成用データにアルゴリズムを適用して作成する。  \n",
    "今回はアルゴリズムにロジスティック回帰を使う（後ほど変更も試せます）  \n",
    "\n",
    "ドキュメント(ロジスティック関数): https://scikit-learn.org/stable/auto_examples/linear_model/plot_logistic.html"
   ]
  },
  {
   "cell_type": "code",
   "execution_count": 24,
   "metadata": {
    "_uuid": "2fadac5efca744f9aab968d1b51ab7591cbed06f"
   },
   "outputs": [],
   "source": [
    "# モデル作成・性能評価に使うモジュールの読み込み\n",
    "from sklearn.linear_model import LogisticRegression\n",
    "from sklearn.metrics import accuracy_score\n",
    "from sklearn.model_selection import train_test_split\n",
    "from sklearn.tree import DecisionTreeClassifier"
   ]
  },
  {
   "cell_type": "markdown",
   "metadata": {
    "_uuid": "a07a42f98a6585bddaed7f062fbd56f852faf03b"
   },
   "source": [
    "このあとモデルを作成するが、予測対象データについて生死を予測する前に、  \n",
    "どの程度の性能のモデルなのか確認したい。  \n",
    "→モデル作成用データをランダムに2つに分ける（`train_test_split`）\n",
    "\n",
    "- モデル作成用データのうち、例えば7割でモデルを作る\n",
    "- 残りの3割でモデルの性能を評価する\n",
    "\n",
    "![](https://raw.githubusercontent.com/ftnext/2019_slides/master/spz_Jan_titanic_handson/assets/201901kaggel_talk.010.png)\n",
    "\n",
    "参考情報\n",
    "\n",
    "- ランダムに分けているが、`random_state`引数の値が同じなら、**何回実行しても同じ** ようにランダムに分かれる"
   ]
  },
  {
   "cell_type": "code",
   "execution_count": 25,
   "metadata": {
    "_uuid": "2e265192a98cecd770899eeb223b768e25b736ae"
   },
   "outputs": [],
   "source": [
    "# 今回のハンズオンは7:3に分けて進める\n",
    "X_train, X_val, y_train, y_val = train_test_split(X, y, test_size=0.3, random_state=1)"
   ]
  },
  {
   "cell_type": "markdown",
   "metadata": {
    "_uuid": "d81fe7d9e0e5e18b34f62ac72bf04466b694ea42"
   },
   "source": [
    "`train_test_split`  \n",
    "参考: https://docs.pyq.jp/python/machine_learning/tips/train_test_split.html  \n",
    "ドキュメント: https://scikit-learn.org/stable/modules/generated/sklearn.model_selection.train_test_split.html"
   ]
  },
  {
   "cell_type": "markdown",
   "metadata": {
    "_uuid": "f0568ada7f8aada0ff02000fe944a8a136fdaad6"
   },
   "source": [
    "| 変数名 | 用途 |\n",
    "| ----- | ----- |\n",
    "| X_train | モデル作成用のデータ（乗客の属性） |\n",
    "| y_train | モデル作成用のデータ（生死） |\n",
    "| X_val | モデルの性能確認用のデータ（乗客の属性） |\n",
    "| y_val | モデルの性能確認用のデータ（生死） |"
   ]
  },
  {
   "cell_type": "code",
   "execution_count": 26,
   "metadata": {
    "_uuid": "7d837f2e0c8d24f6640d759c80b63e3c468924e0"
   },
   "outputs": [
    {
     "data": {
      "text/plain": [
       "623"
      ]
     },
     "execution_count": 26,
     "metadata": {},
     "output_type": "execute_result"
    }
   ],
   "source": [
    "# モデル作成用のデータの数の確認\n",
    "len(y_train)"
   ]
  },
  {
   "cell_type": "code",
   "execution_count": 27,
   "metadata": {
    "_uuid": "8d393db840989c0bb5262bc821122421bf8b522f"
   },
   "outputs": [
    {
     "data": {
      "text/plain": [
       "268"
      ]
     },
     "execution_count": 27,
     "metadata": {},
     "output_type": "execute_result"
    }
   ],
   "source": [
    "# モデル性能確認用のデータの数の確認\n",
    "len(y_val)"
   ]
  },
  {
   "cell_type": "code",
   "execution_count": 28,
   "metadata": {
    "_uuid": "cdf685a0444a5412229e394ee1a11ce854114b63"
   },
   "outputs": [
    {
     "data": {
      "text/plain": [
       "LogisticRegression(C=1.0, class_weight=None, dual=False, fit_intercept=True,\n",
       "          intercept_scaling=1, max_iter=100, multi_class='warn',\n",
       "          n_jobs=None, penalty='l2', random_state=1, solver='liblinear',\n",
       "          tol=0.0001, verbose=0, warm_start=False)"
      ]
     },
     "execution_count": 28,
     "metadata": {},
     "output_type": "execute_result"
    }
   ],
   "source": [
    "# ロジスティック回帰というアルゴリズムを使ったモデルを用意\n",
    "# **Note**: もくもくタイムで別のアルゴリズムを試すことも出ます（このセルを置き換えます）\n",
    "model = LogisticRegression(random_state=1, solver='liblinear')\n",
    "# モデル作成は以下の1行（ここまでの前処理に対してたった1行！）で完了する\n",
    "model.fit(X_train, y_train)"
   ]
  },
  {
   "cell_type": "markdown",
   "metadata": {
    "_uuid": "e652b8a1ea66c81b23bdf494b1e9047e4a9865db"
   },
   "source": [
    "## 2-C. 性能確認\n",
    "\n",
    "タイタニックの場合、モデルの性能はaccuracyというスコアで評価される  \n",
    "（**注**：性能を表すスコアは他にもある）\n",
    "\n",
    "- 418名のうち生死を正しく予想できたものの割合\n",
    "- 1に近いほど性能がよい\n",
    "\n",
    "| ケース | 正解／誤り |\n",
    "| ----- | ----- |\n",
    "| 生存した乗客を生存と予測 | 正解 |\n",
    "| 生存した乗客を死亡と予測 | 誤り |\n",
    "| 死亡した乗客を生存と予測 | 誤り |\n",
    "| 死亡した乗客を死亡と予測 | 正解 |\n",
    "\n",
    "accuracy = (正解の総数) / (正解の総数 + 誤りの総数)\n",
    "\n",
    ">Your score is the percentage of passengers you correctly predict. This is known simply as \"accuracy”.\n",
    "\n",
    "ref: https://www.kaggle.com/c/titanic#evaluation"
   ]
  },
  {
   "cell_type": "code",
   "execution_count": 29,
   "metadata": {
    "_uuid": "a063293d2167961907aa65fe4cc2f504bdc86a16"
   },
   "outputs": [
    {
     "data": {
      "text/plain": [
       "0.7723880597014925"
      ]
     },
     "execution_count": 29,
     "metadata": {},
     "output_type": "execute_result"
    }
   ],
   "source": [
    "# モデル性能確認用データについて生死を予測\n",
    "pred = model.predict(X_val)\n",
    "# accuracyを算出して表示\n",
    "accuracy_score(y_val, pred)"
   ]
  },
  {
   "cell_type": "markdown",
   "metadata": {
    "_uuid": "abdf38022a47dee4890ca7e5d692972ca1bdf570"
   },
   "source": [
    "`accuracy_score`  \n",
    "ドキュメント: https://scikit-learn.org/stable/modules/generated/sklearn.metrics.accuracy_score.html"
   ]
  },
  {
   "cell_type": "markdown",
   "metadata": {
    "_uuid": "9da8b7d4bdd7c0a45b244dd5489bb5b074304dfc"
   },
   "source": [
    "初回はすぐ提出。  \n",
    "別のモデルを作ったときに、以前に作ったモデルよりスコアが低ければ、提出しないという判断ができる  \n",
    "（Kaggleに提出しなくても試行錯誤が進められる。提出回数には日次の上限がある）"
   ]
  },
  {
   "cell_type": "markdown",
   "metadata": {
    "_uuid": "3db5d5be38078c0947737831b895af5e25a4c9c4"
   },
   "source": [
    "## 3. 予測対象データの生死を予測\n",
    "\n",
    "- 予測対象データ（418件）について予測したあと、提出用データを作る\n",
    "- 提出用データは以下の形式のCSVとするように指定されている（1が生存、0が死亡）\n",
    "\n",
    "PassengerId | Survived\n",
    "----- | -----\n",
    "892 | 0\n",
    ": | :\n",
    "1309|1\n",
    "\n",
    "- ref: https://www.kaggle.com/c/titanic#evaluation"
   ]
  },
  {
   "cell_type": "code",
   "execution_count": 30,
   "metadata": {
    "_uuid": "6f8f1f89df8a2845df1840288c04a8cc51213e0c"
   },
   "outputs": [],
   "source": [
    "# 予測対象データについて生死を予測\n",
    "pred = model.predict(X_test)"
   ]
  },
  {
   "cell_type": "code",
   "execution_count": 31,
   "metadata": {
    "_uuid": "048198f3fda1818008d2e7b20b6bacce37109c53"
   },
   "outputs": [],
   "source": [
    "# colabでの実行の際は省略\n",
    "# # 提出用データの形式に変換\n",
    "# submission = pd.DataFrame({\n",
    "#     'PassengerId': test_df['PassengerId'],\n",
    "#     'Survived': pred\n",
    "# })\n",
    "# # 提出用データ作成\n",
    "# submission.to_csv('submission.csv', index=False)"
   ]
  },
  {
   "cell_type": "markdown",
   "metadata": {
    "_uuid": "3f70e884b01eef5bc942a5ca73a8c17a8f7f6b27"
   },
   "source": [
    "## 参考: 提出練習データを提出してみる"
   ]
  },
  {
   "cell_type": "code",
   "execution_count": 32,
   "metadata": {
    "_uuid": "0ffee8e8d4f95d220255ed8d6a0a6d21cbaa9ab9"
   },
   "outputs": [],
   "source": [
    "# 以下のコードはお手元では実行不要です\n",
    "# import pandas as pd\n",
    "# gender_submission_df = pd.read_csv('../input/gender_submission.csv')\n",
    "# gender_submission_df.to_csv('submission.csv', index=False)"
   ]
  },
  {
   "cell_type": "markdown",
   "metadata": {
    "_uuid": "f01462b982b057daa411cd90db965dda2efb1ebd"
   },
   "source": [
    "## 精度を上げるために\n",
    "\n",
    "精度が変わる方法（上がらない場合もあります）\n",
    "\n",
    "- Ageの欠損の埋め方を見直す\n",
    "- モデルのアルゴリズムを変える"
   ]
  },
  {
   "cell_type": "markdown",
   "metadata": {
    "_uuid": "666d99e0c21a6fbbe17a9d22e8a295fd63f738be"
   },
   "source": [
    "### Ageの欠損の埋め方を見直す\n",
    "\n",
    "- （案1） 中央値で埋める\n",
    "- （案2） Sexに応じて年齢を埋める\n",
    "- （案3） Pclassに応じて年齢を埋める\n",
    "\n",
    "KernelをEditする際、平均値で埋めた部分を以下のいずれかに置き換えてみてください。  \n",
    "現状コメント扱いにしているため、コードとして実行するには、始めと終わりの`\"\"\"`を削除する必要があります"
   ]
  },
  {
   "cell_type": "code",
   "execution_count": 33,
   "metadata": {
    "_uuid": "38666dabde97e6a087663d5db4232fbc38e6a808"
   },
   "outputs": [
    {
     "data": {
      "text/plain": [
       "\"\\nage_median = X['Age'].median()\\nprint(f'Age mean: {age_median}')\\nX['AgeFill'] = X['Age'].fillna(age_median)\\nX_test['AgeFill'] = X_test['Age'].fillna(age_median)\\n\""
      ]
     },
     "execution_count": 33,
     "metadata": {},
     "output_type": "execute_result"
    }
   ],
   "source": [
    "# （案1） 中央値で埋める（年齢を大きい順に並べたときに中央に来る値。平均値とは異なる値となることが多い）\n",
    "\"\"\"\n",
    "age_median = X['Age'].median()\n",
    "print(f'Age mean: {age_median}')\n",
    "X['AgeFill'] = X['Age'].fillna(age_median)\n",
    "X_test['AgeFill'] = X_test['Age'].fillna(age_median)\n",
    "\"\"\""
   ]
  },
  {
   "cell_type": "markdown",
   "metadata": {
    "_uuid": "cb5eceb042086829f4a64e4203b5cbc3a8aa1f4e"
   },
   "source": [
    "`median`  \n",
    "ドキュメント: https://pandas.pydata.org/pandas-docs/stable/reference/api/pandas.Series.median.html"
   ]
  },
  {
   "cell_type": "code",
   "execution_count": 34,
   "metadata": {
    "_uuid": "0cca156daf48b448aacf8daec7b0aea460c424b9"
   },
   "outputs": [],
   "source": [
    "# (案2) 仮説: 年齢の平均値は性別ごとに違うのでは？\n",
    "# AgeFill列を作る前に、性別ごとの年齢の平均値を確認\n",
    "# X[['Sex', 'Age']].groupby('Sex').mean()"
   ]
  },
  {
   "cell_type": "code",
   "execution_count": 35,
   "metadata": {
    "_uuid": "4af4a488e030532e9a9787e942a9c0103c1b7427"
   },
   "outputs": [
    {
     "data": {
      "text/plain": [
       "\"\\ndef age_by_sex(col):\\n    '''col: [age, sex]と想定'''\\n    age, sex = col\\n    if pd.isna(age): # Ageが欠損の場合の処理\\n        if sex == 'male':\\n            return 31\\n        elif sex == 'female':\\n            return 28\\n        else: # 整数に変更したsexが含まれる場合など\\n            print('Sexがmale/female以外の値をとっています')\\n            return -1\\n    else: # Ageが欠損していない場合の処理\\n        return age\\n# train_dfからAgeとSexの2列を取り出し、各行についてage_by_sex関数を適用\\n# age_by_sex関数の返り値でAge列の値を上書きする（欠損の場合は、値が埋められる）\\nX['AgeFill'] = X[['Age', 'Sex']].apply(age_by_sex, axis=1)\\nX_test['AgeFill'] = X_test[['Age', 'Sex']].apply(age_by_sex, axis=1)\\n\""
      ]
     },
     "execution_count": 35,
     "metadata": {},
     "output_type": "execute_result"
    }
   ],
   "source": [
    "# （案2）確認すると、男性の平均年齢 31歳、女性の平均年齢 28歳\n",
    "\"\"\"\n",
    "def age_by_sex(col):\n",
    "    '''col: [age, sex]と想定'''\n",
    "    age, sex = col\n",
    "    if pd.isna(age): # Ageが欠損の場合の処理\n",
    "        if sex == 'male':\n",
    "            return 31\n",
    "        elif sex == 'female':\n",
    "            return 28\n",
    "        else: # 整数に変更したsexが含まれる場合など\n",
    "            print('Sexがmale/female以外の値をとっています')\n",
    "            return -1\n",
    "    else: # Ageが欠損していない場合の処理\n",
    "        return age\n",
    "# train_dfからAgeとSexの2列を取り出し、各行についてage_by_sex関数を適用\n",
    "# age_by_sex関数の返り値でAge列の値を上書きする（欠損の場合は、値が埋められる）\n",
    "X['AgeFill'] = X[['Age', 'Sex']].apply(age_by_sex, axis=1)\n",
    "X_test['AgeFill'] = X_test[['Age', 'Sex']].apply(age_by_sex, axis=1)\n",
    "\"\"\""
   ]
  },
  {
   "cell_type": "code",
   "execution_count": 36,
   "metadata": {
    "_uuid": "bbec728562b5f602a840736a3d2b019a4baad84c"
   },
   "outputs": [],
   "source": [
    "# (案3) 仮説: 年齢の平均値はチケットの階級ごとに違うのでは？（年齢高い→お金持っている→いいチケット）\n",
    "# AgeFill列を作る前に、チケットの等級ごとの年齢の平均値を確認\n",
    "# X[['Pclass', 'Age']].groupby('Pclass').mean()"
   ]
  },
  {
   "cell_type": "code",
   "execution_count": 37,
   "metadata": {
    "_uuid": "c1384752245acf87fa5cc66206f5476b5e629dea"
   },
   "outputs": [
    {
     "data": {
      "text/plain": [
       "\"\\ndef age_by_pclass(col):\\n    '''col: [age, pclass]と想定'''\\n    age, pclass = col\\n    if pd.isna(age): # Ageが欠損の場合の処理\\n        if pclass == 1:\\n            return 38\\n        elif pclass == 2:\\n            return 30\\n        else: # pclass == 3に相当する\\n            return 25\\n    else: # Ageが欠損していない場合の処理\\n        return age\\nX['AgeFill'] = X[['Age', 'Pclass']].apply(age_by_pclass, axis=1)\\nX_test['AgeFill'] = X_test[['Age', 'Pclass']].apply(age_by_pclass, axis=1)\\n\""
      ]
     },
     "execution_count": 37,
     "metadata": {},
     "output_type": "execute_result"
    }
   ],
   "source": [
    "# （案3） pclass==1 38歳、pclass==2 30歳、pclass==3 25歳\n",
    "\"\"\"\n",
    "def age_by_pclass(col):\n",
    "    '''col: [age, pclass]と想定'''\n",
    "    age, pclass = col\n",
    "    if pd.isna(age): # Ageが欠損の場合の処理\n",
    "        if pclass == 1:\n",
    "            return 38\n",
    "        elif pclass == 2:\n",
    "            return 30\n",
    "        else: # pclass == 3に相当する\n",
    "            return 25\n",
    "    else: # Ageが欠損していない場合の処理\n",
    "        return age\n",
    "X['AgeFill'] = X[['Age', 'Pclass']].apply(age_by_pclass, axis=1)\n",
    "X_test['AgeFill'] = X_test[['Age', 'Pclass']].apply(age_by_pclass, axis=1)\n",
    "\"\"\""
   ]
  },
  {
   "cell_type": "markdown",
   "metadata": {
    "_uuid": "a8b3f0f18912c4586baf0b709db4643639860f86"
   },
   "source": [
    "`groupby`  \n",
    "参考: https://note.nkmk.me/python-pandas-groupby-statistics/  \n",
    "ドキュメント: http://pandas.pydata.org/pandas-docs/stable/reference/api/pandas.DataFrame.groupby.html"
   ]
  },
  {
   "cell_type": "markdown",
   "metadata": {
    "_uuid": "4633a8ce8588d46256f0d59f0b966064dcfa7a11"
   },
   "source": [
    "`isna`  \n",
    "ドキュメント: http://pandas.pydata.org/pandas-docs/stable/reference/api/pandas.isna.html"
   ]
  },
  {
   "cell_type": "markdown",
   "metadata": {
    "_uuid": "08b39652efed0955d8c9f5d87a61b1759bdb4b08"
   },
   "source": [
    "`apply`  \n",
    "参考: https://note.nkmk.me/python-pandas-map-applymap-apply/  \n",
    "ドキュメント: http://pandas.pydata.org/pandas-docs/stable/reference/api/pandas.DataFrame.apply.html"
   ]
  },
  {
   "cell_type": "markdown",
   "metadata": {
    "_uuid": "fb14c6ccea642a356204e659b6ea68c89373ac5d"
   },
   "source": [
    "### モデルのアルゴリズムを変える\n",
    "\n",
    "決定木を試す  \n",
    "\n",
    "参考: https://scikit-learn.org/stable/modules/tree.html#classification  \n",
    "ドキュメント: https://scikit-learn.org/stable/modules/generated/sklearn.tree.DecisionTreeClassifier.html"
   ]
  },
  {
   "cell_type": "code",
   "execution_count": 38,
   "metadata": {
    "_uuid": "765434988edc3415024a1324bfebaa98e2591c89"
   },
   "outputs": [
    {
     "data": {
      "text/plain": [
       "\"\\n# 決定木というアルゴリズムを使ったモデルを用意\\nmodel = DecisionTreeClassifier(random_state=1, criterion='entropy', max_depth=3, min_samples_leaf=2)\\n# モデル作成は以下の1行（ここまでの前処理に対してたった1行！）で完了する\\nmodel.fit(X_train, y_train)\\n\""
      ]
     },
     "execution_count": 38,
     "metadata": {},
     "output_type": "execute_result"
    }
   ],
   "source": [
    "\"\"\"\n",
    "# 決定木というアルゴリズムを使ったモデルを用意\n",
    "model = DecisionTreeClassifier(random_state=1, criterion='entropy', max_depth=3, min_samples_leaf=2)\n",
    "# モデル作成は以下の1行（ここまでの前処理に対してたった1行！）で完了する\n",
    "model.fit(X_train, y_train)\n",
    "\"\"\""
   ]
  },
  {
   "cell_type": "markdown",
   "metadata": {
    "_uuid": "f009268f79fe9dd39a0f275af6e60c29c782306e"
   },
   "source": [
    "### 変更履歴\n",
    "https://www.kaggle.com/ftnext/kaggle-spzcolab-201903 をベースに作成  \n",
    "配信は初の試みなので、分析のコードを削って分量調整"
   ]
  }
 ],
 "metadata": {
  "kernelspec": {
   "display_name": "Python 3",
   "language": "python",
   "name": "python3"
  },
  "language_info": {
   "codemirror_mode": {
    "name": "ipython",
    "version": 3
   },
   "file_extension": ".py",
   "mimetype": "text/x-python",
   "name": "python",
   "nbconvert_exporter": "python",
   "pygments_lexer": "ipython3",
   "version": "3.7.3"
  }
 },
 "nbformat": 4,
 "nbformat_minor": 1
}
