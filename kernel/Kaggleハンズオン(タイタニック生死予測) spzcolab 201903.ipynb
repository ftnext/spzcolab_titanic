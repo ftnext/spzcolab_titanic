{
 "cells": [
  {
   "cell_type": "markdown",
   "metadata": {
    "_cell_guid": "b1076dfc-b9ad-4769-8c92-a6c4dae69d19",
    "_uuid": "8f2839f25d086af736a60e9eeb907d3b93b6e0e5"
   },
   "source": [
    "## このカーネルについて\n",
    "\n",
    "2019/03開催[Kaggleタイタニックハンズオン（サポーターズ勉強会）](https://supporterzcolab.com/event/740/)用のkernelです。  \n",
    "ハンズオンパートで使います\n",
    "\n",
    "1. データを可視化して分析する\n",
    "2. モデル作成を一緒に一回やってkernelの操作に慣れる\n",
    "3. もくもくタイムで各自試行錯誤（コード片を組み合わせる）"
   ]
  },
  {
   "cell_type": "markdown",
   "metadata": {
    "_cell_guid": "79c7e3d0-c299-4dcb-8224-4455121ee9b0",
    "_uuid": "d629ff2d2480ee46fbb7e2d37f6b5fab8052498a",
    "collapsed": true
   },
   "source": [
    "## 基本操作\n",
    "\n",
    "コードが書かれているブロックを **セル** と呼びます。  \n",
    "\n",
    "1. セルをクリックして選択する（入力できる状態になる）\n",
    "2. 選択したセルを実行する\n",
    "    - 入力できる状態でShift+Enterキーを押す（こちらに慣れると簡単です）\n",
    "    - 左側に表示される再生ボタン▶をクリック"
   ]
  },
  {
   "cell_type": "markdown",
   "metadata": {
    "_uuid": "e61a21e29e422d59c393565c5424ab05d5a131db"
   },
   "source": [
    "## このカーネルでやること\n",
    "\n",
    "1. 分析\n",
    "1. モデル作成用データから乗客の生存／死亡を予測するモデルを作る\n",
    "    1. 前処理\n",
    "    2. モデル作成\n",
    "    3. 性能確認\n",
    "2. 2で作ったモデルで予測対象データについて予測する（その後、Kaggleに提出する）"
   ]
  },
  {
   "cell_type": "code",
   "execution_count": null,
   "metadata": {
    "_uuid": "1cfc40de1ea79f50218d9ad0c978c51594353d01"
   },
   "outputs": [],
   "source": [
    "# 前処理に必要なモジュールの読み込み\n",
    "import numpy as np\n",
    "import pandas as pd"
   ]
  },
  {
   "cell_type": "code",
   "execution_count": null,
   "metadata": {
    "_uuid": "b96d14ecfcdce433391946bbb681379306e3a7ec"
   },
   "outputs": [],
   "source": [
    "# 可視化に必要なモジュールの読み込み\n",
    "import matplotlib.pyplot as plt\n",
    "# グラフを埋め込んで表示する指定\n",
    "%matplotlib inline\n",
    "# グラフのスタイルの設定（グラフにグリッド線が表示されるようにする）\n",
    "plt.style.use('ggplot')"
   ]
  },
  {
   "cell_type": "markdown",
   "metadata": {
    "_uuid": "15f58440178d2240f490af07ecb4ae57d26100fa"
   },
   "source": [
    "タイタニックコンペでは以下のフォルダ配置となる。これを踏まえて、相対パスでデータを指定する\n",
    "\n",
    "- ┣ ディレクトリ\n",
    "    - ┗ 現在のkernel\n",
    "- ┗ input/\n",
    "    - ┣ train.csv（モデル作成用データ）\n",
    "    - ┣ test.csv（予測対象データ）\n",
    "    - ┗ gender_submission.csv（提出練習用データ）"
   ]
  },
  {
   "cell_type": "code",
   "execution_count": null,
   "metadata": {
    "_uuid": "c51e5fd74bfa4eeb84c1aadfebc8f059190fc596"
   },
   "outputs": [],
   "source": [
    "# 読み込んだデータはExcelの表のような形式で扱う（行と列がある）\n",
    "# モデル作成用データの読み込み（生存か死亡か知っているデータ）\n",
    "train_df = pd.read_csv('https://raw.githubusercontent.com/ftnext/spzcolab_titanic/master/input/train.csv')\n",
    "# 予測対象データの読み込み（生存か死亡か知らないデータ）\n",
    "test_df = pd.read_csv('https://raw.githubusercontent.com/ftnext/spzcolab_titanic/master/input/test.csv')"
   ]
  },
  {
   "cell_type": "markdown",
   "metadata": {
    "_uuid": "f98367e6902032fe3c05b240baceaa85cc8b59e4"
   },
   "source": [
    "`read_csv`  \n",
    "解説: https://note.nkmk.me/python-pandas-read-csv-tsv/  \n",
    "ドキュメント: https://pandas.pydata.org/pandas-docs/stable/reference/api/pandas.read_csv.html"
   ]
  },
  {
   "cell_type": "code",
   "execution_count": null,
   "metadata": {
    "_uuid": "a8fce89b69183148bacdad4507f474af93900d01"
   },
   "outputs": [],
   "source": [
    "# モデル作成用データのサイズを確認\n",
    "# (行数, 列数) で表示される\n",
    "train_df.shape"
   ]
  },
  {
   "cell_type": "code",
   "execution_count": null,
   "metadata": {
    "_uuid": "31250ea2947935237bcd038686dd3b52fa968c30"
   },
   "outputs": [],
   "source": [
    "# 予測対象データのサイズを確認\n",
    "# モデル作成用データに対して1列少ない\n",
    "test_df.shape"
   ]
  },
  {
   "cell_type": "markdown",
   "metadata": {
    "_uuid": "e492a2390deb2451771e3e9ff856da8a672244ab"
   },
   "source": [
    "`shape`  \n",
    "ドキュメント: https://pandas.pydata.org/pandas-docs/stable/reference/api/pandas.DataFrame.shape.html"
   ]
  },
  {
   "cell_type": "code",
   "execution_count": null,
   "metadata": {
    "_uuid": "0539904b0e0c8ad1f9be69de3288275ff8761e9d"
   },
   "outputs": [],
   "source": [
    "# モデル作成用データの上から5行を表示\n",
    "# 参考: train_df.head(7) # 上から7行表示\n",
    "train_df.head()"
   ]
  },
  {
   "cell_type": "code",
   "execution_count": null,
   "metadata": {
    "_uuid": "396149f7b3382de0d4d8de5f21f04d8b2ade66a1"
   },
   "outputs": [],
   "source": [
    "# 予測対象データの上から5行を表示\n",
    "# Survivedの列（生存か死亡かを表す）がないことが確認できる\n",
    "test_df.head()"
   ]
  },
  {
   "cell_type": "markdown",
   "metadata": {
    "_uuid": "0e55e984bbaa82fdbdee7c7244162aea0dd4803d"
   },
   "source": [
    "`head`  \n",
    "ドキュメント: https://pandas.pydata.org/pandas-docs/stable/reference/api/pandas.DataFrame.head.html"
   ]
  },
  {
   "cell_type": "code",
   "execution_count": null,
   "metadata": {
    "_uuid": "8fee68e0970b6d1d8f8363fec7032694c05876e9"
   },
   "outputs": [],
   "source": [
    "# モデル作成用データの情報を確認\n",
    "train_df.info()"
   ]
  },
  {
   "cell_type": "code",
   "execution_count": null,
   "metadata": {
    "_uuid": "5313cd4db853ceb6f5e09e9bfb8a37df278f16a0"
   },
   "outputs": [],
   "source": [
    "# 予測対象データの情報を確認\n",
    "test_df.info()"
   ]
  },
  {
   "cell_type": "markdown",
   "metadata": {
    "_uuid": "9b86455b77dfbfdb8f5905e61a4227e37c914a3b"
   },
   "source": [
    "`info`  \n",
    "解説: https://note.nkmk.me/python-pandas-len-shape-size/  \n",
    "ドキュメント: https://pandas.pydata.org/pandas-docs/stable/reference/api/pandas.DataFrame.info.html"
   ]
  },
  {
   "cell_type": "markdown",
   "metadata": {
    "_uuid": "167716b1debadbf441c33bd89f478243130e1a38"
   },
   "source": [
    "| infoによる情報 | 意味 |\n",
    "| ----|---- | \n",
    "| int | 整数 |\n",
    "| float | 浮動小数点数 |\n",
    "| object | 文字列 |"
   ]
  },
  {
   "cell_type": "markdown",
   "metadata": {
    "_uuid": "e24224735ca20796ab15c84f5984cda34a107f53"
   },
   "source": [
    "| データの情報 | 列名 |　意味 |\n",
    "| ----- | ----- | ----- |\n",
    "| int | PassengerId | 乗客ID |\n",
    "| int | **Pclass** | チケットの等級 (1, 2, 3) |\n",
    "| int | SibSp | 同乗した兄弟姉妹/配偶者の人数 |\n",
    "| int | Parch | 同乗した両親/子供の人数 |\n",
    "| int | *Survived* | 0：死亡、1：生存 |\n",
    "| float | **Age** | 年齢（推測があるため、浮動小数点数） |\n",
    "| float | Fare | 運賃 |\n",
    "| object | Name | 氏名 |\n",
    "| object | **Sex** | 性別 |\n",
    "| object | Ticket | チケット番号 |\n",
    "| object | Cabin | 船室番号　|\n",
    "| object | **Embarked** | 乗船した港の頭文字(S, Q, C) |\n",
    "\n",
    "ref: https://www.kaggle.com/c/titanic/data"
   ]
  },
  {
   "cell_type": "markdown",
   "metadata": {
    "_uuid": "d36eab66fb45bc71b54361e79ef0a0dead78810e"
   },
   "source": [
    "infoの情報に、train_dfでは891よりも少ない数の列、  \n",
    "test_dfでは418よりも少ない数の列があった。  \n",
    "→欠けたデータについては後ほど前処理で扱います"
   ]
  },
  {
   "cell_type": "markdown",
   "metadata": {
    "_uuid": "3433b4f2b6ef3f56d140638bcc9b016aa20078df"
   },
   "source": [
    "## 1. 分析"
   ]
  },
  {
   "cell_type": "code",
   "execution_count": null,
   "metadata": {
    "_uuid": "0447cfcbc8cd834a78f60d4dd394706b4ada2594"
   },
   "outputs": [],
   "source": [
    "# 生死についてヒストグラムを描画(pandasのメソッド)\n",
    "# ヒストグラム: 区間に含まれるデータの個数を表す。個数を柱の高さに反映させる\n",
    "# - alpha: ヒストグラムの描画色の透過度\n",
    "# - kind: 描画するグラフの種類（今回はヒストグラムを指定）\n",
    "# - bins：ヒストグラムにおけるデータの区間の数（生死が取りうる値は0か1。区間は2つなので、0の数と1の数に分かれる）\n",
    "train_df['Survived'].plot(alpha=0.6, kind='hist', bins=2)\n",
    "plt.xlabel('Survived') # x軸ラベルの設定\n",
    "plt.ylabel('N') # y軸ラベルの設定\n",
    "plt.show() # これまでに設定したものを描画"
   ]
  },
  {
   "cell_type": "markdown",
   "metadata": {
    "_uuid": "8f72ec471b43b177fa6e63cf3d80473d3b4be04f"
   },
   "source": [
    "- 左側: 0=死亡、右側: 1=生存\n",
    "- 生存者（右側）は死亡者（左側）の半分くらい\n",
    "- → 生存率は1/3くらい"
   ]
  },
  {
   "cell_type": "markdown",
   "metadata": {
    "_uuid": "2bdb780294ac6700ea374118ef960239e7191b00"
   },
   "source": [
    "`plot`  \n",
    "参考: https://note.nkmk.me/python-pandas-plot/  \n",
    "ドキュメント:  https://pandas.pydata.org/pandas-docs/stable/reference/api/pandas.DataFrame.plot.html"
   ]
  },
  {
   "cell_type": "code",
   "execution_count": null,
   "metadata": {
    "_uuid": "c254b09ba9d190d804224a1d29ceb95e727488fe"
   },
   "outputs": [],
   "source": [
    "# 性別ごとに生死のヒストグラムを表示（ヒストグラムを横に並べて表示する）\n",
    "# 描画領域と1つ1つのグラフを設定（描画領域はfig、グラフはaxesというリストに入れて一括で扱う）\n",
    "# 1行2列の描画領域とし、1列目(左側)に男性の生死のヒストグラム、2列目(右側)に女性の生死のヒストグラムを表示\n",
    "fig, axes = plt.subplots(nrows=1, ncols=2, figsize=(8, 4))\n",
    "\n",
    "for i, sex in enumerate(['male', 'female']):\n",
    "    # for文は2回回る。1回目: i=0, sex='male'    2回目: i=1, sex='female'\n",
    "    # Survived列のうち該当するSexのレコードを抽出し、ヒストグラムを描画\n",
    "    # 引数axに描画領域中の描画位置を指定（ここでは、axes[0]が左側、axes[1]が右側）\n",
    "    # → つまり、左側に男性の生死のヒストグラム、右側に女性の生死のヒストグラム\n",
    "    train_df[train_df['Sex']==sex]['Survived'].plot(alpha=0.6, kind='hist', bins=2, ax=axes[i])\n",
    "    axes[i].set_title(sex)\n",
    "\n",
    "plt.show()"
   ]
  },
  {
   "cell_type": "markdown",
   "metadata": {
    "_uuid": "58289f43357c9bd71314d465fea5f0da261afda7"
   },
   "source": [
    "- 男性の生存率は低い（左側より右側のほうが低い）\n",
    "- 女性の生存率は高い（左側よりも右側のほうが高い）\n",
    "- → 性別は生死を予測する際に有力な情報と考えられる\n",
    "- 人数は男性の方が多い（男性550名、女性300名）"
   ]
  },
  {
   "cell_type": "markdown",
   "metadata": {
    "_uuid": "fae19a3b9f71ddbc36a8c02147f442343e61bcf3"
   },
   "source": [
    "`train_df[train_df['Sex']==sex]['Survived']`  \n",
    "train_dfの中で、Sexがsex(maleまたはfemale)と一致する行のうちのSurvived列を取り出している  \n",
    "（続く`.plot`でヒストグラムを描画）  \n",
    "  \n",
    "参考: 列の取り出し https://note.nkmk.me/python-pandas-index-row-column/  \n",
    "参考: 真偽値で行の取り出し https://note.nkmk.me/python-pandas-multiple-conditions/  \n",
    "ドキュメント: 10 minutes pandasの中のSelection https://pandas.pydata.org/pandas-docs/stable/getting_started/10min.html#selection\n"
   ]
  },
  {
   "cell_type": "code",
   "execution_count": null,
   "metadata": {
    "_uuid": "4ed0c17989d66525df60b21c70589421f48da647"
   },
   "outputs": [],
   "source": [
    "# 年齢の幅\n",
    "print(f'min age: {train_df[\"Age\"].min()}')\n",
    "print(f'max age: {train_df[\"Age\"].max()}')"
   ]
  },
  {
   "cell_type": "code",
   "execution_count": null,
   "metadata": {
    "_uuid": "f1f9145b186009134513ada6b227c05c85714693"
   },
   "outputs": [],
   "source": [
    "# 年齢のヒストグラム（生存／死亡数の積み上げ）を描画（どの年齢層が助かりやすいのか？）\n",
    "# 欠損値は描画できないため、一時的に削除する（tmp_dfは欠損値を持たないが、train_dfは欠損値を持つ）\n",
    "tmp_df = train_df.dropna(subset=['Age'])\n",
    "# matplotlibのメソッドでヒストグラムを描画\n",
    "# [死亡者の年齢、生存者の年齢]の順で渡している→同一区間で積み上げて描画される\n",
    "# - range: ヒストグラムの範囲（0歳〜80歳）\n",
    "# - stacked: 積み上げの有効無効設定\n",
    "plt.hist([tmp_df[(tmp_df['Survived']==0)]['Age'],\n",
    "          tmp_df[(tmp_df['Survived']==1)]['Age']],\n",
    "          alpha=0.6, range=(0,80), bins=10, stacked=True,\n",
    "          label=('Died', 'Survived'))\n",
    "plt.legend(['die', 'survived'])\n",
    "plt.xlabel('Age')\n",
    "plt.ylabel('N')\n",
    "plt.show()"
   ]
  },
  {
   "cell_type": "markdown",
   "metadata": {
    "_uuid": "4608957b970612741b63b6b8ddb5b7827a612c99"
   },
   "source": [
    "0〜80歳を10分割なので、約8歳ずつ分割される  \n",
    "助かっている割合が高い年齢層は0歳〜8歳（半数以上）、10代前半、30代後半、50〜60歳（半数程度）"
   ]
  },
  {
   "cell_type": "code",
   "execution_count": null,
   "metadata": {
    "_uuid": "c95effc9625fda37242a9433d95585191c2e18a2",
    "scrolled": true
   },
   "outputs": [],
   "source": [
    "# 性別ごとに年齢のヒストグラム（生存／死亡数の積み上げ）を描画\n",
    "# 欠損値は描画できないため、一時的に削除する（tmp_dfは欠損値を持たないが、train_dfは欠損値を持つ）\n",
    "tmp_df = train_df.dropna(subset=['Age'])\n",
    "# 描画領域を用意\n",
    "fig = plt.figure(figsize=(12, 4))\n",
    "\n",
    "for i, sex in enumerate(['male', 'female'], 1):\n",
    "    # for文は2回回る。1回目: i=1, sex='male'    2回目: i=2, sex='female'\n",
    "    # 1回目はヒストグラムを左側に描画、2回目は右側に描画\n",
    "    ax = fig.add_subplot(1, 2, i)\n",
    "    # 死亡者と生存者を積み上げたヒストグラム（ヒストグラムの柱の中で、生存／死亡の割合が見て取れる） \n",
    "    plt.hist([tmp_df[(tmp_df['Survived']==0) & (tmp_df['Sex']==sex)]['Age'],\n",
    "          tmp_df[(tmp_df['Survived']==1) & (tmp_df['Sex']==sex)]['Age']],\n",
    "          alpha=0.6, range=(0,80), bins=10, stacked=True,\n",
    "          label=('Died', 'Survived'))\n",
    "    plt.title(sex)\n",
    "    plt.legend(['die', 'survived'])\n",
    "plt.show()"
   ]
  },
  {
   "cell_type": "markdown",
   "metadata": {
    "_uuid": "10a41c52f992fa8517bb5902e6dc116ef8317390"
   },
   "source": [
    "- 男性は0歳~8歳が生存率が高い\n",
    "- →性別以外に年齢も使えそう"
   ]
  },
  {
   "cell_type": "markdown",
   "metadata": {
    "_uuid": "674a4ee002c5a88998c3c168cce574a05ac7a148"
   },
   "source": [
    "- `tmp_df[(tmp_df['Survived']==0) & (tmp_df['Sex']==sex)]['Age']`\n",
    "    - **死亡**かつSexがsex(maleまたはfemale)と一致する行のうちのAge列\n",
    "- `tmp_df[(tmp_df['Survived']==1) & (tmp_df['Sex']==sex)]['Age']`\n",
    "    - **生存**かつSexがsex(maleまたはfemale)と一致する行のうちのAge列\n",
    "\n",
    "リストに[死亡、生存]の順で格納し、`plt.hist()`で死亡、生存それぞれについてヒストグラムを描画  \n",
    "描画されるヒストグラムは積み重ねられる  \n",
    "ドキュメント: https://matplotlib.org/api/_as_gen/matplotlib.pyplot.hist.html"
   ]
  },
  {
   "cell_type": "code",
   "execution_count": null,
   "metadata": {
    "_uuid": "bc03e175e9f7d56f92bc0c484308b6681a5c7ad8"
   },
   "outputs": [],
   "source": [
    "# チケット等級ごとに生死のヒストグラムを表示（ヒストグラムを横に並べて表示する）\n",
    "# 1行3列の描画領域とする\n",
    "fig, axes = plt.subplots(nrows=1, ncols=3, figsize=(16, 4))\n",
    "\n",
    "for i, pclass in enumerate([1, 2, 3]):\n",
    "    # for文は3回回る。1回目: i=0, pclass=1    2回目: i=1, pclass=2    3回目: i=0, pclass=3\n",
    "    # Survived列のうち該当するpclassのレコードを抽出し、ヒストグラムを描画\n",
    "    # 左側にpclass=1の生死のヒストグラム、中央にpclass=2の生死のヒストグラム、右側にpclass=3の生死のヒストグラム\n",
    "    train_df[train_df['Pclass']==pclass]['Survived'].plot(alpha=0.6, kind='hist', bins=2, ax=axes[i])\n",
    "    axes[i].set_title(f'Pclass {pclass}')\n",
    "\n",
    "plt.show()"
   ]
  },
  {
   "cell_type": "markdown",
   "metadata": {
    "_uuid": "a0ca219121f5bb401b2a6d782ef92152a41d36a2"
   },
   "source": [
    "- Pclass=1は生存者が過半数を超えている\n",
    "- Pclass=2は生存者が半分程度\n",
    "- Pclass=3は生存者が少ない（4分の1程度）\n",
    "- →Pclassも生死の予測に使える\n",
    "- 人数の多い順に並べると、Pclass=3(500名), 1(220名), 2（180名）"
   ]
  },
  {
   "cell_type": "code",
   "execution_count": null,
   "metadata": {
    "_uuid": "3af2a5d880a24c33eefa7e9fbe8ad550e368811e"
   },
   "outputs": [],
   "source": [
    "# 参考: 性別／チケット等級／生死の組合せ全てに対して年齢のヒストグラムを描画\n",
    "tmp_df = train_df.dropna(subset=['Age'])\n",
    "for pclass in [1, 2, 3]:\n",
    "    # 描画領域の中に2行2列でヒストグラムを配置するための設定\n",
    "    fig, axes = plt.subplots(nrows=2, ncols=2, figsize=[10, 8])\n",
    "    sex_n = 0 # axesのインデックスとなる\n",
    "    for sex in ['male', 'female']:\n",
    "        for survived in [0, 1]:\n",
    "            # Survived, Sex, Pclassが該当するデータの抽出\n",
    "            draw_df = tmp_df[((tmp_df['Survived']==survived) & (tmp_df['Sex']==sex) & (tmp_df['Pclass']==pclass))]\n",
    "            fig = draw_df['Age'].plot(alpha=0.6, kind='hist', bins=10, xlim=(0, 80), ylim=(0, 70), ax=axes[sex_n][survived]) # 該当するデータの範囲内でbinを10等分している\n",
    "            fig.set_title(f'{sex} pclass={pclass} survived={survived}')\n",
    "        sex_n += 1\n",
    "    plt.show()"
   ]
  },
  {
   "cell_type": "markdown",
   "metadata": {
    "_uuid": "f970b024f17e54e6f3ae7f2c5a73fa7d1f452cf8"
   },
   "source": [
    "- pclass=2のmaleは0歳〜10歳（若い層）が生存\n",
    "- pclass=3のfemaleはpclass=1,2のfemaleと比べて助からない人も多い（半々くらい）"
   ]
  },
  {
   "cell_type": "code",
   "execution_count": null,
   "metadata": {
    "_uuid": "a7587a5814d5ae588b7429414432379bc56b6ce5"
   },
   "outputs": [],
   "source": [
    "# 乗船港ごとに生死のヒストグラムを表示（ヒストグラムを横に並べて表示する）\n",
    "# 1行3列の描画領域とする\n",
    "fig, axes = plt.subplots(nrows=1, ncols=3, figsize=(16, 4))\n",
    "\n",
    "for i, embarked in enumerate(['S', 'Q', 'C']):\n",
    "    # for文は3回回る。1回目: i=0, embarked='S'    2回目: i=1, embarked='Q'    3回目: i=0, embarked='C'\n",
    "    # Survived列のうち該当するembarkedのレコードを抽出し、ヒストグラムを描画\n",
    "    # 左側にpclass=1の生死のヒストグラム、中央にpclass=2の生死のヒストグラム、右側にpclass=3の生死のヒストグラム\n",
    "    train_df[train_df['Embarked']==embarked]['Survived'].plot(alpha=0.6, kind='hist', bins=2, ax=axes[i])\n",
    "    axes[i].set_title(f'Embarked {embarked}')\n",
    "\n",
    "plt.show()"
   ]
  },
  {
   "cell_type": "markdown",
   "metadata": {
    "_uuid": "14e5a1a7b7c1f57d3e02d4c93bbccbdec01b0d55"
   },
   "source": [
    "- 港Cは生存者が半分程度\n",
    "- 港S, Qは生存者が3分の1程度\n",
    "- →Embarkedも生死の予測に加えてみる"
   ]
  },
  {
   "cell_type": "code",
   "execution_count": null,
   "metadata": {
    "_uuid": "d21b67b62322bdafc20b57e27d7931922f9cabe0",
    "scrolled": false
   },
   "outputs": [],
   "source": [
    "# 参考: 性別／チケット等級／生死の組合せ全てに対して年齢のヒストグラムを描画\n",
    "tmp_df = train_df.dropna(subset=['Age'])\n",
    "for embarked in ['S', 'Q', 'C']:\n",
    "    fig, axes = plt.subplots(nrows=2, ncols=2, figsize=[10, 8])\n",
    "    sex_n = 0\n",
    "    for sex in ['male', 'female']:\n",
    "        for survived in [0, 1]:\n",
    "            # Survived, Sex, Embarkedが該当するデータの抽出\n",
    "            draw_df = tmp_df[((tmp_df['Survived']==survived) & (tmp_df['Sex']==sex) & (tmp_df['Embarked']==embarked))]\n",
    "            fig = draw_df['Age'].plot(alpha=0.6, kind='hist', bins=10, xlim=(0, 80), ylim=(0, 80), ax=axes[sex_n][survived]) # 該当するデータの範囲内でbinを10等分している\n",
    "            fig.set_title(f'{sex} embarked={embarked} survived={survived}')\n",
    "        sex_n += 1\n",
    "    plt.show()"
   ]
  },
  {
   "cell_type": "markdown",
   "metadata": {
    "_uuid": "a8680d6d5db4f48535d64ea0f8abbfcbe80e404a"
   },
   "source": [
    "- 港Qで乗船した人はほとんどが男性で死亡している"
   ]
  },
  {
   "cell_type": "markdown",
   "metadata": {
    "_uuid": "bdfaa2b5d850f3353eced7993c025acdd8602c83"
   },
   "source": [
    "## 2-A. 前処理\n",
    "\n",
    "1. 欠損値\n",
    "1. カテゴリ変数"
   ]
  },
  {
   "cell_type": "code",
   "execution_count": null,
   "metadata": {
    "_uuid": "3b6590d451ee88077805d359d494abc3eeeb6cc4"
   },
   "outputs": [],
   "source": [
    "# ここまでの分析を元に、以下の4つの情報から生死を予測することにする\n",
    "columns = ['Age', 'Pclass', 'Sex', 'Embarked']"
   ]
  },
  {
   "cell_type": "code",
   "execution_count": null,
   "metadata": {
    "_uuid": "38127c4a98a9322e908cd8e8ef8dcb6549bb3df1"
   },
   "outputs": [],
   "source": [
    "# モデルが予測に使う情報をX, モデルが予測する情報（ここでは生死）をyとする（Xとyという変数名が多い）\n",
    "X = train_df[columns].copy()\n",
    "y = train_df['Survived']\n",
    "# 予測対象データについて、予測に使う情報を取り出しておく\n",
    "X_test = test_df[columns].copy()"
   ]
  },
  {
   "cell_type": "code",
   "execution_count": null,
   "metadata": {
    "_uuid": "41f8c0cdacbc0ff9570929a8a6baa2580021a752"
   },
   "outputs": [],
   "source": [
    "X.head()"
   ]
  },
  {
   "cell_type": "code",
   "execution_count": null,
   "metadata": {
    "_uuid": "e6be4a7e4ab1dda2d633cd2777b2b45e56371ddc"
   },
   "outputs": [],
   "source": [
    "# モデル作成用データの欠損値の確認\n",
    "X.isnull().sum()"
   ]
  },
  {
   "cell_type": "code",
   "execution_count": null,
   "metadata": {
    "_uuid": "cc7b658bc09beaf8fa1fc2ea0fa8ca058720c596"
   },
   "outputs": [],
   "source": [
    "# 予測対象データの欠損値の確認\n",
    "X_test.isnull().sum()"
   ]
  },
  {
   "cell_type": "markdown",
   "metadata": {
    "_uuid": "cc7b658bc09beaf8fa1fc2ea0fa8ca058720c596"
   },
   "source": [
    "`isnull().sum()`  \n",
    "参考: https://note.nkmk.me/python-pandas-nan-judge-count/"
   ]
  },
  {
   "cell_type": "markdown",
   "metadata": {
    "_uuid": "4a5cca3fbad874c92e1912dd1f7d3531a0f899b9"
   },
   "source": [
    "欠けたデータがある列\n",
    "\n",
    "| データ種別 | 列名 | 欠け具合 |\n",
    "| ----- | ----- | ----- |\n",
    "| モデル作成用・性能評価用 | **Age** | 20%程度 |\n",
    "| モデル作成用 | **Embarked** | 数件 |"
   ]
  },
  {
   "cell_type": "markdown",
   "metadata": {
    "_uuid": "6f6ce29051148dfdadc14814b43d8bf6a9d12f33"
   },
   "source": [
    "- 欠けたデータ＝**欠損値**（missing value、欠測値とも呼ばれる）  \n",
    "- 欠損の要因：データの収集過程で抜けてしまったなど\n",
    "- 機械学習のツールは **一般に欠損値に対処できない**（そのためデータを前処理する）\n",
    "- 削除すると貴重なデータが減るので、**埋める**"
   ]
  },
  {
   "cell_type": "markdown",
   "metadata": {
    "_uuid": "46f9342245cd114b8ea266e1b4041ea698875741"
   },
   "source": [
    "### 2-A 1.欠損値を埋める\n",
    "\n",
    "- Age\n",
    "- Embarked"
   ]
  },
  {
   "cell_type": "markdown",
   "metadata": {
    "_uuid": "97a3d9f7ec887bd5d9890a2aec7d0240e1677d08"
   },
   "source": [
    "埋めるのに使うデータ\n",
    "\n",
    "- Age: モデル作成用データの平均値（=年齢の総和/個数）\n",
    "- Embarked: モデル作成用データで一番多く登場する値（一番多くの人が乗っている港）"
   ]
  },
  {
   "cell_type": "code",
   "execution_count": null,
   "metadata": {
    "_uuid": "1e392cdb9284ead55663b4f96ff6364d05552768"
   },
   "outputs": [],
   "source": [
    "# Ageの欠損を平均値で埋める\n",
    "# **Note**: モクモクタイムで他の埋め方を試す際は、このセルを置き換えます\n",
    "age_mean = X['Age'].mean()\n",
    "print(f'Age mean: {age_mean}')\n",
    "X['AgeFill'] = X['Age'].fillna(age_mean)\n",
    "X_test['AgeFill'] = X_test['Age'].fillna(age_mean)"
   ]
  },
  {
   "cell_type": "markdown",
   "metadata": {
    "_uuid": "a5bf96e35abfc85aa5cccdc6d65694586528402f"
   },
   "source": [
    "`mean`  \n",
    "参考: https://deepage.net/features/pandas-mean.html  \n",
    "ドキュメント: https://pandas.pydata.org/pandas-docs/stable/reference/api/pandas.Series.mean.html"
   ]
  },
  {
   "cell_type": "markdown",
   "metadata": {
    "_uuid": "b41dcdfdad508bb5c66c62861eae104c87ef3cb6"
   },
   "source": [
    "`fillna`  \n",
    "参考: https://note.nkmk.me/python-pandas-nan-dropna-fillna/  \n",
    "ドキュメント: https://pandas.pydata.org/pandas-docs/stable/reference/api/pandas.DataFrame.fillna.html"
   ]
  },
  {
   "cell_type": "code",
   "execution_count": null,
   "metadata": {
    "_uuid": "767faedddc624268f3f8e785794ff48636805daf"
   },
   "outputs": [],
   "source": [
    "# 欠損を含むAge列を削除（年齢の情報はAgeFill列を参照する）\n",
    "X = X.drop(['Age'], axis=1)\n",
    "X_test = X_test.drop(['Age'], axis=1)"
   ]
  },
  {
   "cell_type": "markdown",
   "metadata": {
    "_uuid": "9e2f9ee52cb9088a6ad9f6857a2e46fd939b3e84"
   },
   "source": [
    "`drop`  \n",
    "参考: https://note.nkmk.me/python-pandas-drop/  \n",
    "ドキュメント: https://pandas.pydata.org/pandas-docs/stable/reference/api/pandas.DataFrame.drop.html"
   ]
  },
  {
   "cell_type": "code",
   "execution_count": null,
   "metadata": {
    "_uuid": "360757fd4fced2a9d60a59a6b57867ac4331d80e"
   },
   "outputs": [],
   "source": [
    "# Embarkedの欠損値を埋める\n",
    "embarked_freq = X['Embarked'].mode()[0]\n",
    "print(f'Embarked freq: {embarked_freq}')\n",
    "X['Embarked'] = X['Embarked'].fillna(embarked_freq)\n",
    "# X_testにEmbarkedの欠損値がないため、実施しない"
   ]
  },
  {
   "cell_type": "markdown",
   "metadata": {
    "_uuid": "a7f9844d23383a62c9e9beb50722b4ecd7c744ec"
   },
   "source": [
    "`mode`  \n",
    "参考: https://note.nkmk.me/python-pandas-mode/  \n",
    "ドキュメント: https://pandas.pydata.org/pandas-docs/stable/reference/api/pandas.Series.mode.html"
   ]
  },
  {
   "cell_type": "code",
   "execution_count": null,
   "metadata": {
    "_uuid": "e6be4a7e4ab1dda2d633cd2777b2b45e56371ddc"
   },
   "outputs": [],
   "source": [
    "# モデル作成用データの欠損値(Embarked, AgeFill)が埋まったことを確認\n",
    "X.isnull().sum()"
   ]
  },
  {
   "cell_type": "code",
   "execution_count": null,
   "metadata": {
    "_uuid": "cc7b658bc09beaf8fa1fc2ea0fa8ca058720c596"
   },
   "outputs": [],
   "source": [
    "# 予測対象データの欠損値が埋まったことを確認\n",
    "X_test.isnull().sum()"
   ]
  },
  {
   "cell_type": "markdown",
   "metadata": {
    "_uuid": "1e94db06aa65e16f583114bf512928a946445c4b"
   },
   "source": [
    "### 1-A 2.カテゴリ変数を数値化する\n",
    "\n",
    "- Sex（male, female）\n",
    "- Embarked(S, Q, C)"
   ]
  },
  {
   "cell_type": "markdown",
   "metadata": {
    "_uuid": "aaf0f66e132db42d17086c89d6eb083dcac5d0fa"
   },
   "source": [
    "- カテゴリ変数とは、いくつかの文字列の値を取る変数\n",
    "    - Sex: male, female\n",
    "    - Embarked: S, Q, C　（乗船した港の頭文字）\n",
    "- 文字列を整数に変換する\n",
    "    - Sex: male=1, female=0として置き換え\n",
    "    - Embarked: ダミー変数化（後述）"
   ]
  },
  {
   "cell_type": "code",
   "execution_count": null,
   "metadata": {
    "_uuid": "f0c30016b756fcb47f748f2177b2b8f9c2fee307"
   },
   "outputs": [],
   "source": [
    "# 性別（female/male）を0/1に変換する（maleとfemaleのままではsklearnが扱えない）\n",
    "# カテゴリを整数に置き換えるための辞書を用意\n",
    "gender_map = {'female': 0, 'male': 1}\n",
    "# 引数の辞書のキー（コロンの左側）に一致する要素が、辞書の値（コロンの右側）に置き換わる（femaleが0に置き換わり、maleが1に置き換わる）\n",
    "# 注: Sexの取りうる値はfemaleかmale\n",
    "X['Gender'] = X['Sex'].map(gender_map).astype(int)\n",
    "X_test['Gender'] = X_test['Sex'].map(gender_map).astype(int)"
   ]
  },
  {
   "cell_type": "markdown",
   "metadata": {
    "_uuid": "fe3ce2c3f8fea59b861ffda21c900921975b2014"
   },
   "source": [
    "`map`  \n",
    "参考: https://note.nkmk.me/python-pandas-map-replace/  \n",
    "ドキュメント: https://pandas.pydata.org/pandas-docs/stable/reference/api/pandas.Series.map.html"
   ]
  },
  {
   "cell_type": "code",
   "execution_count": null,
   "metadata": {
    "_uuid": "058b8098c0c4c7d8cd0095b9db9423bb32c6b791"
   },
   "outputs": [],
   "source": [
    "# Sexに代えてGenderを使うため、Sex列を削除する\n",
    "X = X.drop(['Sex'], axis=1)\n",
    "X_test = X_test.drop(['Sex'], axis=1)"
   ]
  },
  {
   "cell_type": "markdown",
   "metadata": {
    "_uuid": "a9c09d0c92a076202a75212cbbb8adfe6448cb89"
   },
   "source": [
    "Embarkedのダミー変数化について\n",
    "\n",
    "- S=1, Q=2, C=3と整数に置き換える\n",
    "    - **本来なかった大小関係が想定されてしまう**\n",
    "- (S, Q, C)という形式で整数に置き換える\n",
    "\n",
    "| Embarkedの値 | 置き換えたあと |\n",
    "| ----- | ----- |\n",
    "| S | (1, 0, 0) |\n",
    "| Q | (0, 1, 0) |\n",
    "| C | (0, 0, 1) |"
   ]
  },
  {
   "cell_type": "code",
   "execution_count": null,
   "metadata": {
    "_uuid": "84dbe8476404c0b1dd4f3ed61a0adb13792e83f3"
   },
   "outputs": [],
   "source": [
    "# Embarked（S, Q, Cという3カテゴリ）をダミー変数にする\n",
    "# （Embarked列が消え、Embarked_S, Embarked_Q, Embarked_C列が追加される）\n",
    "X = pd.get_dummies(X, columns=['Embarked'])\n",
    "X_test = pd.get_dummies(X_test, columns=['Embarked'])"
   ]
  },
  {
   "cell_type": "markdown",
   "metadata": {
    "_uuid": "ccf7610fcfbe42ec74414db5337a2f26420dd39d"
   },
   "source": [
    "`get_dummies`  \n",
    "参考: https://note.nkmk.me/python-pandas-get-dummies/  \n",
    "ドキュメント: https://pandas.pydata.org/pandas-docs/stable/reference/api/pandas.get_dummies.html"
   ]
  },
  {
   "cell_type": "code",
   "execution_count": null,
   "metadata": {
    "_uuid": "7f74d6042e6a98f95c7886b3e8b3f089aed82f20"
   },
   "outputs": [],
   "source": [
    "# 前処理したモデル作成用データの確認\n",
    "X.head()"
   ]
  },
  {
   "cell_type": "code",
   "execution_count": null,
   "metadata": {
    "_uuid": "ae4c0d70c4b4f639a5066dfa0d3488bd6ff31bf7"
   },
   "outputs": [],
   "source": [
    "# 前処理した予測対象データの確認\n",
    "X_test.head()"
   ]
  },
  {
   "cell_type": "markdown",
   "metadata": {
    "_uuid": "ad9750cdad36be1b0569bbbf46d7e123fccef64d"
   },
   "source": [
    "## 2-B. モデル作成\n",
    "\n",
    "モデルはモデル作成用データにアルゴリズムを適用して作成する。  \n",
    "今回はアルゴリズムにロジスティック回帰を使う（後ほど変更も試せます）  \n",
    "\n",
    "ドキュメント(ロジスティック関数): https://scikit-learn.org/stable/auto_examples/linear_model/plot_logistic.html"
   ]
  },
  {
   "cell_type": "code",
   "execution_count": null,
   "metadata": {
    "_uuid": "2fadac5efca744f9aab968d1b51ab7591cbed06f"
   },
   "outputs": [],
   "source": [
    "# モデル作成・性能評価に使うモジュールの読み込み\n",
    "from sklearn.linear_model import LogisticRegression\n",
    "from sklearn.metrics import accuracy_score\n",
    "from sklearn.model_selection import train_test_split\n",
    "from sklearn.tree import DecisionTreeClassifier"
   ]
  },
  {
   "cell_type": "markdown",
   "metadata": {
    "_uuid": "a07a42f98a6585bddaed7f062fbd56f852faf03b"
   },
   "source": [
    "このあとモデルを作成するが、予測対象データについて生死を予測する前に、  \n",
    "どの程度の性能のモデルなのか確認したい。  \n",
    "→モデル作成用データをランダムに2つに分ける（`train_test_split`）\n",
    "\n",
    "- モデル作成用データのうち、例えば7割でモデルを作る\n",
    "- 残りの3割でモデルの性能を評価する\n",
    "\n",
    "参考情報\n",
    "\n",
    "- ランダムに分けているが、`random_state`引数の値が同じなら、**何回実行しても同じ** ようにランダムに分かれる"
   ]
  },
  {
   "cell_type": "code",
   "execution_count": null,
   "metadata": {
    "_uuid": "2e265192a98cecd770899eeb223b768e25b736ae"
   },
   "outputs": [],
   "source": [
    "# 今回のハンズオンは7:3に分けて進める\n",
    "X_train, X_val, y_train, y_val = train_test_split(X, y, test_size=0.3, random_state=1)"
   ]
  },
  {
   "cell_type": "markdown",
   "metadata": {
    "_uuid": "d81fe7d9e0e5e18b34f62ac72bf04466b694ea42"
   },
   "source": [
    "`train_test_split`  \n",
    "参考: https://docs.pyq.jp/python/machine_learning/tips/train_test_split.html  \n",
    "ドキュメント: https://scikit-learn.org/stable/modules/generated/sklearn.model_selection.train_test_split.html"
   ]
  },
  {
   "cell_type": "markdown",
   "metadata": {
    "_uuid": "f0568ada7f8aada0ff02000fe944a8a136fdaad6"
   },
   "source": [
    "| 変数名 | 用途 |\n",
    "| ----- | ----- |\n",
    "| X_train | モデル作成用のデータ（乗客の属性） |\n",
    "| y_train | モデル作成用のデータ（生死） |\n",
    "| X_val | モデルの性能確認用のデータ（乗客の属性） |\n",
    "| y_val | モデルの性能確認用のデータ（生死） |"
   ]
  },
  {
   "cell_type": "code",
   "execution_count": null,
   "metadata": {
    "_uuid": "7d837f2e0c8d24f6640d759c80b63e3c468924e0"
   },
   "outputs": [],
   "source": [
    "# モデル作成用のデータの数の確認\n",
    "len(y_train)"
   ]
  },
  {
   "cell_type": "code",
   "execution_count": null,
   "metadata": {
    "_uuid": "8d393db840989c0bb5262bc821122421bf8b522f"
   },
   "outputs": [],
   "source": [
    "# モデル性能確認用のデータの数の確認\n",
    "len(y_val)"
   ]
  },
  {
   "cell_type": "code",
   "execution_count": null,
   "metadata": {
    "_uuid": "cdf685a0444a5412229e394ee1a11ce854114b63"
   },
   "outputs": [],
   "source": [
    "# ロジスティック回帰というアルゴリズムを使ったモデルを用意\n",
    "model = LogisticRegression(random_state=1, solver='liblinear')\n",
    "# モデル作成は以下の1行（ここまでの前処理に対してたった1行！）で完了する\n",
    "model.fit(X_train, y_train)"
   ]
  },
  {
   "cell_type": "markdown",
   "metadata": {
    "_uuid": "e652b8a1ea66c81b23bdf494b1e9047e4a9865db"
   },
   "source": [
    "## 2-C. 性能確認\n",
    "\n",
    "タイタニックの場合、モデルの性能はaccuracyというスコアで評価される  \n",
    "（**注**：性能を表すスコアは他にもある）\n",
    "\n",
    "- 418名のうち生死を正しく予想できたものの割合\n",
    "- 1に近いほど性能がよい\n",
    "\n",
    "| ケース | 正解／誤り |\n",
    "| ----- | ----- |\n",
    "| 生存した乗客を生存と予測 | 正解 |\n",
    "| 生存した乗客を死亡と予測 | 誤り |\n",
    "| 死亡した乗客を生存と予測 | 誤り |\n",
    "| 死亡した乗客を死亡と予測 | 正解 |\n",
    "\n",
    "accuracy = (正解の総数) / (正解の総数 + 誤りの総数)\n",
    "\n",
    ">Your score is the percentage of passengers you correctly predict. This is known simply as \"accuracy”.\n",
    "\n",
    "ref: https://www.kaggle.com/c/titanic#evaluation"
   ]
  },
  {
   "cell_type": "code",
   "execution_count": null,
   "metadata": {
    "_uuid": "a063293d2167961907aa65fe4cc2f504bdc86a16"
   },
   "outputs": [],
   "source": [
    "# モデル性能確認用データについて生死を予測\n",
    "pred = model.predict(X_val)\n",
    "# accuracyを算出して表示\n",
    "accuracy_score(y_val, pred)"
   ]
  },
  {
   "cell_type": "markdown",
   "metadata": {
    "_uuid": "abdf38022a47dee4890ca7e5d692972ca1bdf570"
   },
   "source": [
    "`accuracy_score`  \n",
    "ドキュメント: https://scikit-learn.org/stable/modules/generated/sklearn.metrics.accuracy_score.html"
   ]
  },
  {
   "cell_type": "markdown",
   "metadata": {
    "_uuid": "9da8b7d4bdd7c0a45b244dd5489bb5b074304dfc"
   },
   "source": [
    "初回はすぐ提出。  \n",
    "別のモデルを作ったときに、以前に作ったモデルよりスコアが低ければ、提出しないという判断ができる  \n",
    "（Kaggleに提出しなくても試行錯誤が進められる。提出回数には日次の上限がある）"
   ]
  },
  {
   "cell_type": "markdown",
   "metadata": {
    "_uuid": "3db5d5be38078c0947737831b895af5e25a4c9c4"
   },
   "source": [
    "## 3. 予測対象データの生死を予測\n",
    "\n",
    "- 予測対象データ（418件）について予測したあと、提出用データを作る\n",
    "- 提出用データは以下の形式のCSVとするように指定されている（1が生存、0が死亡）\n",
    "\n",
    "PassengerId | Survived\n",
    "----- | -----\n",
    "892 | 0\n",
    ": | :\n",
    "1309|1\n",
    "\n",
    "- ref: https://www.kaggle.com/c/titanic#evaluation"
   ]
  },
  {
   "cell_type": "code",
   "execution_count": null,
   "metadata": {
    "_uuid": "6f8f1f89df8a2845df1840288c04a8cc51213e0c"
   },
   "outputs": [],
   "source": [
    "# 予測対象データについて生死を予測\n",
    "pred = model.predict(X_test)"
   ]
  },
  {
   "cell_type": "code",
   "execution_count": null,
   "metadata": {
    "_uuid": "048198f3fda1818008d2e7b20b6bacce37109c53"
   },
   "outputs": [],
   "source": [
    "# colabでの実行の際は省略\n",
    "# # 提出用データの形式に変換\n",
    "# submission = pd.DataFrame({\n",
    "#     'PassengerId': test_df['PassengerId'],\n",
    "#     'Survived': pred\n",
    "# })\n",
    "# # 提出用データ作成\n",
    "# submission.to_csv('submission.csv', index=False)"
   ]
  },
  {
   "cell_type": "markdown",
   "metadata": {
    "_uuid": "3f70e884b01eef5bc942a5ca73a8c17a8f7f6b27"
   },
   "source": [
    "## 参考: 提出練習データを提出してみる"
   ]
  },
  {
   "cell_type": "code",
   "execution_count": null,
   "metadata": {
    "_uuid": "0ffee8e8d4f95d220255ed8d6a0a6d21cbaa9ab9"
   },
   "outputs": [],
   "source": [
    "# 以下のコードはお手元では実行不要です\n",
    "# import pandas as pd\n",
    "# gender_submission_df = pd.read_csv('../input/gender_submission.csv')\n",
    "# gender_submission_df.to_csv('submission.csv', index=False)"
   ]
  },
  {
   "cell_type": "markdown",
   "metadata": {
    "_uuid": "f01462b982b057daa411cd90db965dda2efb1ebd"
   },
   "source": [
    "## 精度を上げるために\n",
    "\n",
    "精度が変わる方法（上がらない場合もあります）\n",
    "\n",
    "- Ageの欠損の埋め方を見直す\n",
    "- モデルのアルゴリズムを変える"
   ]
  },
  {
   "cell_type": "markdown",
   "metadata": {
    "_uuid": "666d99e0c21a6fbbe17a9d22e8a295fd63f738be"
   },
   "source": [
    "### Ageの欠損の埋め方を見直す\n",
    "\n",
    "- （案1） 中央値で埋める\n",
    "- （案2） Sexに応じて年齢を埋める\n",
    "- （案3） Pclassに応じて年齢を埋める\n",
    "\n",
    "KernelをEditする際、平均値で埋めた部分を以下のいずれかに置き換えてみてください。  \n",
    "現状コメント扱いにしているため、コードとして実行するには、始めと終わりの`\"\"\"`を削除する必要があります"
   ]
  },
  {
   "cell_type": "code",
   "execution_count": null,
   "metadata": {
    "_uuid": "38666dabde97e6a087663d5db4232fbc38e6a808"
   },
   "outputs": [],
   "source": [
    "# （案1） 中央値で埋める（年齢を大きい順に並べたときに中央に来る値。平均値とは異なる値となることが多い）\n",
    "\"\"\"\n",
    "age_median = X['Age'].median()\n",
    "print(f'Age mean: {age_median}')\n",
    "X['AgeFill'] = X['Age'].fillna(age_median)\n",
    "X_test['AgeFill'] = X_test['Age'].fillna(age_median)\n",
    "\"\"\""
   ]
  },
  {
   "cell_type": "markdown",
   "metadata": {
    "_uuid": "cb5eceb042086829f4a64e4203b5cbc3a8aa1f4e"
   },
   "source": [
    "`median`  \n",
    "ドキュメント: https://pandas.pydata.org/pandas-docs/stable/reference/api/pandas.Series.median.html"
   ]
  },
  {
   "cell_type": "code",
   "execution_count": null,
   "metadata": {
    "_uuid": "0cca156daf48b448aacf8daec7b0aea460c424b9"
   },
   "outputs": [],
   "source": [
    "# (案2) 仮説: 年齢の平均値は性別ごとに違うのでは？\n",
    "# AgeFill列を作る前に、性別ごとの年齢の平均値を確認\n",
    "# X[['Sex', 'Age']].groupby('Sex').mean()"
   ]
  },
  {
   "cell_type": "code",
   "execution_count": null,
   "metadata": {
    "_uuid": "4af4a488e030532e9a9787e942a9c0103c1b7427"
   },
   "outputs": [],
   "source": [
    "# （案2）確認すると、男性の平均年齢 31歳、女性の平均年齢 28歳\n",
    "\"\"\"\n",
    "def age_by_sex(col):\n",
    "    '''col: [age, sex]と想定'''\n",
    "    age, sex = col\n",
    "    if pd.isna(age): # Ageが欠損の場合の処理\n",
    "        if sex == 'male':\n",
    "            return 31\n",
    "        elif sex == 'female':\n",
    "            return 28\n",
    "        else: # 整数に変更したsexが含まれる場合など\n",
    "            print('Sexがmale/female以外の値をとっています')\n",
    "            return -1\n",
    "    else: # Ageが欠損していない場合の処理\n",
    "        return age\n",
    "# train_dfからAgeとSexの2列を取り出し、各行についてage_by_sex関数を適用\n",
    "# age_by_sex関数の返り値でAge列の値を上書きする（欠損の場合は、値が埋められる）\n",
    "X['AgeFill'] = X[['Age', 'Sex']].apply(age_by_sex, axis=1)\n",
    "X_test['AgeFill'] = X_test[['Age', 'Sex']].apply(age_by_sex, axis=1)\n",
    "\"\"\""
   ]
  },
  {
   "cell_type": "code",
   "execution_count": null,
   "metadata": {
    "_uuid": "bbec728562b5f602a840736a3d2b019a4baad84c"
   },
   "outputs": [],
   "source": [
    "# (案3) 仮説: 年齢の平均値はチケットの階級ごとに違うのでは？（年齢高い→お金持っている→いいチケット）\n",
    "# AgeFill列を作る前に、チケットの等級ごとの年齢の平均値を確認\n",
    "# X[['Pclass', 'Age']].groupby('Pclass').mean()"
   ]
  },
  {
   "cell_type": "code",
   "execution_count": null,
   "metadata": {
    "_uuid": "c1384752245acf87fa5cc66206f5476b5e629dea"
   },
   "outputs": [],
   "source": [
    "# （案3） pclass==1 38歳、pclass==2 30歳、pclass==3 25歳\n",
    "\"\"\"\n",
    "def age_by_pclass(col):\n",
    "    '''col: [age, pclass]と想定'''\n",
    "    age, pclass = col\n",
    "    if pd.isna(age): # Ageが欠損の場合の処理\n",
    "        if pclass == 1:\n",
    "            return 38\n",
    "        elif pclass == 2:\n",
    "            return 30\n",
    "        else: # pclass == 3に相当する\n",
    "            return 25\n",
    "    else: # Ageが欠損していない場合の処理\n",
    "        return age\n",
    "X['AgeFill'] = X[['Age', 'Pclass']].apply(age_by_pclass, axis=1)\n",
    "X_test['AgeFill'] = X_test[['Age', 'Pclass']].apply(age_by_pclass, axis=1)\n",
    "\"\"\""
   ]
  },
  {
   "cell_type": "markdown",
   "metadata": {
    "_uuid": "a8b3f0f18912c4586baf0b709db4643639860f86"
   },
   "source": [
    "`groupby`  \n",
    "参考: https://note.nkmk.me/python-pandas-groupby-statistics/  \n",
    "ドキュメント: http://pandas.pydata.org/pandas-docs/stable/reference/api/pandas.DataFrame.groupby.html"
   ]
  },
  {
   "cell_type": "markdown",
   "metadata": {
    "_uuid": "4633a8ce8588d46256f0d59f0b966064dcfa7a11"
   },
   "source": [
    "`isna`  \n",
    "ドキュメント: http://pandas.pydata.org/pandas-docs/stable/reference/api/pandas.isna.html"
   ]
  },
  {
   "cell_type": "markdown",
   "metadata": {
    "_uuid": "08b39652efed0955d8c9f5d87a61b1759bdb4b08"
   },
   "source": [
    "`apply`  \n",
    "参考: https://note.nkmk.me/python-pandas-map-applymap-apply/  \n",
    "ドキュメント: http://pandas.pydata.org/pandas-docs/stable/reference/api/pandas.DataFrame.apply.html"
   ]
  },
  {
   "cell_type": "markdown",
   "metadata": {
    "_uuid": "fb14c6ccea642a356204e659b6ea68c89373ac5d"
   },
   "source": [
    "### モデルのアルゴリズムを変える\n",
    "\n",
    "決定木を試す  \n",
    "\n",
    "参考: https://scikit-learn.org/stable/modules/tree.html#classification  \n",
    "ドキュメント: https://scikit-learn.org/stable/modules/generated/sklearn.tree.DecisionTreeClassifier.html"
   ]
  },
  {
   "cell_type": "code",
   "execution_count": null,
   "metadata": {
    "_uuid": "765434988edc3415024a1324bfebaa98e2591c89"
   },
   "outputs": [],
   "source": [
    "\"\"\"\n",
    "# 決定木というアルゴリズムを使ったモデルを用意\n",
    "model = DecisionTreeClassifier(random_state=1, criterion='entropy', max_depth=3, min_samples_leaf=2)\n",
    "# モデル作成は以下の1行（ここまでの前処理に対してたった1行！）で完了する\n",
    "model.fit(X_train, y_train)\n",
    "\"\"\""
   ]
  },
  {
   "cell_type": "markdown",
   "metadata": {
    "_uuid": "f009268f79fe9dd39a0f275af6e60c29c782306e"
   },
   "source": [
    "### 変更履歴\n",
    "https://www.kaggle.com/ftnext/kaggle-spzcolab-201901 をベースにデータの分析コンテンツを加えてアップデートした  \n",
    "ref: https://github.com/PyDataTokyo/pydata-tokyo-tutorial-1"
   ]
  }
 ],
 "metadata": {
  "kernelspec": {
   "display_name": "Python 3",
   "language": "python",
   "name": "python3"
  },
  "language_info": {
   "codemirror_mode": {
    "name": "ipython",
    "version": 3
   },
   "file_extension": ".py",
   "mimetype": "text/x-python",
   "name": "python",
   "nbconvert_exporter": "python",
   "pygments_lexer": "ipython3",
   "version": "3.7.0"
  }
 },
 "nbformat": 4,
 "nbformat_minor": 1
}
