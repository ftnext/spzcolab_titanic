{
 "cells": [
  {
   "cell_type": "markdown",
   "metadata": {
    "_cell_guid": "b1076dfc-b9ad-4769-8c92-a6c4dae69d19",
    "_uuid": "8f2839f25d086af736a60e9eeb907d3b93b6e0e5"
   },
   "source": [
    "## このカーネルについて\n",
    "\n",
    "株式会社サポーターズ 主催**【オンライン勉強会】Kaggleタイタニックハンズオン**（学生向け）のKernelです。  \n",
    "ハンズオンパートで使います。\n",
    "\n",
    "0. モデル作成の準備\n",
    "1. 単純なモデルを作成する\n",
    "2. モデル作成を一緒に一回やって流れをつかむ\n",
    "3. 性能が上がると考える選択肢を試す（サンプルコードのブロックを実行）\n",
    "\n",
    "※勉強会自体は勉強会ページから申し込むと後追い視聴できます（ただし**学生限定**です）"
   ]
  },
  {
   "cell_type": "markdown",
   "metadata": {},
   "source": [
    "### 変更履歴\n",
    "\n",
    "| 開催時期 | Kernelのバージョン |\n",
    "| ----|---- | \n",
    "| [2019/03](https://talent.supporterz.jp/events/2992699f-53ed-417b-abf7-7d7bba931037/) | [Version3](https://www.kaggle.com/ftnext/kaggle-spzcolab-online?scriptVersionId=11257494) |\n",
    "| [2019/04](https://talent.supporterz.jp/events/d7384737-e2a6-4dc9-bc5e-f90e17e0924e/) | 最新のKernel |"
   ]
  },
  {
   "cell_type": "markdown",
   "metadata": {
    "_cell_guid": "79c7e3d0-c299-4dcb-8224-4455121ee9b0",
    "_uuid": "d629ff2d2480ee46fbb7e2d37f6b5fab8052498a",
    "collapsed": true
   },
   "source": [
    "## 基本操作\n",
    "\n",
    "コードが書かれているブロックを **セル** と呼びます。  \n",
    "\n",
    "1. セルをクリックして選択する（入力できる状態になる）\n",
    "2. 選択したセルを実行する\n",
    "    - 入力できる状態でShift+Enterキーを押す（こちらに慣れると簡単です）\n",
    "    - 左側に表示される再生ボタン▶をクリック"
   ]
  },
  {
   "cell_type": "markdown",
   "metadata": {},
   "source": [
    "## 0. モデル作成の準備"
   ]
  },
  {
   "cell_type": "code",
   "execution_count": 1,
   "metadata": {
    "_uuid": "1cfc40de1ea79f50218d9ad0c978c51594353d01"
   },
   "outputs": [],
   "source": [
    "# 前処理に必要なモジュールの読み込み\n",
    "# pandasは表形式のデータを扱うためのモジュール\n",
    "import pandas as pd"
   ]
  },
  {
   "cell_type": "markdown",
   "metadata": {
    "_uuid": "15f58440178d2240f490af07ecb4ae57d26100fa"
   },
   "source": [
    "### タイタニックコンペのフォルダ配置\n",
    "```\n",
    "├── ディレクトリ\n",
    "│\t└── 現在のKernel\n",
    "└── input/\n",
    " \t├── train.csv（モデル作成用データ）\n",
    " \t├── test.csv（予測対象データ）\n",
    " \t└── gender_submission.csv（提出練習用データ）\n",
    "```\n",
    "続くセルでデータを読み込む際は、**相対パス**でデータを指定しています"
   ]
  },
  {
   "cell_type": "code",
   "execution_count": 2,
   "metadata": {
    "_uuid": "c51e5fd74bfa4eeb84c1aadfebc8f059190fc596"
   },
   "outputs": [],
   "source": [
    "# 読み込んだデータはExcelの表のような形式で扱う（行と列がある）\n",
    "# モデル作成用データの読み込み（生存か死亡か知っているデータ）\n",
    "train_df = pd.read_csv('https://raw.githubusercontent.com/ftnext/spzcolab_titanic/master/input/train.csv')\n",
    "# 予測対象データの読み込み（生存か死亡か知らないデータ）\n",
    "test_df = pd.read_csv('https://raw.githubusercontent.com/ftnext/spzcolab_titanic/master/input/test.csv')"
   ]
  },
  {
   "cell_type": "markdown",
   "metadata": {
    "_uuid": "f98367e6902032fe3c05b240baceaa85cc8b59e4"
   },
   "source": [
    "`read_csv`  \n",
    "解説: https://note.nkmk.me/python-pandas-read-csv-tsv/  \n",
    "ドキュメント: https://pandas.pydata.org/pandas-docs/stable/reference/api/pandas.read_csv.html"
   ]
  },
  {
   "cell_type": "code",
   "execution_count": 3,
   "metadata": {
    "_uuid": "a8fce89b69183148bacdad4507f474af93900d01"
   },
   "outputs": [
    {
     "data": {
      "text/plain": [
       "(891, 12)"
      ]
     },
     "execution_count": 3,
     "metadata": {},
     "output_type": "execute_result"
    }
   ],
   "source": [
    "# モデル作成用データのサイズを確認\n",
    "# (行数, 列数) で表示される\n",
    "train_df.shape"
   ]
  },
  {
   "cell_type": "code",
   "execution_count": 4,
   "metadata": {
    "_uuid": "31250ea2947935237bcd038686dd3b52fa968c30"
   },
   "outputs": [
    {
     "data": {
      "text/plain": [
       "(418, 11)"
      ]
     },
     "execution_count": 4,
     "metadata": {},
     "output_type": "execute_result"
    }
   ],
   "source": [
    "# 予測対象データのサイズを確認\n",
    "# モデル作成用データに対して1列少ない\n",
    "test_df.shape"
   ]
  },
  {
   "cell_type": "markdown",
   "metadata": {
    "_uuid": "e492a2390deb2451771e3e9ff856da8a672244ab"
   },
   "source": [
    "`shape`  \n",
    "ドキュメント: https://pandas.pydata.org/pandas-docs/stable/reference/api/pandas.DataFrame.shape.html"
   ]
  },
  {
   "cell_type": "code",
   "execution_count": 5,
   "metadata": {
    "_uuid": "0539904b0e0c8ad1f9be69de3288275ff8761e9d"
   },
   "outputs": [
    {
     "data": {
      "text/html": [
       "<div>\n",
       "<style scoped>\n",
       "    .dataframe tbody tr th:only-of-type {\n",
       "        vertical-align: middle;\n",
       "    }\n",
       "\n",
       "    .dataframe tbody tr th {\n",
       "        vertical-align: top;\n",
       "    }\n",
       "\n",
       "    .dataframe thead th {\n",
       "        text-align: right;\n",
       "    }\n",
       "</style>\n",
       "<table border=\"1\" class=\"dataframe\">\n",
       "  <thead>\n",
       "    <tr style=\"text-align: right;\">\n",
       "      <th></th>\n",
       "      <th>PassengerId</th>\n",
       "      <th>Survived</th>\n",
       "      <th>Pclass</th>\n",
       "      <th>Name</th>\n",
       "      <th>Sex</th>\n",
       "      <th>Age</th>\n",
       "      <th>SibSp</th>\n",
       "      <th>Parch</th>\n",
       "      <th>Ticket</th>\n",
       "      <th>Fare</th>\n",
       "      <th>Cabin</th>\n",
       "      <th>Embarked</th>\n",
       "    </tr>\n",
       "  </thead>\n",
       "  <tbody>\n",
       "    <tr>\n",
       "      <th>0</th>\n",
       "      <td>1</td>\n",
       "      <td>0</td>\n",
       "      <td>3</td>\n",
       "      <td>Braund, Mr. Owen Harris</td>\n",
       "      <td>male</td>\n",
       "      <td>22.0</td>\n",
       "      <td>1</td>\n",
       "      <td>0</td>\n",
       "      <td>A/5 21171</td>\n",
       "      <td>7.2500</td>\n",
       "      <td>NaN</td>\n",
       "      <td>S</td>\n",
       "    </tr>\n",
       "    <tr>\n",
       "      <th>1</th>\n",
       "      <td>2</td>\n",
       "      <td>1</td>\n",
       "      <td>1</td>\n",
       "      <td>Cumings, Mrs. John Bradley (Florence Briggs Th...</td>\n",
       "      <td>female</td>\n",
       "      <td>38.0</td>\n",
       "      <td>1</td>\n",
       "      <td>0</td>\n",
       "      <td>PC 17599</td>\n",
       "      <td>71.2833</td>\n",
       "      <td>C85</td>\n",
       "      <td>C</td>\n",
       "    </tr>\n",
       "    <tr>\n",
       "      <th>2</th>\n",
       "      <td>3</td>\n",
       "      <td>1</td>\n",
       "      <td>3</td>\n",
       "      <td>Heikkinen, Miss. Laina</td>\n",
       "      <td>female</td>\n",
       "      <td>26.0</td>\n",
       "      <td>0</td>\n",
       "      <td>0</td>\n",
       "      <td>STON/O2. 3101282</td>\n",
       "      <td>7.9250</td>\n",
       "      <td>NaN</td>\n",
       "      <td>S</td>\n",
       "    </tr>\n",
       "    <tr>\n",
       "      <th>3</th>\n",
       "      <td>4</td>\n",
       "      <td>1</td>\n",
       "      <td>1</td>\n",
       "      <td>Futrelle, Mrs. Jacques Heath (Lily May Peel)</td>\n",
       "      <td>female</td>\n",
       "      <td>35.0</td>\n",
       "      <td>1</td>\n",
       "      <td>0</td>\n",
       "      <td>113803</td>\n",
       "      <td>53.1000</td>\n",
       "      <td>C123</td>\n",
       "      <td>S</td>\n",
       "    </tr>\n",
       "    <tr>\n",
       "      <th>4</th>\n",
       "      <td>5</td>\n",
       "      <td>0</td>\n",
       "      <td>3</td>\n",
       "      <td>Allen, Mr. William Henry</td>\n",
       "      <td>male</td>\n",
       "      <td>35.0</td>\n",
       "      <td>0</td>\n",
       "      <td>0</td>\n",
       "      <td>373450</td>\n",
       "      <td>8.0500</td>\n",
       "      <td>NaN</td>\n",
       "      <td>S</td>\n",
       "    </tr>\n",
       "  </tbody>\n",
       "</table>\n",
       "</div>"
      ],
      "text/plain": [
       "   PassengerId  Survived  Pclass    ...        Fare Cabin  Embarked\n",
       "0            1         0       3    ...      7.2500   NaN         S\n",
       "1            2         1       1    ...     71.2833   C85         C\n",
       "2            3         1       3    ...      7.9250   NaN         S\n",
       "3            4         1       1    ...     53.1000  C123         S\n",
       "4            5         0       3    ...      8.0500   NaN         S\n",
       "\n",
       "[5 rows x 12 columns]"
      ]
     },
     "execution_count": 5,
     "metadata": {},
     "output_type": "execute_result"
    }
   ],
   "source": [
    "# データの一部を見てみる\n",
    "# モデル作成用データの上から5行を表示\n",
    "# 参考: train_df.head(7) # 上から7行表示\n",
    "train_df.head()"
   ]
  },
  {
   "cell_type": "code",
   "execution_count": 6,
   "metadata": {
    "_uuid": "396149f7b3382de0d4d8de5f21f04d8b2ade66a1"
   },
   "outputs": [
    {
     "data": {
      "text/html": [
       "<div>\n",
       "<style scoped>\n",
       "    .dataframe tbody tr th:only-of-type {\n",
       "        vertical-align: middle;\n",
       "    }\n",
       "\n",
       "    .dataframe tbody tr th {\n",
       "        vertical-align: top;\n",
       "    }\n",
       "\n",
       "    .dataframe thead th {\n",
       "        text-align: right;\n",
       "    }\n",
       "</style>\n",
       "<table border=\"1\" class=\"dataframe\">\n",
       "  <thead>\n",
       "    <tr style=\"text-align: right;\">\n",
       "      <th></th>\n",
       "      <th>PassengerId</th>\n",
       "      <th>Pclass</th>\n",
       "      <th>Name</th>\n",
       "      <th>Sex</th>\n",
       "      <th>Age</th>\n",
       "      <th>SibSp</th>\n",
       "      <th>Parch</th>\n",
       "      <th>Ticket</th>\n",
       "      <th>Fare</th>\n",
       "      <th>Cabin</th>\n",
       "      <th>Embarked</th>\n",
       "    </tr>\n",
       "  </thead>\n",
       "  <tbody>\n",
       "    <tr>\n",
       "      <th>0</th>\n",
       "      <td>892</td>\n",
       "      <td>3</td>\n",
       "      <td>Kelly, Mr. James</td>\n",
       "      <td>male</td>\n",
       "      <td>34.5</td>\n",
       "      <td>0</td>\n",
       "      <td>0</td>\n",
       "      <td>330911</td>\n",
       "      <td>7.8292</td>\n",
       "      <td>NaN</td>\n",
       "      <td>Q</td>\n",
       "    </tr>\n",
       "    <tr>\n",
       "      <th>1</th>\n",
       "      <td>893</td>\n",
       "      <td>3</td>\n",
       "      <td>Wilkes, Mrs. James (Ellen Needs)</td>\n",
       "      <td>female</td>\n",
       "      <td>47.0</td>\n",
       "      <td>1</td>\n",
       "      <td>0</td>\n",
       "      <td>363272</td>\n",
       "      <td>7.0000</td>\n",
       "      <td>NaN</td>\n",
       "      <td>S</td>\n",
       "    </tr>\n",
       "    <tr>\n",
       "      <th>2</th>\n",
       "      <td>894</td>\n",
       "      <td>2</td>\n",
       "      <td>Myles, Mr. Thomas Francis</td>\n",
       "      <td>male</td>\n",
       "      <td>62.0</td>\n",
       "      <td>0</td>\n",
       "      <td>0</td>\n",
       "      <td>240276</td>\n",
       "      <td>9.6875</td>\n",
       "      <td>NaN</td>\n",
       "      <td>Q</td>\n",
       "    </tr>\n",
       "    <tr>\n",
       "      <th>3</th>\n",
       "      <td>895</td>\n",
       "      <td>3</td>\n",
       "      <td>Wirz, Mr. Albert</td>\n",
       "      <td>male</td>\n",
       "      <td>27.0</td>\n",
       "      <td>0</td>\n",
       "      <td>0</td>\n",
       "      <td>315154</td>\n",
       "      <td>8.6625</td>\n",
       "      <td>NaN</td>\n",
       "      <td>S</td>\n",
       "    </tr>\n",
       "    <tr>\n",
       "      <th>4</th>\n",
       "      <td>896</td>\n",
       "      <td>3</td>\n",
       "      <td>Hirvonen, Mrs. Alexander (Helga E Lindqvist)</td>\n",
       "      <td>female</td>\n",
       "      <td>22.0</td>\n",
       "      <td>1</td>\n",
       "      <td>1</td>\n",
       "      <td>3101298</td>\n",
       "      <td>12.2875</td>\n",
       "      <td>NaN</td>\n",
       "      <td>S</td>\n",
       "    </tr>\n",
       "  </tbody>\n",
       "</table>\n",
       "</div>"
      ],
      "text/plain": [
       "   PassengerId  Pclass   ...    Cabin Embarked\n",
       "0          892       3   ...      NaN        Q\n",
       "1          893       3   ...      NaN        S\n",
       "2          894       2   ...      NaN        Q\n",
       "3          895       3   ...      NaN        S\n",
       "4          896       3   ...      NaN        S\n",
       "\n",
       "[5 rows x 11 columns]"
      ]
     },
     "execution_count": 6,
     "metadata": {},
     "output_type": "execute_result"
    }
   ],
   "source": [
    "# 予測対象データの上から5行を表示\n",
    "# Survivedの列（生存か死亡かを表す）がないことが確認できる\n",
    "test_df.head()"
   ]
  },
  {
   "cell_type": "markdown",
   "metadata": {
    "_uuid": "0e55e984bbaa82fdbdee7c7244162aea0dd4803d"
   },
   "source": [
    "`head`  \n",
    "ドキュメント: https://pandas.pydata.org/pandas-docs/stable/reference/api/pandas.DataFrame.head.html"
   ]
  },
  {
   "cell_type": "code",
   "execution_count": 7,
   "metadata": {
    "_uuid": "8fee68e0970b6d1d8f8363fec7032694c05876e9"
   },
   "outputs": [
    {
     "name": "stdout",
     "output_type": "stream",
     "text": [
      "<class 'pandas.core.frame.DataFrame'>\n",
      "RangeIndex: 891 entries, 0 to 890\n",
      "Data columns (total 12 columns):\n",
      "PassengerId    891 non-null int64\n",
      "Survived       891 non-null int64\n",
      "Pclass         891 non-null int64\n",
      "Name           891 non-null object\n",
      "Sex            891 non-null object\n",
      "Age            714 non-null float64\n",
      "SibSp          891 non-null int64\n",
      "Parch          891 non-null int64\n",
      "Ticket         891 non-null object\n",
      "Fare           891 non-null float64\n",
      "Cabin          204 non-null object\n",
      "Embarked       889 non-null object\n",
      "dtypes: float64(2), int64(5), object(5)\n",
      "memory usage: 83.6+ KB\n"
     ]
    }
   ],
   "source": [
    "# 各列にどんな種類のデータが入っているか確かめる（数値なのか、文字列なのか）\n",
    "# モデル作成用データの情報を確認（見方については後述）\n",
    "train_df.info()"
   ]
  },
  {
   "cell_type": "code",
   "execution_count": 8,
   "metadata": {
    "_uuid": "5313cd4db853ceb6f5e09e9bfb8a37df278f16a0"
   },
   "outputs": [
    {
     "name": "stdout",
     "output_type": "stream",
     "text": [
      "<class 'pandas.core.frame.DataFrame'>\n",
      "RangeIndex: 418 entries, 0 to 417\n",
      "Data columns (total 11 columns):\n",
      "PassengerId    418 non-null int64\n",
      "Pclass         418 non-null int64\n",
      "Name           418 non-null object\n",
      "Sex            418 non-null object\n",
      "Age            332 non-null float64\n",
      "SibSp          418 non-null int64\n",
      "Parch          418 non-null int64\n",
      "Ticket         418 non-null object\n",
      "Fare           417 non-null float64\n",
      "Cabin          91 non-null object\n",
      "Embarked       418 non-null object\n",
      "dtypes: float64(2), int64(4), object(5)\n",
      "memory usage: 36.0+ KB\n"
     ]
    }
   ],
   "source": [
    "# 予測対象データの情報を確認\n",
    "test_df.info()"
   ]
  },
  {
   "cell_type": "markdown",
   "metadata": {
    "_uuid": "9b86455b77dfbfdb8f5905e61a4227e37c914a3b"
   },
   "source": [
    "`info`  \n",
    "解説: https://note.nkmk.me/python-pandas-len-shape-size/  \n",
    "ドキュメント: https://pandas.pydata.org/pandas-docs/stable/reference/api/pandas.DataFrame.info.html"
   ]
  },
  {
   "cell_type": "markdown",
   "metadata": {
    "_uuid": "167716b1debadbf441c33bd89f478243130e1a38"
   },
   "source": [
    "| infoによる情報 | 意味 |\n",
    "| ---- | ---- | \n",
    "| int | 整数 |\n",
    "| float | 浮動小数点数 |\n",
    "| object | 文字列 |"
   ]
  },
  {
   "cell_type": "markdown",
   "metadata": {
    "_uuid": "e24224735ca20796ab15c84f5984cda34a107f53"
   },
   "source": [
    "| データの情報 | 列名 |　意味 |\n",
    "| ----- | ----- | ----- |\n",
    "| int | PassengerId | 乗客ID |\n",
    "| int | **Pclass** | チケットの等級 (1, 2, 3) |\n",
    "| int | SibSp | 同乗した兄弟姉妹/配偶者の人数 |\n",
    "| int | Parch | 同乗した両親/子供の人数 |\n",
    "| int | *Survived* | 0：死亡、1：生存 |\n",
    "| float | **Age** | 年齢（推測があるため、浮動小数点数） |\n",
    "| float | Fare | 運賃 |\n",
    "| object | Name | 氏名 |\n",
    "| object | **Sex** | 性別 |\n",
    "| object | Ticket | チケット番号 |\n",
    "| object | Cabin | 船室番号 |\n",
    "| object | **Embarked** | 乗船した港の頭文字(S, Q, C) |\n",
    "\n",
    "ref: https://www.kaggle.com/c/titanic/data"
   ]
  },
  {
   "cell_type": "markdown",
   "metadata": {},
   "source": [
    "上の表で太字で示した列を使って、モデル作成を進めていきます。\n",
    "\n",
    "- Pclass\n",
    "- Age\n",
    "- Sex\n",
    "- Embarked\n",
    "\n",
    "モデル作成に使う列を徐々に増やすというアプローチを取ります。"
   ]
  },
  {
   "cell_type": "markdown",
   "metadata": {
    "_uuid": "aec5fbf9dcc5885f5d4cacda535b6dbe0e9842a1"
   },
   "source": [
    "## 1. 単純なモデル"
   ]
  },
  {
   "cell_type": "markdown",
   "metadata": {
    "_uuid": "54f4df433648d57638c3f33f2400fba0678bb8af"
   },
   "source": [
    "性別（Sex）を元に生死を予測するモデルを作成します。  \n",
    "以下のルールで生死を予測することにします。\n",
    "\n",
    "- 男性であれば、死亡\n",
    "- 女性であれば、生存\n",
    "\n",
    "注：この単純なモデルは機械学習で作るのではなく、人が決めたルールを実装して実現します"
   ]
  },
  {
   "cell_type": "markdown",
   "metadata": {
    "_uuid": "8fa24410d72b68a456d70a82e9427210e9e68cb7"
   },
   "source": [
    "モデル作成用データについて、性別と生死を可視化すると、**男性の生存率は低く、女性の生存率は高い**ことが分かります。  \n",
    "（ここで採用する予測ルールは全くの見当違いというわけではないということです）\n",
    "\n",
    "![](https://raw.githubusercontent.com/ftnext/2019_slides/master/spz_online_titanic_handson/assets/survived_per_sex.png)"
   ]
  },
  {
   "cell_type": "markdown",
   "metadata": {
    "_uuid": "8d2febb1236fee74ebf8f4e1ab28837e84e4ca39"
   },
   "source": [
    "ここで用いた可視化手法は**ヒストグラム**と呼ばれます。  \n",
    "男性、女性それぞれについて、Survivedのヒストグラムを描画しました。  \n",
    "\n",
    "横軸0〜1の間に2本の柱があります。  \n",
    "左側の柱はSurvivedの値が0〜0.5のデータの個数を表し、右側の柱はSurvivedの値が0.5〜1のデータの個数を表します。  \n",
    "Survivedの取りうる値は0か1なので、**左側の柱は死亡者の人数、右側の柱は生存者の人数**を表します。\n",
    "\n",
    "- 男性(male)のヒストグラムでは、死亡者 約450名、生存者 約100名と、**男性の生存率は低い**です\n",
    "- 女性(female)のヒストグラムでは、死亡者 約80名、生存者 約230名と、**女性の生存率は高い**です\n",
    "\n",
    "なお、可視化のコードはこちらのカーネルにあります：https://www.kaggle.com/ftnext/kaggle-spzcolab-201903"
   ]
  },
  {
   "cell_type": "code",
   "execution_count": 9,
   "metadata": {
    "_uuid": "834b2d4b6bd6f90bd53d654f9fadb3a190efb28a"
   },
   "outputs": [],
   "source": [
    "# モデル作成・性能評価に使うモジュールの読み込み\n",
    "# scikit-learn（コードではsklearn）は、機械学習の様々なアルゴリズムや、モデルの評価ツールを提供するモジュール\n",
    "from sklearn.metrics import accuracy_score\n",
    "from sklearn.model_selection import train_test_split\n",
    "from sklearn.tree import DecisionTreeClassifier"
   ]
  },
  {
   "cell_type": "code",
   "execution_count": 10,
   "metadata": {
    "_uuid": "7ec884f71ed3334b0ca669bbf9540e3acecbdeda"
   },
   "outputs": [],
   "source": [
    "# モデルが予測に使う情報（ここでは性別）をx, モデルが予測する情報（ここでは生死）をyとして取り出す\n",
    "x = train_df['Sex']\n",
    "y = train_df['Survived']"
   ]
  },
  {
   "cell_type": "markdown",
   "metadata": {
    "_uuid": "6c64a86bde8d32abfbad1db51eae4c9a1bbe00b5"
   },
   "source": [
    "参考: 列の取り出し https://note.nkmk.me/python-pandas-index-row-column/  \n",
    "ドキュメント: 10 minutes pandasの中のSelection https://pandas.pydata.org/pandas-docs/stable/getting_started/10min.html#selection"
   ]
  },
  {
   "cell_type": "code",
   "execution_count": 11,
   "metadata": {
    "_uuid": "fad6d1de26ecf0a807ac2b924e21c3e6cb977141"
   },
   "outputs": [],
   "source": [
    "# xの値のうち、femaleが1に置き換わり、maleが0に置き換わる（コロンの左側に一致する要素が、コロンの右側の値に置き換わる）\n",
    "# 注: Sexの取りうる値はfemaleかmale\n",
    "# astype(int)でデータの型が文字列から整数へ変わることに対応\n",
    "y_pred = x.map({'female': 1, 'male': 0}).astype(int)"
   ]
  },
  {
   "cell_type": "markdown",
   "metadata": {
    "_uuid": "3dcdf935764c4178da593c732f4f83071abf3b13"
   },
   "source": [
    "`map`  \n",
    "参考: https://note.nkmk.me/python-pandas-map-replace/  \n",
    "ドキュメント: https://pandas.pydata.org/pandas-docs/stable/reference/api/pandas.Series.map.html"
   ]
  },
  {
   "cell_type": "markdown",
   "metadata": {},
   "source": [
    "実行したコードのイメージ  \n",
    "\n",
    "| `x` | `y_pred` |\n",
    "| ---- | ---- |\n",
    "| male | 0 |\n",
    "| female | 1 |\n",
    "|  :  | : |\n",
    "| female | 1 |\n",
    "\n",
    "`x`と対応するように`y_pred`を作成"
   ]
  },
  {
   "cell_type": "markdown",
   "metadata": {
    "_uuid": "1cc51c7eaa894db40f9fef0d0e64229c5a785dc0"
   },
   "source": [
    "タイタニックの場合、モデルの性能はaccuracyというスコアで評価される  \n",
    "（**注**：性能を表すスコアは他にもある）\n",
    "\n",
    "- 予測対象データ418名のうち生死を正しく予想できたものの割合\n",
    "- 1に近いほど性能がよい\n",
    "\n",
    "| ケース | 正解／誤り |\n",
    "| ----- | ----- |\n",
    "| 生存した乗客を生存と予測 | 正解 |\n",
    "| 生存した乗客を死亡と予測 | 誤り |\n",
    "| 死亡した乗客を生存と予測 | 誤り |\n",
    "| 死亡した乗客を死亡と予測 | 正解 |\n",
    "\n",
    "accuracy = (正解の総数) / (正解の総数 + 誤りの総数)\n",
    "\n",
    ">Your score is the percentage of passengers you correctly predict. This is known simply as \"accuracy”.\n",
    "\n",
    "ref: https://www.kaggle.com/c/titanic#evaluation"
   ]
  },
  {
   "cell_type": "code",
   "execution_count": 12,
   "metadata": {
    "_uuid": "40deae510f7a587ceaa84f2a4c041f921b173c29"
   },
   "outputs": [
    {
     "data": {
      "text/plain": [
       "0.7867564534231201"
      ]
     },
     "execution_count": 12,
     "metadata": {},
     "output_type": "execute_result"
    }
   ],
   "source": [
    "# 予測y_predを実際の生死yで採点し、予測の正解率(accuracy)を表示\n",
    "accuracy_score(y, y_pred)"
   ]
  },
  {
   "cell_type": "markdown",
   "metadata": {
    "_uuid": "ecfe43482dc1f9e895de3f68b0c4a5a1135e02b5"
   },
   "source": [
    "`accuracy_score`  \n",
    "ドキュメント: https://scikit-learn.org/stable/modules/generated/sklearn.metrics.accuracy_score.html"
   ]
  },
  {
   "cell_type": "code",
   "execution_count": 13,
   "metadata": {
    "_uuid": "c4ce11b2224a1e59078208b9517ce97c404cbb9c"
   },
   "outputs": [],
   "source": [
    "# 予測対象データについて生死を予測する\n",
    "# 予測対象データのSex列の取り出し\n",
    "x_test = test_df['Sex']\n",
    "# Sexの値を元に、生死を予測\n",
    "y_test_pred = x_test.map({'female': 1, 'male': 0}).astype(int)"
   ]
  },
  {
   "cell_type": "markdown",
   "metadata": {
    "_uuid": "7e1519aeea4906c81a53848406488a9a9b76dcc8"
   },
   "source": [
    "- 予測した結果から提出用データを作る\n",
    "- 提出用データは以下の形式のCSVとするように指定されている（1が生存、0が死亡）\n",
    "\n",
    "PassengerId | Survived\n",
    "----- | -----\n",
    "892 | 0\n",
    ": | :\n",
    "1309|1\n",
    "\n",
    "- ref: https://www.kaggle.com/c/titanic#evaluation"
   ]
  },
  {
   "cell_type": "code",
   "execution_count": 14,
   "metadata": {
    "_uuid": "55e07788d3f2f0e0034d9dcfb2fdbfed4007ee18"
   },
   "outputs": [],
   "source": [
    "# colabでの実行の際は省略\n",
    "# # 提出用データの形式に変換\n",
    "# submission = pd.DataFrame({\n",
    "#     'PassengerId': test_df['PassengerId'],\n",
    "#     'Survived': y_test_pred\n",
    "# })\n",
    "# # 提出用データ作成\n",
    "# submission.to_csv('submission.csv', index=False)"
   ]
  },
  {
   "cell_type": "markdown",
   "metadata": {},
   "source": [
    "提出は一緒に進めます  \n",
    "（後追い視聴の方向けに手順をスライドにも記載します）\n",
    "\n",
    "注：提出はブラウザの別のタブで行われますが、**このKernelのタブは閉じないでください**。  \n",
    "（提出後、このタブに戻って、続きを進めます）"
   ]
  },
  {
   "cell_type": "markdown",
   "metadata": {
    "_uuid": "285ce587425f7149a3ba8fa5942e7cd6b3afdd4a"
   },
   "source": [
    "## 2. モデル作成を一緒に体験\n",
    "\n",
    "単純なモデルよりも性能のいいモデル作りに挑戦\n",
    "\n",
    "### SexとPclassからモデル作成"
   ]
  },
  {
   "cell_type": "code",
   "execution_count": 15,
   "metadata": {
    "_uuid": "6b5db7204d13791b9c0ffb7100397ed0098eff08"
   },
   "outputs": [],
   "source": [
    "# SexとPclassから生死を予測するモデルを作ることにする\n",
    "columns = ['Pclass', 'Sex']"
   ]
  },
  {
   "cell_type": "markdown",
   "metadata": {
    "_uuid": "2257ebcfe2d6fb2917b989924974277662845529"
   },
   "source": [
    "Pclass=1,2,3それぞれについて、Survivedのヒストグラムを描画\n",
    "\n",
    "![](https://raw.githubusercontent.com/ftnext/2019_slides/master/spz_online_titanic_handson/assets/survived_per_pclass.png)"
   ]
  },
  {
   "cell_type": "markdown",
   "metadata": {
    "_uuid": "e2d6ed0b5d4c8dc7931eeaf0a29b38d1af88235a"
   },
   "source": [
    "Pclassの値によって生存率が異なるため、Pclassは生死の予測に使えると考えられます\n",
    "\n",
    "- Pclass=1は生存者が過半数を超えている\n",
    "- Pclass=2は生存者が半分程度\n",
    "- Pclass=3は生存者が少ない（4分の1程度）"
   ]
  },
  {
   "cell_type": "code",
   "execution_count": 16,
   "metadata": {
    "_uuid": "61ba0eb3014ed5813005b88e1947eed1e6266b89"
   },
   "outputs": [],
   "source": [
    "# モデル作成に使う情報をX, モデルが予測する情報（ここでは生死）をyとして取り出す（Xとyという変数名が多い）\n",
    "X = train_df[columns].copy()\n",
    "y = train_df['Survived']\n",
    "# 予測対象データについて、予測に使う情報を取り出しておく\n",
    "X_test = test_df[columns].copy()"
   ]
  },
  {
   "cell_type": "code",
   "execution_count": 17,
   "metadata": {
    "_uuid": "fe285526d1635fb8e9b945b75572cbbbe5f48fee"
   },
   "outputs": [
    {
     "data": {
      "text/html": [
       "<div>\n",
       "<style scoped>\n",
       "    .dataframe tbody tr th:only-of-type {\n",
       "        vertical-align: middle;\n",
       "    }\n",
       "\n",
       "    .dataframe tbody tr th {\n",
       "        vertical-align: top;\n",
       "    }\n",
       "\n",
       "    .dataframe thead th {\n",
       "        text-align: right;\n",
       "    }\n",
       "</style>\n",
       "<table border=\"1\" class=\"dataframe\">\n",
       "  <thead>\n",
       "    <tr style=\"text-align: right;\">\n",
       "      <th></th>\n",
       "      <th>Pclass</th>\n",
       "      <th>Sex</th>\n",
       "    </tr>\n",
       "  </thead>\n",
       "  <tbody>\n",
       "    <tr>\n",
       "      <th>0</th>\n",
       "      <td>3</td>\n",
       "      <td>male</td>\n",
       "    </tr>\n",
       "    <tr>\n",
       "      <th>1</th>\n",
       "      <td>1</td>\n",
       "      <td>female</td>\n",
       "    </tr>\n",
       "    <tr>\n",
       "      <th>2</th>\n",
       "      <td>3</td>\n",
       "      <td>female</td>\n",
       "    </tr>\n",
       "    <tr>\n",
       "      <th>3</th>\n",
       "      <td>1</td>\n",
       "      <td>female</td>\n",
       "    </tr>\n",
       "    <tr>\n",
       "      <th>4</th>\n",
       "      <td>3</td>\n",
       "      <td>male</td>\n",
       "    </tr>\n",
       "  </tbody>\n",
       "</table>\n",
       "</div>"
      ],
      "text/plain": [
       "   Pclass     Sex\n",
       "0       3    male\n",
       "1       1  female\n",
       "2       3  female\n",
       "3       1  female\n",
       "4       3    male"
      ]
     },
     "execution_count": 17,
     "metadata": {},
     "output_type": "execute_result"
    }
   ],
   "source": [
    "# モデル作成に使うデータを確認\n",
    "X.head()"
   ]
  },
  {
   "cell_type": "markdown",
   "metadata": {
    "_uuid": "17d79258f64e7bd250b0561acfacf81ef097eb39"
   },
   "source": [
    "- いくつかの文字列の値を取る変数：カテゴリ変数\n",
    "    - Sex: male, female\n",
    "- 文字列を整数に変換する\n",
    "    - Sex: male=1, female=0として置き換え\n",
    "    \n",
    "モデル作成に使うデータ`X`について変換する際は、モデルが予測するデータ`X_test`についても**同様の変換をする**ことがポイントとなります。"
   ]
  },
  {
   "cell_type": "code",
   "execution_count": 18,
   "metadata": {
    "_uuid": "88961d4756dd4d1b7cad72eddf32604fea742ea3"
   },
   "outputs": [],
   "source": [
    "# 性別（female/male）を0/1に変換する（maleとfemaleのままではモデル作成時に扱えない）\n",
    "# カテゴリを整数に置き換えるための「辞書」を用意\n",
    "gender_map = {'female': 0, 'male': 1}\n",
    "# 引数の辞書でコロンの左側（キー）に一致する要素が、コロンの右側の値に置き換わる（femaleが0に置き換わり、maleが1に置き換わる）\n",
    "X['Gender'] = X['Sex'].map(gender_map).astype(int)\n",
    "X_test['Gender'] = X_test['Sex'].map(gender_map).astype(int)"
   ]
  },
  {
   "cell_type": "markdown",
   "metadata": {},
   "source": [
    "Sexを0/1に変換したあとのX（イメージ）  \n",
    "**Genderという列が追加される**\n",
    "\n",
    "| Pclass | Sex | Gender |\n",
    "| ---- | ---- | ---- |\n",
    "| 2 | male | 1 |\n",
    "| 3 | female | 0 |\n",
    "| : | : | : |"
   ]
  },
  {
   "cell_type": "code",
   "execution_count": 19,
   "metadata": {
    "_uuid": "809619380c1adad2cd4b089291cee799fa801cc6"
   },
   "outputs": [],
   "source": [
    "# Sexに代えてGenderを使うため、Sex列を削除する\n",
    "X = X.drop(['Sex'], axis=1)\n",
    "X_test = X_test.drop(['Sex'], axis=1)"
   ]
  },
  {
   "cell_type": "markdown",
   "metadata": {
    "_uuid": "14f8cdd816d7e4706e9f0c6f67c3333765de0b24"
   },
   "source": [
    "`drop`  \n",
    "参考: https://note.nkmk.me/python-pandas-drop/  \n",
    "ドキュメント: https://pandas.pydata.org/pandas-docs/stable/reference/api/pandas.DataFrame.drop.html"
   ]
  },
  {
   "cell_type": "code",
   "execution_count": 20,
   "metadata": {
    "_uuid": "a2ad8b1621a78a1ceadf3b154f7c34e19e7934e6"
   },
   "outputs": [
    {
     "data": {
      "text/html": [
       "<div>\n",
       "<style scoped>\n",
       "    .dataframe tbody tr th:only-of-type {\n",
       "        vertical-align: middle;\n",
       "    }\n",
       "\n",
       "    .dataframe tbody tr th {\n",
       "        vertical-align: top;\n",
       "    }\n",
       "\n",
       "    .dataframe thead th {\n",
       "        text-align: right;\n",
       "    }\n",
       "</style>\n",
       "<table border=\"1\" class=\"dataframe\">\n",
       "  <thead>\n",
       "    <tr style=\"text-align: right;\">\n",
       "      <th></th>\n",
       "      <th>Pclass</th>\n",
       "      <th>Gender</th>\n",
       "    </tr>\n",
       "  </thead>\n",
       "  <tbody>\n",
       "    <tr>\n",
       "      <th>0</th>\n",
       "      <td>3</td>\n",
       "      <td>1</td>\n",
       "    </tr>\n",
       "    <tr>\n",
       "      <th>1</th>\n",
       "      <td>1</td>\n",
       "      <td>0</td>\n",
       "    </tr>\n",
       "    <tr>\n",
       "      <th>2</th>\n",
       "      <td>3</td>\n",
       "      <td>0</td>\n",
       "    </tr>\n",
       "    <tr>\n",
       "      <th>3</th>\n",
       "      <td>1</td>\n",
       "      <td>0</td>\n",
       "    </tr>\n",
       "    <tr>\n",
       "      <th>4</th>\n",
       "      <td>3</td>\n",
       "      <td>1</td>\n",
       "    </tr>\n",
       "  </tbody>\n",
       "</table>\n",
       "</div>"
      ],
      "text/plain": [
       "   Pclass  Gender\n",
       "0       3       1\n",
       "1       1       0\n",
       "2       3       0\n",
       "3       1       0\n",
       "4       3       1"
      ]
     },
     "execution_count": 20,
     "metadata": {},
     "output_type": "execute_result"
    }
   ],
   "source": [
    "# モデル作成に使うデータについて、前処理した後の状態を確認\n",
    "X.head()"
   ]
  },
  {
   "cell_type": "markdown",
   "metadata": {
    "_uuid": "a07a42f98a6585bddaed7f062fbd56f852faf03b"
   },
   "source": [
    "このあとモデルを作成します。  \n",
    "モデルを作成したらすぐに予測対象データについて予測するのではなく、**どの程度の性能のモデルなのか**確認します。  \n",
    "モデルの性能確認のために、モデル作成に使うデータをランダムに2つに分けます（`train_test_split`を使います）\n",
    "\n",
    "- モデル作成に使うデータのうち、例えば7割でモデルを作る\n",
    "- 残りの3割でモデルの性能を評価する\n",
    "    - モデルの性能が問題なければ、予測対象データを予測する\n",
    "\n",
    "![](https://raw.githubusercontent.com/ftnext/2019_slides/master/spz_Jan_titanic_handson/assets/201901kaggel_talk.010.png)\n",
    "\n",
    "気になる方へ：  \n",
    "ランダムに分けていますが、`random_state`引数の値が同じなら、**何回実行しても同じ**ようにランダムに分かれます"
   ]
  },
  {
   "cell_type": "code",
   "execution_count": 21,
   "metadata": {
    "_uuid": "2e265192a98cecd770899eeb223b768e25b736ae"
   },
   "outputs": [],
   "source": [
    "# 今回のハンズオンは7:3に分けて進める\n",
    "X_train, X_val, y_train, y_val = train_test_split(X, y, test_size=0.3, random_state=1)"
   ]
  },
  {
   "cell_type": "markdown",
   "metadata": {
    "_uuid": "d81fe7d9e0e5e18b34f62ac72bf04466b694ea42"
   },
   "source": [
    "`train_test_split`  \n",
    "参考: https://docs.pyq.jp/python/machine_learning/tips/train_test_split.html  \n",
    "ドキュメント: https://scikit-learn.org/stable/modules/generated/sklearn.model_selection.train_test_split.html"
   ]
  },
  {
   "cell_type": "markdown",
   "metadata": {
    "_uuid": "f0568ada7f8aada0ff02000fe944a8a136fdaad6"
   },
   "source": [
    "| 変数名 | 用途 |\n",
    "| ----- | ----- |\n",
    "| X_train | 学習用データ（乗客の属性） |\n",
    "| y_train | 学習用データ（生死） |\n",
    "| X_val | 性能評価用データ（乗客の属性） |\n",
    "| y_val | 性能評価用のデータ（生死） |\n",
    "\n",
    "※学習とは、データとアルゴリズムからモデル（＝推論のルール）を作成すること"
   ]
  },
  {
   "cell_type": "code",
   "execution_count": 22,
   "metadata": {
    "_uuid": "7d837f2e0c8d24f6640d759c80b63e3c468924e0"
   },
   "outputs": [
    {
     "data": {
      "text/plain": [
       "623"
      ]
     },
     "execution_count": 22,
     "metadata": {},
     "output_type": "execute_result"
    }
   ],
   "source": [
    "# 学習用データの数の確認\n",
    "len(y_train)"
   ]
  },
  {
   "cell_type": "code",
   "execution_count": 23,
   "metadata": {
    "_uuid": "8d393db840989c0bb5262bc821122421bf8b522f",
    "scrolled": true
   },
   "outputs": [
    {
     "data": {
      "text/plain": [
       "268"
      ]
     },
     "execution_count": 23,
     "metadata": {},
     "output_type": "execute_result"
    }
   ],
   "source": [
    "# 性能評価用のデータの数の確認\n",
    "len(y_val)"
   ]
  },
  {
   "cell_type": "code",
   "execution_count": 24,
   "metadata": {
    "_uuid": "9538ed46f9ed05095c1dffcdd71103b56e036013"
   },
   "outputs": [
    {
     "data": {
      "text/plain": [
       "DecisionTreeClassifier(class_weight=None, criterion='entropy', max_depth=3,\n",
       "            max_features=None, max_leaf_nodes=None,\n",
       "            min_impurity_decrease=0.0, min_impurity_split=None,\n",
       "            min_samples_leaf=2, min_samples_split=2,\n",
       "            min_weight_fraction_leaf=0.0, presort=False, random_state=1,\n",
       "            splitter='best')"
      ]
     },
     "execution_count": 24,
     "metadata": {},
     "output_type": "execute_result"
    }
   ],
   "source": [
    "# 決定木というアルゴリズムを使ったモデルを用意\n",
    "model = DecisionTreeClassifier(random_state=1, criterion='entropy', max_depth=3, min_samples_leaf=2)\n",
    "# モデル作成は以下の1行（ここまでの前処理に対してたった1行！）で完了する\n",
    "model.fit(X_train, y_train)"
   ]
  },
  {
   "cell_type": "markdown",
   "metadata": {
    "_uuid": "3e2a9776a3eb7b10f749ddd886bb0e7afa2b6649"
   },
   "source": [
    "参考: https://scikit-learn.org/stable/modules/tree.html#classification  \n",
    "ドキュメント: https://scikit-learn.org/stable/modules/generated/sklearn.tree.DecisionTreeClassifier.html"
   ]
  },
  {
   "cell_type": "code",
   "execution_count": 25,
   "metadata": {
    "_uuid": "a063293d2167961907aa65fe4cc2f504bdc86a16"
   },
   "outputs": [
    {
     "data": {
      "text/plain": [
       "0.746268656716418"
      ]
     },
     "execution_count": 25,
     "metadata": {},
     "output_type": "execute_result"
    }
   ],
   "source": [
    "# 性能評価用データについて生死を予測\n",
    "pred = model.predict(X_val)\n",
    "# 性能確認:accuracyを算出して表示\n",
    "accuracy_score(y_val, pred)"
   ]
  },
  {
   "cell_type": "markdown",
   "metadata": {
    "_uuid": "9da8b7d4bdd7c0a45b244dd5489bb5b074304dfc"
   },
   "source": [
    "参考情報  \n",
    "別のモデルを作ったときに、以前に作ったモデルよりスコアが低ければ、提出しないという判断ができます  \n",
    "（Kaggleに提出しなくても試行錯誤が進められる。提出回数には日次の上限がある）"
   ]
  },
  {
   "cell_type": "code",
   "execution_count": 26,
   "metadata": {
    "_uuid": "6f8f1f89df8a2845df1840288c04a8cc51213e0c"
   },
   "outputs": [],
   "source": [
    "# X_testについて生死を予測（予測対象データからSexとPclassをX_testとして取り出し、Xと同様の前処理を行っている）\n",
    "pred = model.predict(X_test)"
   ]
  },
  {
   "cell_type": "code",
   "execution_count": 27,
   "metadata": {
    "_uuid": "048198f3fda1818008d2e7b20b6bacce37109c53"
   },
   "outputs": [],
   "source": [
    "# colabでの実行の際は省略\n",
    "# # 提出用データの形式に変換\n",
    "# submission = pd.DataFrame({\n",
    "#     'PassengerId': test_df['PassengerId'],\n",
    "#     'Survived': pred\n",
    "# })\n",
    "# # 提出用データ作成\n",
    "# submission.to_csv('submission.csv', index=False)"
   ]
  },
  {
   "cell_type": "markdown",
   "metadata": {
    "_uuid": "d0671a593509c533f4de856c3ffdcf307fe2b9d5"
   },
   "source": [
    "## 3. 用意した選択肢を試す\n",
    "\n",
    "欠損値の対応を新しく扱う"
   ]
  },
  {
   "cell_type": "markdown",
   "metadata": {
    "_uuid": "fe0c944512016ff55ded15055f062a0ff9b77d2f"
   },
   "source": [
    "### （選択肢1）Ageを追加"
   ]
  },
  {
   "cell_type": "code",
   "execution_count": 28,
   "metadata": {
    "_uuid": "e8122893012b2c4e43e3d873500f3e9aad494112"
   },
   "outputs": [],
   "source": [
    "# モデルの予測に使う情報にAgeを追加\n",
    "columns = ['Pclass', 'Sex', 'Age']"
   ]
  },
  {
   "cell_type": "markdown",
   "metadata": {
    "_uuid": "f7d3950a79ee31eea4cff72d299ff434d2a24cec"
   },
   "source": [
    "Ageについてヒストグラムを作成（8歳で一つの柱としている）  \n",
    "1つの柱のうち、生存者と死亡者を色分けして表示している  \n",
    "\n",
    "![](https://raw.githubusercontent.com/ftnext/2019_slides/master/spz_online_titanic_handson/assets/age_hist_stacked_survived.png)"
   ]
  },
  {
   "cell_type": "markdown",
   "metadata": {
    "_uuid": "a561fd3cb5ffb67de6683a8609bf709b3811d344"
   },
   "source": [
    "Ageの層によって生存率が異なるため、Ageは生死の予測に使えると考えられます。\n",
    "\n",
    "助かっている割合が高い年齢層\n",
    "- 0歳〜8歳（半数以上）\n",
    "- 10代前半、30代後半、50〜60歳（半数程度）"
   ]
  },
  {
   "cell_type": "code",
   "execution_count": 29,
   "metadata": {
    "_uuid": "f1128409ea48e28ec35dcca4c32d59c5b1a3e911"
   },
   "outputs": [],
   "source": [
    "# モデル作成に使う情報をX, モデルが予測する情報（ここでは生死）をyとして取り出す\n",
    "X = train_df[columns].copy()\n",
    "y = train_df['Survived']\n",
    "# 予測対象データについて、予測に使う情報を取り出しておく\n",
    "X_test = test_df[columns].copy()"
   ]
  },
  {
   "cell_type": "code",
   "execution_count": 30,
   "metadata": {
    "_uuid": "9ea9062a82999050a5a325f92daec958ae1aa4a2"
   },
   "outputs": [
    {
     "data": {
      "text/html": [
       "<div>\n",
       "<style scoped>\n",
       "    .dataframe tbody tr th:only-of-type {\n",
       "        vertical-align: middle;\n",
       "    }\n",
       "\n",
       "    .dataframe tbody tr th {\n",
       "        vertical-align: top;\n",
       "    }\n",
       "\n",
       "    .dataframe thead th {\n",
       "        text-align: right;\n",
       "    }\n",
       "</style>\n",
       "<table border=\"1\" class=\"dataframe\">\n",
       "  <thead>\n",
       "    <tr style=\"text-align: right;\">\n",
       "      <th></th>\n",
       "      <th>Pclass</th>\n",
       "      <th>Sex</th>\n",
       "      <th>Age</th>\n",
       "    </tr>\n",
       "  </thead>\n",
       "  <tbody>\n",
       "    <tr>\n",
       "      <th>0</th>\n",
       "      <td>3</td>\n",
       "      <td>male</td>\n",
       "      <td>22.0</td>\n",
       "    </tr>\n",
       "    <tr>\n",
       "      <th>1</th>\n",
       "      <td>1</td>\n",
       "      <td>female</td>\n",
       "      <td>38.0</td>\n",
       "    </tr>\n",
       "    <tr>\n",
       "      <th>2</th>\n",
       "      <td>3</td>\n",
       "      <td>female</td>\n",
       "      <td>26.0</td>\n",
       "    </tr>\n",
       "    <tr>\n",
       "      <th>3</th>\n",
       "      <td>1</td>\n",
       "      <td>female</td>\n",
       "      <td>35.0</td>\n",
       "    </tr>\n",
       "    <tr>\n",
       "      <th>4</th>\n",
       "      <td>3</td>\n",
       "      <td>male</td>\n",
       "      <td>35.0</td>\n",
       "    </tr>\n",
       "  </tbody>\n",
       "</table>\n",
       "</div>"
      ],
      "text/plain": [
       "   Pclass     Sex   Age\n",
       "0       3    male  22.0\n",
       "1       1  female  38.0\n",
       "2       3  female  26.0\n",
       "3       1  female  35.0\n",
       "4       3    male  35.0"
      ]
     },
     "execution_count": 30,
     "metadata": {},
     "output_type": "execute_result"
    }
   ],
   "source": [
    "# モデル作成に使うデータを確認\n",
    "X.head()"
   ]
  },
  {
   "cell_type": "markdown",
   "metadata": {},
   "source": [
    "**欠損値**について\n",
    "\n",
    "- 欠けたデータのこと（missing value、欠測値とも呼ばれる）\n",
    "    - pandasで扱う際は、NaNと表示される（`train_df.head()`のCabin列）\n",
    "    - `train_df.info()`の結果に714や204など、891よりも小さい値があった\n",
    "- 欠損の要因：データの収集過程で抜けてしまったなど\n",
    "- 機械学習のツールは **一般に欠損値に対処できない**（そのためデータを前処理する）"
   ]
  },
  {
   "cell_type": "code",
   "execution_count": 31,
   "metadata": {
    "_uuid": "576ba46eeae0f0ad563567c70a535a1ca5460dd8"
   },
   "outputs": [
    {
     "data": {
      "text/plain": [
       "Pclass      0\n",
       "Sex         0\n",
       "Age       177\n",
       "dtype: int64"
      ]
     },
     "execution_count": 31,
     "metadata": {},
     "output_type": "execute_result"
    }
   ],
   "source": [
    "# モデル作成に使うデータの欠損値の確認\n",
    "X.isnull().sum()"
   ]
  },
  {
   "cell_type": "code",
   "execution_count": 32,
   "metadata": {
    "_uuid": "066d69cbfd933ea242eb75ff3e2ed99a6af86731"
   },
   "outputs": [
    {
     "data": {
      "text/plain": [
       "Pclass     0\n",
       "Sex        0\n",
       "Age       86\n",
       "dtype: int64"
      ]
     },
     "execution_count": 32,
     "metadata": {},
     "output_type": "execute_result"
    }
   ],
   "source": [
    "# モデルが予測するデータの欠損値の確認\n",
    "X_test.isnull().sum()"
   ]
  },
  {
   "cell_type": "markdown",
   "metadata": {
    "_uuid": "4aee0885b58eb27f8dda60e788047a7d6639d94d"
   },
   "source": [
    "`isnull().sum()`  \n",
    "参考: https://note.nkmk.me/python-pandas-nan-judge-count/"
   ]
  },
  {
   "cell_type": "markdown",
   "metadata": {
    "_uuid": "394655188306461998bf151b4483c58a7f0ecbc2"
   },
   "source": [
    "- Ageがモデル作成用・性能評価用とで20%程度欠けていることがわかった\n",
    "- 削除すると貴重なデータが減るので、**埋める**\n",
    "- モデル作成用データの平均値（=年齢の総和/個数）で埋める"
   ]
  },
  {
   "cell_type": "code",
   "execution_count": 33,
   "metadata": {},
   "outputs": [
    {
     "name": "stdout",
     "output_type": "stream",
     "text": [
      "Age mean: 29.69911764705882\n"
     ]
    }
   ],
   "source": [
    "# Ageの平均値の算出\n",
    "age_mean = X['Age'].mean()\n",
    "print(f'Age mean: {age_mean}')"
   ]
  },
  {
   "cell_type": "markdown",
   "metadata": {},
   "source": [
    "`mean`  \n",
    "参考: https://deepage.net/features/pandas-mean.html  \n",
    "ドキュメント: https://pandas.pydata.org/pandas-docs/stable/reference/api/pandas.Series.mean.html"
   ]
  },
  {
   "cell_type": "code",
   "execution_count": 34,
   "metadata": {
    "_uuid": "307da559d42c4c705d42f7c9dad4750ee4dd292e"
   },
   "outputs": [],
   "source": [
    "# 平均値を小数第2位で四捨五入して使う(round関数)\n",
    "# Ageの欠損を平均値で埋めた列AgeFillを追加\n",
    "X['AgeFill'] = X['Age'].fillna(round(age_mean, 1))\n",
    "X_test['AgeFill'] = X_test['Age'].fillna(round(age_mean, 1))"
   ]
  },
  {
   "cell_type": "markdown",
   "metadata": {
    "_uuid": "00a59a577a38d27b3f8e5410f661fe749177bb3e"
   },
   "source": [
    "`fillna`  \n",
    "参考: https://note.nkmk.me/python-pandas-nan-dropna-fillna/  \n",
    "ドキュメント: https://pandas.pydata.org/pandas-docs/stable/reference/api/pandas.DataFrame.fillna.html"
   ]
  },
  {
   "cell_type": "markdown",
   "metadata": {},
   "source": [
    "Ageの欠損を埋めたあとのX（イメージ）  \n",
    "**AgeFillという列が追加される**\n",
    "\n",
    "| Pclass | Sex | Age | AgeFill |\n",
    "| ---- | ---- | ---- | ---- |\n",
    "| 2 | male | NaN | 29.7 |\n",
    "| 3 | female | 31 | 31 |\n",
    "| : | : | : | : |"
   ]
  },
  {
   "cell_type": "code",
   "execution_count": 35,
   "metadata": {
    "_uuid": "21d1c73dc88fcc86be12c49236d5fcff26f7cd23"
   },
   "outputs": [],
   "source": [
    "# 欠損を含むAge列を削除（年齢の情報はAgeFill列を参照する）\n",
    "X = X.drop(['Age'], axis=1)\n",
    "X_test = X_test.drop(['Age'], axis=1)"
   ]
  },
  {
   "cell_type": "markdown",
   "metadata": {
    "_uuid": "8708b657fceeccc41df8e806f1b0da5ca7314449"
   },
   "source": [
    "`drop`  \n",
    "参考: https://note.nkmk.me/python-pandas-drop/  \n",
    "ドキュメント: https://pandas.pydata.org/pandas-docs/stable/reference/api/pandas.DataFrame.drop.html"
   ]
  },
  {
   "cell_type": "code",
   "execution_count": 36,
   "metadata": {
    "_uuid": "7353aed8b830abe34b943740aa8c67d53616263b"
   },
   "outputs": [
    {
     "data": {
      "text/plain": [
       "Pclass     0\n",
       "Sex        0\n",
       "AgeFill    0\n",
       "dtype: int64"
      ]
     },
     "execution_count": 36,
     "metadata": {},
     "output_type": "execute_result"
    }
   ],
   "source": [
    "# モデル作成に使うデータの欠損値の確認\n",
    "X.isnull().sum()"
   ]
  },
  {
   "cell_type": "code",
   "execution_count": 37,
   "metadata": {
    "_uuid": "dd929ffd4e30aca5775eb8c758b5103fe683b378"
   },
   "outputs": [
    {
     "data": {
      "text/plain": [
       "Pclass     0\n",
       "Sex        0\n",
       "AgeFill    0\n",
       "dtype: int64"
      ]
     },
     "execution_count": 37,
     "metadata": {},
     "output_type": "execute_result"
    }
   ],
   "source": [
    "# モデルが予測するデータの欠損値の確認\n",
    "X_test.isnull().sum()"
   ]
  },
  {
   "cell_type": "code",
   "execution_count": 38,
   "metadata": {
    "_uuid": "e279117ab77ac337631ecd4fc7b921d15a397766"
   },
   "outputs": [],
   "source": [
    "# 性別（female/male）を0/1に変換する（「2.モデル作成を一緒に体験」と同様）\n",
    "gender_map = {'female': 0, 'male': 1}\n",
    "X['Gender'] = X['Sex'].map(gender_map).astype(int)\n",
    "X_test['Gender'] = X_test['Sex'].map(gender_map).astype(int)"
   ]
  },
  {
   "cell_type": "code",
   "execution_count": 39,
   "metadata": {
    "_uuid": "d0f01ff352ff473d524ad5e8c2067cd0b41ff1d0"
   },
   "outputs": [],
   "source": [
    "# Sexに代えてGenderを使うため、Sex列を削除する\n",
    "X = X.drop(['Sex'], axis=1)\n",
    "X_test = X_test.drop(['Sex'], axis=1)"
   ]
  },
  {
   "cell_type": "code",
   "execution_count": 40,
   "metadata": {
    "_uuid": "40e1c9ad5214a13ffad8b7b21c9f2694a8c25bab"
   },
   "outputs": [
    {
     "data": {
      "text/html": [
       "<div>\n",
       "<style scoped>\n",
       "    .dataframe tbody tr th:only-of-type {\n",
       "        vertical-align: middle;\n",
       "    }\n",
       "\n",
       "    .dataframe tbody tr th {\n",
       "        vertical-align: top;\n",
       "    }\n",
       "\n",
       "    .dataframe thead th {\n",
       "        text-align: right;\n",
       "    }\n",
       "</style>\n",
       "<table border=\"1\" class=\"dataframe\">\n",
       "  <thead>\n",
       "    <tr style=\"text-align: right;\">\n",
       "      <th></th>\n",
       "      <th>Pclass</th>\n",
       "      <th>AgeFill</th>\n",
       "      <th>Gender</th>\n",
       "    </tr>\n",
       "  </thead>\n",
       "  <tbody>\n",
       "    <tr>\n",
       "      <th>0</th>\n",
       "      <td>3</td>\n",
       "      <td>22.0</td>\n",
       "      <td>1</td>\n",
       "    </tr>\n",
       "    <tr>\n",
       "      <th>1</th>\n",
       "      <td>1</td>\n",
       "      <td>38.0</td>\n",
       "      <td>0</td>\n",
       "    </tr>\n",
       "    <tr>\n",
       "      <th>2</th>\n",
       "      <td>3</td>\n",
       "      <td>26.0</td>\n",
       "      <td>0</td>\n",
       "    </tr>\n",
       "    <tr>\n",
       "      <th>3</th>\n",
       "      <td>1</td>\n",
       "      <td>35.0</td>\n",
       "      <td>0</td>\n",
       "    </tr>\n",
       "    <tr>\n",
       "      <th>4</th>\n",
       "      <td>3</td>\n",
       "      <td>35.0</td>\n",
       "      <td>1</td>\n",
       "    </tr>\n",
       "  </tbody>\n",
       "</table>\n",
       "</div>"
      ],
      "text/plain": [
       "   Pclass  AgeFill  Gender\n",
       "0       3     22.0       1\n",
       "1       1     38.0       0\n",
       "2       3     26.0       0\n",
       "3       1     35.0       0\n",
       "4       3     35.0       1"
      ]
     },
     "execution_count": 40,
     "metadata": {},
     "output_type": "execute_result"
    }
   ],
   "source": [
    "# モデル作成に使うデータについて、前処理した後の状態を確認\n",
    "X.head()"
   ]
  },
  {
   "cell_type": "code",
   "execution_count": 41,
   "metadata": {
    "_uuid": "2e265192a98cecd770899eeb223b768e25b736ae"
   },
   "outputs": [],
   "source": [
    "# 今回のハンズオンではモデル作成用データを7:3に分けて進める\n",
    "X_train, X_val, y_train, y_val = train_test_split(X, y, test_size=0.3, random_state=1)"
   ]
  },
  {
   "cell_type": "code",
   "execution_count": 42,
   "metadata": {
    "_uuid": "7d837f2e0c8d24f6640d759c80b63e3c468924e0"
   },
   "outputs": [
    {
     "data": {
      "text/plain": [
       "623"
      ]
     },
     "execution_count": 42,
     "metadata": {},
     "output_type": "execute_result"
    }
   ],
   "source": [
    "# 学習用データの数の確認\n",
    "len(y_train)"
   ]
  },
  {
   "cell_type": "code",
   "execution_count": 43,
   "metadata": {
    "_uuid": "8d393db840989c0bb5262bc821122421bf8b522f",
    "scrolled": true
   },
   "outputs": [
    {
     "data": {
      "text/plain": [
       "268"
      ]
     },
     "execution_count": 43,
     "metadata": {},
     "output_type": "execute_result"
    }
   ],
   "source": [
    "# 性能評価用のデータの数の確認\n",
    "len(y_val)"
   ]
  },
  {
   "cell_type": "code",
   "execution_count": 44,
   "metadata": {
    "_uuid": "2678d78ea05cab4c6407cb016ecd708b890f6187"
   },
   "outputs": [
    {
     "data": {
      "text/plain": [
       "DecisionTreeClassifier(class_weight=None, criterion='entropy', max_depth=3,\n",
       "            max_features=None, max_leaf_nodes=None,\n",
       "            min_impurity_decrease=0.0, min_impurity_split=None,\n",
       "            min_samples_leaf=2, min_samples_split=2,\n",
       "            min_weight_fraction_leaf=0.0, presort=False, random_state=1,\n",
       "            splitter='best')"
      ]
     },
     "execution_count": 44,
     "metadata": {},
     "output_type": "execute_result"
    }
   ],
   "source": [
    "# 決定木というアルゴリズムを使ったモデルを用意\n",
    "model = DecisionTreeClassifier(random_state=1, criterion='entropy', max_depth=3, min_samples_leaf=2)\n",
    "# モデル作成は以下の1行（ここまでの前処理に対してたった1行！）で完了する\n",
    "model.fit(X_train, y_train)"
   ]
  },
  {
   "cell_type": "code",
   "execution_count": 45,
   "metadata": {
    "_uuid": "a063293d2167961907aa65fe4cc2f504bdc86a16"
   },
   "outputs": [
    {
     "data": {
      "text/plain": [
       "0.7686567164179104"
      ]
     },
     "execution_count": 45,
     "metadata": {},
     "output_type": "execute_result"
    }
   ],
   "source": [
    "# 性能評価用データについて生死を予測\n",
    "pred = model.predict(X_val)\n",
    "# 性能確認：accuracyを算出して表示\n",
    "accuracy_score(y_val, pred)"
   ]
  },
  {
   "cell_type": "code",
   "execution_count": 46,
   "metadata": {
    "_uuid": "6f8f1f89df8a2845df1840288c04a8cc51213e0c"
   },
   "outputs": [],
   "source": [
    "# 予測対象データについて生死を予測\n",
    "pred = model.predict(X_test)"
   ]
  },
  {
   "cell_type": "code",
   "execution_count": 47,
   "metadata": {
    "_uuid": "048198f3fda1818008d2e7b20b6bacce37109c53"
   },
   "outputs": [],
   "source": [
    "# colabでの実行の際は省略\n",
    "# # 提出用データの形式に変換\n",
    "# submission = pd.DataFrame({\n",
    "#     'PassengerId': test_df['PassengerId'],\n",
    "#     'Survived': pred\n",
    "# })\n",
    "# # 提出用データ作成\n",
    "# submission.to_csv('submission.csv', index=False)"
   ]
  },
  {
   "cell_type": "markdown",
   "metadata": {
    "_uuid": "b149a2db6a5b48d3eef5da83707cdbf5f6c67a30"
   },
   "source": [
    "### （選択肢2）Embarkedを追加"
   ]
  },
  {
   "cell_type": "code",
   "execution_count": 48,
   "metadata": {
    "_uuid": "f099802375a6f29c05d28d93923eff715140288d"
   },
   "outputs": [],
   "source": [
    "# モデルの予測に使う情報にEmbarkedを追加\n",
    "columns = ['Pclass', 'Sex', 'Embarked']"
   ]
  },
  {
   "cell_type": "markdown",
   "metadata": {
    "_uuid": "99f081a886f032a00fd2b645748375626224b8e7"
   },
   "source": [
    "Embarked=S,Q,Cそれぞれについて、Survivedのヒストグラムを描画\n",
    "\n",
    "![](https://raw.githubusercontent.com/ftnext/2019_slides/master/spz_online_titanic_handson/assets/survived_per_embarked.png)"
   ]
  },
  {
   "cell_type": "markdown",
   "metadata": {
    "_uuid": "d7d57f74200d23284f727f50aded30ff04a4cbe9"
   },
   "source": [
    "港によって生存率が異なるため、Embarkedを生死の予測に加えてみます\n",
    "\n",
    "- 港Cは生存者が半分程度\n",
    "- 港S, Qは生存者が3分の1程度"
   ]
  },
  {
   "cell_type": "code",
   "execution_count": 49,
   "metadata": {
    "_uuid": "4693f1e7d3612d02023d6949eb61c8cebfc647fd"
   },
   "outputs": [],
   "source": [
    "# モデル作成に使う情報をX, モデルが予測する情報（ここでは生死）をyとして取り出す\n",
    "X = train_df[columns].copy()\n",
    "y = train_df['Survived']\n",
    "# 予測対象データについて、予測に使う情報を取り出しておく\n",
    "X_test = test_df[columns].copy()"
   ]
  },
  {
   "cell_type": "code",
   "execution_count": 50,
   "metadata": {
    "_uuid": "5d78fda648c48875ad919ada6d039f330be93fac"
   },
   "outputs": [
    {
     "data": {
      "text/html": [
       "<div>\n",
       "<style scoped>\n",
       "    .dataframe tbody tr th:only-of-type {\n",
       "        vertical-align: middle;\n",
       "    }\n",
       "\n",
       "    .dataframe tbody tr th {\n",
       "        vertical-align: top;\n",
       "    }\n",
       "\n",
       "    .dataframe thead th {\n",
       "        text-align: right;\n",
       "    }\n",
       "</style>\n",
       "<table border=\"1\" class=\"dataframe\">\n",
       "  <thead>\n",
       "    <tr style=\"text-align: right;\">\n",
       "      <th></th>\n",
       "      <th>Pclass</th>\n",
       "      <th>Sex</th>\n",
       "      <th>Embarked</th>\n",
       "    </tr>\n",
       "  </thead>\n",
       "  <tbody>\n",
       "    <tr>\n",
       "      <th>0</th>\n",
       "      <td>3</td>\n",
       "      <td>male</td>\n",
       "      <td>S</td>\n",
       "    </tr>\n",
       "    <tr>\n",
       "      <th>1</th>\n",
       "      <td>1</td>\n",
       "      <td>female</td>\n",
       "      <td>C</td>\n",
       "    </tr>\n",
       "    <tr>\n",
       "      <th>2</th>\n",
       "      <td>3</td>\n",
       "      <td>female</td>\n",
       "      <td>S</td>\n",
       "    </tr>\n",
       "    <tr>\n",
       "      <th>3</th>\n",
       "      <td>1</td>\n",
       "      <td>female</td>\n",
       "      <td>S</td>\n",
       "    </tr>\n",
       "    <tr>\n",
       "      <th>4</th>\n",
       "      <td>3</td>\n",
       "      <td>male</td>\n",
       "      <td>S</td>\n",
       "    </tr>\n",
       "  </tbody>\n",
       "</table>\n",
       "</div>"
      ],
      "text/plain": [
       "   Pclass     Sex Embarked\n",
       "0       3    male        S\n",
       "1       1  female        C\n",
       "2       3  female        S\n",
       "3       1  female        S\n",
       "4       3    male        S"
      ]
     },
     "execution_count": 50,
     "metadata": {},
     "output_type": "execute_result"
    }
   ],
   "source": [
    "# モデル作成に使うデータを確認\n",
    "X.head()"
   ]
  },
  {
   "cell_type": "code",
   "execution_count": 51,
   "metadata": {
    "_uuid": "225ffa9ce27862b4c217a26444658a435a4c9b9a"
   },
   "outputs": [
    {
     "data": {
      "text/plain": [
       "Pclass      0\n",
       "Sex         0\n",
       "Embarked    2\n",
       "dtype: int64"
      ]
     },
     "execution_count": 51,
     "metadata": {},
     "output_type": "execute_result"
    }
   ],
   "source": [
    "# モデル作成に使うデータの欠損値の確認\n",
    "X.isnull().sum()"
   ]
  },
  {
   "cell_type": "code",
   "execution_count": 52,
   "metadata": {
    "_uuid": "e01cd1a55fc159b83f0ed089aa75fe269b48b19a"
   },
   "outputs": [
    {
     "data": {
      "text/plain": [
       "Pclass      0\n",
       "Sex         0\n",
       "Embarked    0\n",
       "dtype: int64"
      ]
     },
     "execution_count": 52,
     "metadata": {},
     "output_type": "execute_result"
    }
   ],
   "source": [
    "# モデルが予測するデータの欠損値の確認\n",
    "X_test.isnull().sum()"
   ]
  },
  {
   "cell_type": "markdown",
   "metadata": {
    "_uuid": "c006da8f33a2f3b0a83785654363ba344a97952a"
   },
   "source": [
    "Embarkedがモデル作成用で数件欠けている\n",
    "\n",
    "*※欠損値の対応の詳細は選択肢1を確認してください*\n",
    "\n",
    "モデル作成用データで一番多く登場する値（一番多くの人が乗っている港）で埋める"
   ]
  },
  {
   "cell_type": "code",
   "execution_count": 53,
   "metadata": {},
   "outputs": [
    {
     "name": "stdout",
     "output_type": "stream",
     "text": [
      "Embarked freq: S\n"
     ]
    }
   ],
   "source": [
    "# 一番多くの人が乗っている港の取得\n",
    "embarked_freq = X['Embarked'].mode()[0]\n",
    "print(f'Embarked freq: {embarked_freq}')"
   ]
  },
  {
   "cell_type": "markdown",
   "metadata": {},
   "source": [
    "`mode`  \n",
    "参考: https://note.nkmk.me/python-pandas-mode/  \n",
    "ドキュメント: https://pandas.pydata.org/pandas-docs/stable/reference/api/pandas.Series.mode.html"
   ]
  },
  {
   "cell_type": "code",
   "execution_count": 54,
   "metadata": {
    "_uuid": "f4199253b47bd3e1573a3d2194989eb88d786cd4"
   },
   "outputs": [],
   "source": [
    "# Embarkedの欠損を平均値で埋めた列EmbarkedFillを追加\n",
    "X['EmbarkedFill'] = X['Embarked'].fillna(embarked_freq)\n",
    "X_test['EmbarkedFill'] = X_test['Embarked'].fillna(embarked_freq)"
   ]
  },
  {
   "cell_type": "markdown",
   "metadata": {},
   "source": [
    "Embarkedの欠損を埋めたあとのX（イメージ）  \n",
    "**EmbarkedFillという列が追加される**\n",
    "\n",
    "| Pclass | Sex | Embarked | EmbarkedFill |\n",
    "| ---- | ---- | ---- | ---- |\n",
    "| 2 | male | NaN | S |\n",
    "| 3 | female | C | C |\n",
    "| 1 | female | Q | Q |\n",
    "| : | : | : | : |"
   ]
  },
  {
   "cell_type": "code",
   "execution_count": 55,
   "metadata": {},
   "outputs": [],
   "source": [
    "# 欠損を含むEmbarked列を削除（乗船した港の情報はEmbarkedFill列を参照する）\n",
    "X = X.drop(['Embarked'], axis=1)\n",
    "X_test = X_test.drop(['Embarked'], axis=1)"
   ]
  },
  {
   "cell_type": "code",
   "execution_count": 56,
   "metadata": {
    "_uuid": "962e21089923579d112068c9a06704d8399cf613"
   },
   "outputs": [
    {
     "data": {
      "text/plain": [
       "Pclass          0\n",
       "Sex             0\n",
       "EmbarkedFill    0\n",
       "dtype: int64"
      ]
     },
     "execution_count": 56,
     "metadata": {},
     "output_type": "execute_result"
    }
   ],
   "source": [
    "# モデル作成に使うデータの欠損値の確認\n",
    "X.isnull().sum()"
   ]
  },
  {
   "cell_type": "code",
   "execution_count": 57,
   "metadata": {
    "_uuid": "ffae3340b2d3eb95f5317a0f15adbc0d9d10ce90"
   },
   "outputs": [],
   "source": [
    "# 性別（female/male）を0/1に変換する（「2.モデル作成を一緒に体験」と同様）\n",
    "gender_map = {'female': 0, 'male': 1}\n",
    "X['Gender'] = X['Sex'].map(gender_map).astype(int)\n",
    "X_test['Gender'] = X_test['Sex'].map(gender_map).astype(int)"
   ]
  },
  {
   "cell_type": "code",
   "execution_count": 58,
   "metadata": {
    "_uuid": "d950a73c563265607d9542b6303ab79cd816b8c1"
   },
   "outputs": [],
   "source": [
    "# Sexに代えてGenderを使うため、Sex列を削除する\n",
    "X = X.drop(['Sex'], axis=1)\n",
    "X_test = X_test.drop(['Sex'], axis=1)"
   ]
  },
  {
   "cell_type": "markdown",
   "metadata": {
    "_uuid": "9cecb2d37fbc584d861d65345582825e3b65c9cf"
   },
   "source": [
    "カテゴリ変数EmbarkedFillはダミー変数化する\n",
    "\n",
    "- S=1, Q=2, C=3と整数に置き換える\n",
    "    - **本来なかった大小関係が想定されてしまう**\n",
    "- (S, Q, C)という形式で整数に置き換える\n",
    "\n",
    "| EmbarkedFillの値 | 置き換えたあと |\n",
    "| ----- | ----- |\n",
    "| S | (1, 0, 0) |\n",
    "| Q | (0, 1, 0) |\n",
    "| C | (0, 0, 1) |"
   ]
  },
  {
   "cell_type": "code",
   "execution_count": 59,
   "metadata": {
    "_uuid": "633f08fa5571c505e22b2eb5e54566d3a63e2961"
   },
   "outputs": [],
   "source": [
    "# EmbarkedFill（S, Q, Cという3カテゴリ）をダミー変数にする\n",
    "# （EmbarkedFill列が消え、EmbarkedFill_S, EmbarkedFill_Q, EmbarkedFill_C列が追加される）\n",
    "X = pd.get_dummies(X, columns=['EmbarkedFill'])\n",
    "X_test = pd.get_dummies(X_test, columns=['EmbarkedFill'])"
   ]
  },
  {
   "cell_type": "markdown",
   "metadata": {
    "_uuid": "a2108df79b7baebcfeb62ebae31370335e1e7c49"
   },
   "source": [
    "`get_dummies`  \n",
    "参考: https://note.nkmk.me/python-pandas-get-dummies/  \n",
    "ドキュメント: https://pandas.pydata.org/pandas-docs/stable/reference/api/pandas.get_dummies.html"
   ]
  },
  {
   "cell_type": "code",
   "execution_count": 60,
   "metadata": {
    "_uuid": "fd49c3f965df1b76cc49345cd41b9f3804925ee3"
   },
   "outputs": [
    {
     "data": {
      "text/html": [
       "<div>\n",
       "<style scoped>\n",
       "    .dataframe tbody tr th:only-of-type {\n",
       "        vertical-align: middle;\n",
       "    }\n",
       "\n",
       "    .dataframe tbody tr th {\n",
       "        vertical-align: top;\n",
       "    }\n",
       "\n",
       "    .dataframe thead th {\n",
       "        text-align: right;\n",
       "    }\n",
       "</style>\n",
       "<table border=\"1\" class=\"dataframe\">\n",
       "  <thead>\n",
       "    <tr style=\"text-align: right;\">\n",
       "      <th></th>\n",
       "      <th>Pclass</th>\n",
       "      <th>Gender</th>\n",
       "      <th>EmbarkedFill_C</th>\n",
       "      <th>EmbarkedFill_Q</th>\n",
       "      <th>EmbarkedFill_S</th>\n",
       "    </tr>\n",
       "  </thead>\n",
       "  <tbody>\n",
       "    <tr>\n",
       "      <th>0</th>\n",
       "      <td>3</td>\n",
       "      <td>1</td>\n",
       "      <td>0</td>\n",
       "      <td>0</td>\n",
       "      <td>1</td>\n",
       "    </tr>\n",
       "    <tr>\n",
       "      <th>1</th>\n",
       "      <td>1</td>\n",
       "      <td>0</td>\n",
       "      <td>1</td>\n",
       "      <td>0</td>\n",
       "      <td>0</td>\n",
       "    </tr>\n",
       "    <tr>\n",
       "      <th>2</th>\n",
       "      <td>3</td>\n",
       "      <td>0</td>\n",
       "      <td>0</td>\n",
       "      <td>0</td>\n",
       "      <td>1</td>\n",
       "    </tr>\n",
       "    <tr>\n",
       "      <th>3</th>\n",
       "      <td>1</td>\n",
       "      <td>0</td>\n",
       "      <td>0</td>\n",
       "      <td>0</td>\n",
       "      <td>1</td>\n",
       "    </tr>\n",
       "    <tr>\n",
       "      <th>4</th>\n",
       "      <td>3</td>\n",
       "      <td>1</td>\n",
       "      <td>0</td>\n",
       "      <td>0</td>\n",
       "      <td>1</td>\n",
       "    </tr>\n",
       "  </tbody>\n",
       "</table>\n",
       "</div>"
      ],
      "text/plain": [
       "   Pclass  Gender       ...        EmbarkedFill_Q  EmbarkedFill_S\n",
       "0       3       1       ...                     0               1\n",
       "1       1       0       ...                     0               0\n",
       "2       3       0       ...                     0               1\n",
       "3       1       0       ...                     0               1\n",
       "4       3       1       ...                     0               1\n",
       "\n",
       "[5 rows x 5 columns]"
      ]
     },
     "execution_count": 60,
     "metadata": {},
     "output_type": "execute_result"
    }
   ],
   "source": [
    "# モデル作成に使うデータについて、前処理した後の状態を確認\n",
    "X.head()"
   ]
  },
  {
   "cell_type": "code",
   "execution_count": 61,
   "metadata": {
    "_uuid": "2e265192a98cecd770899eeb223b768e25b736ae"
   },
   "outputs": [],
   "source": [
    "# 今回のハンズオンではモデル作成用データを7:3に分けて進める\n",
    "X_train, X_val, y_train, y_val = train_test_split(X, y, test_size=0.3, random_state=1)"
   ]
  },
  {
   "cell_type": "code",
   "execution_count": 62,
   "metadata": {
    "_uuid": "7d837f2e0c8d24f6640d759c80b63e3c468924e0"
   },
   "outputs": [
    {
     "data": {
      "text/plain": [
       "623"
      ]
     },
     "execution_count": 62,
     "metadata": {},
     "output_type": "execute_result"
    }
   ],
   "source": [
    "# 学習用データの数の確認\n",
    "len(y_train)"
   ]
  },
  {
   "cell_type": "code",
   "execution_count": 63,
   "metadata": {
    "_uuid": "8d393db840989c0bb5262bc821122421bf8b522f",
    "scrolled": true
   },
   "outputs": [
    {
     "data": {
      "text/plain": [
       "268"
      ]
     },
     "execution_count": 63,
     "metadata": {},
     "output_type": "execute_result"
    }
   ],
   "source": [
    "# 性能評価用のデータの数の確認\n",
    "len(y_val)"
   ]
  },
  {
   "cell_type": "code",
   "execution_count": 64,
   "metadata": {
    "_uuid": "c1af3019ddd0147f9b629dac686c8ed6104cd20e"
   },
   "outputs": [
    {
     "data": {
      "text/plain": [
       "DecisionTreeClassifier(class_weight=None, criterion='entropy', max_depth=3,\n",
       "            max_features=None, max_leaf_nodes=None,\n",
       "            min_impurity_decrease=0.0, min_impurity_split=None,\n",
       "            min_samples_leaf=2, min_samples_split=2,\n",
       "            min_weight_fraction_leaf=0.0, presort=False, random_state=1,\n",
       "            splitter='best')"
      ]
     },
     "execution_count": 64,
     "metadata": {},
     "output_type": "execute_result"
    }
   ],
   "source": [
    "# 決定木というアルゴリズムを使ったモデルを用意\n",
    "model = DecisionTreeClassifier(random_state=1, criterion='entropy', max_depth=3, min_samples_leaf=2)\n",
    "# モデル作成は以下の1行（ここまでの前処理に対してたった1行！）で完了する\n",
    "model.fit(X_train, y_train)"
   ]
  },
  {
   "cell_type": "code",
   "execution_count": 65,
   "metadata": {
    "_uuid": "a063293d2167961907aa65fe4cc2f504bdc86a16"
   },
   "outputs": [
    {
     "data": {
      "text/plain": [
       "0.7611940298507462"
      ]
     },
     "execution_count": 65,
     "metadata": {},
     "output_type": "execute_result"
    }
   ],
   "source": [
    "# 性能評価用データについて生死を予測\n",
    "pred = model.predict(X_val)\n",
    "# 性能確認：accuracyを算出して表示\n",
    "accuracy_score(y_val, pred)"
   ]
  },
  {
   "cell_type": "code",
   "execution_count": 66,
   "metadata": {
    "_uuid": "6f8f1f89df8a2845df1840288c04a8cc51213e0c"
   },
   "outputs": [],
   "source": [
    "# 予測対象データについて生死を予測\n",
    "pred = model.predict(X_test)"
   ]
  },
  {
   "cell_type": "code",
   "execution_count": 67,
   "metadata": {
    "_uuid": "048198f3fda1818008d2e7b20b6bacce37109c53"
   },
   "outputs": [],
   "source": [
    "# colabでの実行の際は省略\n",
    "# # 提出用データの形式に変換\n",
    "# submission = pd.DataFrame({\n",
    "#     'PassengerId': test_df['PassengerId'],\n",
    "#     'Survived': pred\n",
    "# })\n",
    "# # 提出用データ作成\n",
    "# submission.to_csv('submission.csv', index=False)"
   ]
  },
  {
   "cell_type": "markdown",
   "metadata": {
    "_uuid": "60bb4a2e2efa91ae763b16ce0f4b058ecfeb7c94"
   },
   "source": [
    "### 練習問題: AgeとEmbarkedの両方を追加"
   ]
  },
  {
   "cell_type": "code",
   "execution_count": 68,
   "metadata": {
    "_uuid": "c36112dc888df41f13921d31593d7b55b61ae695"
   },
   "outputs": [],
   "source": [
    "# train_df, test_dfからSex, Pclass, Age, Embarkedを取り出す"
   ]
  },
  {
   "cell_type": "code",
   "execution_count": 69,
   "metadata": {
    "_uuid": "54f71fcdea78324cd896cb6fbc8e5da8375e9217"
   },
   "outputs": [],
   "source": [
    "# Ageの欠損への対応"
   ]
  },
  {
   "cell_type": "code",
   "execution_count": 70,
   "metadata": {
    "_uuid": "df9574b85799841a9ca0dba16ead2360d9993544"
   },
   "outputs": [],
   "source": [
    "# Embarkedの欠損への対応"
   ]
  },
  {
   "cell_type": "code",
   "execution_count": 71,
   "metadata": {
    "_uuid": "0f442762591c3697cc0324266251c4cb1813085d"
   },
   "outputs": [],
   "source": [
    "# がテゴリ変数Sexへの対応"
   ]
  },
  {
   "cell_type": "code",
   "execution_count": 72,
   "metadata": {
    "_uuid": "402ccfd0faa1621e444d2f8b571f2e81d9fc14ab"
   },
   "outputs": [],
   "source": [
    "# カテゴリ変数Embarkedへの対応"
   ]
  },
  {
   "cell_type": "code",
   "execution_count": 73,
   "metadata": {
    "_uuid": "26fca72f7bd0b29204a3a812d9e26eee532a8e43"
   },
   "outputs": [],
   "source": [
    "# モデル作成"
   ]
  },
  {
   "cell_type": "code",
   "execution_count": 74,
   "metadata": {
    "_uuid": "603b473edd6e758934b4b6fbe6e7e4c78690cb82"
   },
   "outputs": [],
   "source": [
    "# 性能確認"
   ]
  },
  {
   "cell_type": "code",
   "execution_count": 75,
   "metadata": {
    "_uuid": "b358e610e7cfc30f64ae738668919bcf3c3664dc"
   },
   "outputs": [],
   "source": [
    "# 提出用データ作成"
   ]
  },
  {
   "cell_type": "markdown",
   "metadata": {
    "_uuid": "d0671a593509c533f4de856c3ffdcf307fe2b9d5"
   },
   "source": [
    "## おまけ 3.（選択肢1）の補足\n",
    "\n",
    "年齢を**年代**として扱う"
   ]
  },
  {
   "cell_type": "code",
   "execution_count": 76,
   "metadata": {
    "_uuid": "e8122893012b2c4e43e3d873500f3e9aad494112"
   },
   "outputs": [],
   "source": [
    "# モデルの予測に使う情報にAgeを追加\n",
    "columns = ['Pclass', 'Sex', 'Age']"
   ]
  },
  {
   "cell_type": "markdown",
   "metadata": {
    "_uuid": "f7d3950a79ee31eea4cff72d299ff434d2a24cec"
   },
   "source": [
    "ヒストグラムのようにAgeをおよそ8歳刻みの年代に分けるアプローチを紹介。  \n",
    "年齢が増えるほど傾向が変わる（例：29歳より28歳が助かりやすく、28歳よりも27歳が助かりやすい）とは考えにくい。  \n",
    "しかし、年代によって傾向が変わることは十分考えられる。（例：20代よりも10代のほうが助かりやすい）\n",
    "\n",
    "![](https://raw.githubusercontent.com/ftnext/2019_slides/master/spz_online_titanic_handson/assets/age_hist_stacked_survived.png)"
   ]
  },
  {
   "cell_type": "code",
   "execution_count": 77,
   "metadata": {
    "_uuid": "f1128409ea48e28ec35dcca4c32d59c5b1a3e911"
   },
   "outputs": [],
   "source": [
    "# モデル作成に使う情報をX, モデルが予測する情報（ここでは生死）をyとして取り出す\n",
    "X = train_df[columns].copy()\n",
    "y = train_df['Survived']\n",
    "# 予測対象データについて、予測に使う情報を取り出しておく\n",
    "X_test = test_df[columns].copy()"
   ]
  },
  {
   "cell_type": "code",
   "execution_count": 78,
   "metadata": {
    "_uuid": "9ea9062a82999050a5a325f92daec958ae1aa4a2"
   },
   "outputs": [
    {
     "data": {
      "text/html": [
       "<div>\n",
       "<style scoped>\n",
       "    .dataframe tbody tr th:only-of-type {\n",
       "        vertical-align: middle;\n",
       "    }\n",
       "\n",
       "    .dataframe tbody tr th {\n",
       "        vertical-align: top;\n",
       "    }\n",
       "\n",
       "    .dataframe thead th {\n",
       "        text-align: right;\n",
       "    }\n",
       "</style>\n",
       "<table border=\"1\" class=\"dataframe\">\n",
       "  <thead>\n",
       "    <tr style=\"text-align: right;\">\n",
       "      <th></th>\n",
       "      <th>Pclass</th>\n",
       "      <th>Sex</th>\n",
       "      <th>Age</th>\n",
       "    </tr>\n",
       "  </thead>\n",
       "  <tbody>\n",
       "    <tr>\n",
       "      <th>0</th>\n",
       "      <td>3</td>\n",
       "      <td>male</td>\n",
       "      <td>22.0</td>\n",
       "    </tr>\n",
       "    <tr>\n",
       "      <th>1</th>\n",
       "      <td>1</td>\n",
       "      <td>female</td>\n",
       "      <td>38.0</td>\n",
       "    </tr>\n",
       "    <tr>\n",
       "      <th>2</th>\n",
       "      <td>3</td>\n",
       "      <td>female</td>\n",
       "      <td>26.0</td>\n",
       "    </tr>\n",
       "    <tr>\n",
       "      <th>3</th>\n",
       "      <td>1</td>\n",
       "      <td>female</td>\n",
       "      <td>35.0</td>\n",
       "    </tr>\n",
       "    <tr>\n",
       "      <th>4</th>\n",
       "      <td>3</td>\n",
       "      <td>male</td>\n",
       "      <td>35.0</td>\n",
       "    </tr>\n",
       "  </tbody>\n",
       "</table>\n",
       "</div>"
      ],
      "text/plain": [
       "   Pclass     Sex   Age\n",
       "0       3    male  22.0\n",
       "1       1  female  38.0\n",
       "2       3  female  26.0\n",
       "3       1  female  35.0\n",
       "4       3    male  35.0"
      ]
     },
     "execution_count": 78,
     "metadata": {},
     "output_type": "execute_result"
    }
   ],
   "source": [
    "# モデル作成に使うデータを確認\n",
    "X.head()"
   ]
  },
  {
   "cell_type": "code",
   "execution_count": 79,
   "metadata": {
    "_uuid": "576ba46eeae0f0ad563567c70a535a1ca5460dd8"
   },
   "outputs": [
    {
     "data": {
      "text/plain": [
       "Pclass      0\n",
       "Sex         0\n",
       "Age       177\n",
       "dtype: int64"
      ]
     },
     "execution_count": 79,
     "metadata": {},
     "output_type": "execute_result"
    }
   ],
   "source": [
    "# モデル作成に使うデータの欠損値の確認\n",
    "X.isnull().sum()"
   ]
  },
  {
   "cell_type": "code",
   "execution_count": 80,
   "metadata": {
    "_uuid": "066d69cbfd933ea242eb75ff3e2ed99a6af86731"
   },
   "outputs": [
    {
     "data": {
      "text/plain": [
       "Pclass     0\n",
       "Sex        0\n",
       "Age       86\n",
       "dtype: int64"
      ]
     },
     "execution_count": 80,
     "metadata": {},
     "output_type": "execute_result"
    }
   ],
   "source": [
    "# モデルが予測するデータの欠損値の確認\n",
    "X_test.isnull().sum()"
   ]
  },
  {
   "cell_type": "code",
   "execution_count": 81,
   "metadata": {},
   "outputs": [
    {
     "name": "stdout",
     "output_type": "stream",
     "text": [
      "Age mean: 29.69911764705882\n"
     ]
    }
   ],
   "source": [
    "# Ageの平均値の算出\n",
    "age_mean = X['Age'].mean()\n",
    "print(f'Age mean: {age_mean}')"
   ]
  },
  {
   "cell_type": "code",
   "execution_count": 82,
   "metadata": {
    "_uuid": "307da559d42c4c705d42f7c9dad4750ee4dd292e"
   },
   "outputs": [],
   "source": [
    "# 平均値を小数第2位で四捨五入して使う(round関数)\n",
    "# Ageの欠損を平均値で埋めた列AgeFillを追加\n",
    "X['AgeFill'] = X['Age'].fillna(round(age_mean, 1))\n",
    "X_test['AgeFill'] = X_test['Age'].fillna(round(age_mean, 1))"
   ]
  },
  {
   "cell_type": "code",
   "execution_count": 83,
   "metadata": {
    "_uuid": "21d1c73dc88fcc86be12c49236d5fcff26f7cd23"
   },
   "outputs": [],
   "source": [
    "# 欠損を含むAge列を削除（年齢の情報はAgeFill列を参照する）\n",
    "X = X.drop(['Age'], axis=1)\n",
    "X_test = X_test.drop(['Age'], axis=1)"
   ]
  },
  {
   "cell_type": "code",
   "execution_count": 84,
   "metadata": {
    "_uuid": "7353aed8b830abe34b943740aa8c67d53616263b"
   },
   "outputs": [
    {
     "data": {
      "text/plain": [
       "Pclass     0\n",
       "Sex        0\n",
       "AgeFill    0\n",
       "dtype: int64"
      ]
     },
     "execution_count": 84,
     "metadata": {},
     "output_type": "execute_result"
    }
   ],
   "source": [
    "# モデル作成に使うデータの欠損値の確認\n",
    "X.isnull().sum()"
   ]
  },
  {
   "cell_type": "code",
   "execution_count": 85,
   "metadata": {
    "_uuid": "dd929ffd4e30aca5775eb8c758b5103fe683b378"
   },
   "outputs": [
    {
     "data": {
      "text/plain": [
       "Pclass     0\n",
       "Sex        0\n",
       "AgeFill    0\n",
       "dtype: int64"
      ]
     },
     "execution_count": 85,
     "metadata": {},
     "output_type": "execute_result"
    }
   ],
   "source": [
    "# モデルが予測するデータの欠損値の確認\n",
    "X_test.isnull().sum()"
   ]
  },
  {
   "cell_type": "code",
   "execution_count": 86,
   "metadata": {},
   "outputs": [
    {
     "data": {
      "text/plain": [
       "(24.294, 32.252]    346\n",
       "(16.336, 24.294]    177\n",
       "(32.252, 40.21]     118\n",
       "(40.21, 48.168]      70\n",
       "(0.34, 8.378]        54\n",
       "(8.378, 16.336]      46\n",
       "(48.168, 56.126]     45\n",
       "(56.126, 64.084]     24\n",
       "(64.084, 72.042]      9\n",
       "(72.042, 80.0]        2\n",
       "Name: AgeFill, dtype: int64"
      ]
     },
     "execution_count": 86,
     "metadata": {},
     "output_type": "execute_result"
    }
   ],
   "source": [
    "# AgeFillを最小と最大の間で10分割\n",
    "age_band = pd.cut(X['AgeFill'], 10)\n",
    "# 区間に含まれる年代の順に表示\n",
    "age_band.value_counts()"
   ]
  },
  {
   "cell_type": "markdown",
   "metadata": {},
   "source": [
    "`cut`および`value_counts`  \n",
    "参考: https://note.nkmk.me/python-pandas-cut-qcut-binning/"
   ]
  },
  {
   "cell_type": "code",
   "execution_count": 87,
   "metadata": {},
   "outputs": [],
   "source": [
    "# 年代を若い順に0,1,2,...,9と設定\n",
    "for df in [X, X_test]:\n",
    "    df.loc[df['AgeFill'] <= 8.378, 'AgeFill'] = 0\n",
    "    df.loc[(df['AgeFill'] > 8.378) & (df['AgeFill'] <= 16.336), 'AgeFill'] = 1\n",
    "    df.loc[(df['AgeFill'] > 16.336) & (df['AgeFill'] <= 24.294), 'AgeFill'] = 2\n",
    "    df.loc[(df['AgeFill'] > 24.294) & (df['AgeFill'] <= 32.252), 'AgeFill'] = 3\n",
    "    df.loc[(df['AgeFill'] > 32.252) & (df['AgeFill'] <= 40.21), 'AgeFill'] = 4\n",
    "    df.loc[(df['AgeFill'] > 40.21) & (df['AgeFill'] <= 48.168), 'AgeFill'] = 5\n",
    "    df.loc[(df['AgeFill'] > 48.168) & (df['AgeFill'] <= 56.126), 'AgeFill'] = 6\n",
    "    df.loc[(df['AgeFill'] > 56.126) & (df['AgeFill'] <= 64.084), 'AgeFill'] = 7\n",
    "    df.loc[(df['AgeFill'] > 64.084) & (df['AgeFill'] <= 72.042), 'AgeFill'] = 8\n",
    "    df.loc[df['AgeFill'] > 72.042, 'AgeFill'] = 9\n",
    "    df['AgeFill'] = df['AgeFill'].astype(int) # floatからintに変更"
   ]
  },
  {
   "cell_type": "markdown",
   "metadata": {},
   "source": [
    "`loc`  \n",
    "例: `df.loc[(df['AgeFill'] > 8.378) & (df['AgeFill'] <= 16.336), 'AgeFill']`  \n",
    "→AgeFillが8.378以上、かつ、16.336未満のすべての行のAgeFillの値（コードでは、右辺の値1に変更している）  \n",
    "参考: https://note.nkmk.me/python-pandas-at-iat-loc-iloc/"
   ]
  },
  {
   "cell_type": "code",
   "execution_count": 88,
   "metadata": {
    "_uuid": "e279117ab77ac337631ecd4fc7b921d15a397766"
   },
   "outputs": [],
   "source": [
    "# 性別（female/male）を0/1に変換する（「2.モデル作成を一緒に体験」と同様）\n",
    "gender_map = {'female': 0, 'male': 1}\n",
    "X['Gender'] = X['Sex'].map(gender_map).astype(int)\n",
    "X_test['Gender'] = X_test['Sex'].map(gender_map).astype(int)"
   ]
  },
  {
   "cell_type": "code",
   "execution_count": 89,
   "metadata": {
    "_uuid": "d0f01ff352ff473d524ad5e8c2067cd0b41ff1d0"
   },
   "outputs": [],
   "source": [
    "# Sexに代えてGenderを使うため、Sex列を削除する\n",
    "X = X.drop(['Sex'], axis=1)\n",
    "X_test = X_test.drop(['Sex'], axis=1)"
   ]
  },
  {
   "cell_type": "code",
   "execution_count": 90,
   "metadata": {
    "_uuid": "40e1c9ad5214a13ffad8b7b21c9f2694a8c25bab"
   },
   "outputs": [
    {
     "data": {
      "text/html": [
       "<div>\n",
       "<style scoped>\n",
       "    .dataframe tbody tr th:only-of-type {\n",
       "        vertical-align: middle;\n",
       "    }\n",
       "\n",
       "    .dataframe tbody tr th {\n",
       "        vertical-align: top;\n",
       "    }\n",
       "\n",
       "    .dataframe thead th {\n",
       "        text-align: right;\n",
       "    }\n",
       "</style>\n",
       "<table border=\"1\" class=\"dataframe\">\n",
       "  <thead>\n",
       "    <tr style=\"text-align: right;\">\n",
       "      <th></th>\n",
       "      <th>Pclass</th>\n",
       "      <th>AgeFill</th>\n",
       "      <th>Gender</th>\n",
       "    </tr>\n",
       "  </thead>\n",
       "  <tbody>\n",
       "    <tr>\n",
       "      <th>0</th>\n",
       "      <td>3</td>\n",
       "      <td>2</td>\n",
       "      <td>1</td>\n",
       "    </tr>\n",
       "    <tr>\n",
       "      <th>1</th>\n",
       "      <td>1</td>\n",
       "      <td>4</td>\n",
       "      <td>0</td>\n",
       "    </tr>\n",
       "    <tr>\n",
       "      <th>2</th>\n",
       "      <td>3</td>\n",
       "      <td>3</td>\n",
       "      <td>0</td>\n",
       "    </tr>\n",
       "    <tr>\n",
       "      <th>3</th>\n",
       "      <td>1</td>\n",
       "      <td>4</td>\n",
       "      <td>0</td>\n",
       "    </tr>\n",
       "    <tr>\n",
       "      <th>4</th>\n",
       "      <td>3</td>\n",
       "      <td>4</td>\n",
       "      <td>1</td>\n",
       "    </tr>\n",
       "  </tbody>\n",
       "</table>\n",
       "</div>"
      ],
      "text/plain": [
       "   Pclass  AgeFill  Gender\n",
       "0       3        2       1\n",
       "1       1        4       0\n",
       "2       3        3       0\n",
       "3       1        4       0\n",
       "4       3        4       1"
      ]
     },
     "execution_count": 90,
     "metadata": {},
     "output_type": "execute_result"
    }
   ],
   "source": [
    "# モデル作成に使うデータについて、前処理した後の状態を確認\n",
    "X.head()"
   ]
  },
  {
   "cell_type": "code",
   "execution_count": 91,
   "metadata": {
    "_uuid": "2e265192a98cecd770899eeb223b768e25b736ae"
   },
   "outputs": [],
   "source": [
    "# 今回のハンズオンではモデル作成用データを7:3に分けて進める\n",
    "X_train, X_val, y_train, y_val = train_test_split(X, y, test_size=0.3, random_state=1)"
   ]
  },
  {
   "cell_type": "code",
   "execution_count": 92,
   "metadata": {
    "_uuid": "7d837f2e0c8d24f6640d759c80b63e3c468924e0"
   },
   "outputs": [
    {
     "data": {
      "text/plain": [
       "623"
      ]
     },
     "execution_count": 92,
     "metadata": {},
     "output_type": "execute_result"
    }
   ],
   "source": [
    "# 学習用データの数の確認\n",
    "len(y_train)"
   ]
  },
  {
   "cell_type": "code",
   "execution_count": 93,
   "metadata": {
    "_uuid": "8d393db840989c0bb5262bc821122421bf8b522f",
    "scrolled": true
   },
   "outputs": [
    {
     "data": {
      "text/plain": [
       "268"
      ]
     },
     "execution_count": 93,
     "metadata": {},
     "output_type": "execute_result"
    }
   ],
   "source": [
    "# 性能評価用のデータの数の確認\n",
    "len(y_val)"
   ]
  },
  {
   "cell_type": "code",
   "execution_count": 94,
   "metadata": {
    "_uuid": "2678d78ea05cab4c6407cb016ecd708b890f6187"
   },
   "outputs": [
    {
     "data": {
      "text/plain": [
       "DecisionTreeClassifier(class_weight=None, criterion='entropy', max_depth=3,\n",
       "            max_features=None, max_leaf_nodes=None,\n",
       "            min_impurity_decrease=0.0, min_impurity_split=None,\n",
       "            min_samples_leaf=2, min_samples_split=2,\n",
       "            min_weight_fraction_leaf=0.0, presort=False, random_state=1,\n",
       "            splitter='best')"
      ]
     },
     "execution_count": 94,
     "metadata": {},
     "output_type": "execute_result"
    }
   ],
   "source": [
    "# 決定木というアルゴリズムを使ったモデルを用意\n",
    "model = DecisionTreeClassifier(random_state=1, criterion='entropy', max_depth=3, min_samples_leaf=2)\n",
    "# モデル作成は以下の1行（ここまでの前処理に対してたった1行！）で完了する\n",
    "model.fit(X_train, y_train)"
   ]
  },
  {
   "cell_type": "code",
   "execution_count": 95,
   "metadata": {
    "_uuid": "a063293d2167961907aa65fe4cc2f504bdc86a16"
   },
   "outputs": [
    {
     "data": {
      "text/plain": [
       "0.7649253731343284"
      ]
     },
     "execution_count": 95,
     "metadata": {},
     "output_type": "execute_result"
    }
   ],
   "source": [
    "# 性能評価用データについて生死を予測\n",
    "pred = model.predict(X_val)\n",
    "# 性能確認：accuracyを算出して表示\n",
    "accuracy_score(y_val, pred)"
   ]
  },
  {
   "cell_type": "code",
   "execution_count": 96,
   "metadata": {
    "_uuid": "6f8f1f89df8a2845df1840288c04a8cc51213e0c"
   },
   "outputs": [],
   "source": [
    "# 予測対象データについて生死を予測\n",
    "pred = model.predict(X_test)"
   ]
  },
  {
   "cell_type": "code",
   "execution_count": 97,
   "metadata": {
    "_uuid": "048198f3fda1818008d2e7b20b6bacce37109c53"
   },
   "outputs": [],
   "source": [
    "# colabでの実行の際は省略\n",
    "# # 提出用データの形式に変換\n",
    "# submission = pd.DataFrame({\n",
    "#     'PassengerId': test_df['PassengerId'],\n",
    "#     'Survived': pred\n",
    "# })\n",
    "# # 提出用データ作成\n",
    "# submission.to_csv('submission.csv', index=False)"
   ]
  },
  {
   "cell_type": "markdown",
   "metadata": {
    "_uuid": "16b9cbe1f13581bb38a5c3a9bc00aba66433b4dd"
   },
   "source": [
    "### 変更履歴\n",
    "https://www.kaggle.com/ftnext/kaggle-spzcolab-201901 をベースにやることを絞ってアップデートした  \n",
    "ref: https://github.com/PyDataTokyo/pydata-tokyo-tutorial-1\n",
    "\n",
    "V3にて試したいコード以外でsubmission.csvが作られないようにコメントアウトした。\n",
    "（V2までは単純なモデルでコミットしても、全てのコードが実行されるために、3（選択肢2）のモデルの予測結果が作成されるという不具合があった）"
   ]
  }
 ],
 "metadata": {
  "kernelspec": {
   "display_name": "Python 3",
   "language": "python",
   "name": "python3"
  },
  "language_info": {
   "codemirror_mode": {
    "name": "ipython",
    "version": 3
   },
   "file_extension": ".py",
   "mimetype": "text/x-python",
   "name": "python",
   "nbconvert_exporter": "python",
   "pygments_lexer": "ipython3",
   "version": "3.7.3"
  }
 },
 "nbformat": 4,
 "nbformat_minor": 1
}
