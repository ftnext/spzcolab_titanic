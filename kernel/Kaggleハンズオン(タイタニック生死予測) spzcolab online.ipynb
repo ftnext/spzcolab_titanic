{
 "cells": [
  {
   "cell_type": "markdown",
   "metadata": {
    "_cell_guid": "b1076dfc-b9ad-4769-8c92-a6c4dae69d19",
    "_uuid": "8f2839f25d086af736a60e9eeb907d3b93b6e0e5"
   },
   "source": [
    "## このカーネルについて\n",
    "\n",
    "2019/03開催[Kaggleタイタニックハンズオン（サポーターズ勉強会 オンライン）](https://talent.supporterz.jp/events/2992699f-53ed-417b-abf7-7d7bba931037/)用のkernelです。  \n",
    "ハンズオンパートで使います\n",
    "\n",
    "1. 単純なモデルを作成する\n",
    "2. モデル作成を一緒に一回やって流れをつかむ\n",
    "3. 性能が上がると考える選択肢を試す（サンプルコードのブロックを実行）"
   ]
  },
  {
   "cell_type": "markdown",
   "metadata": {
    "_cell_guid": "79c7e3d0-c299-4dcb-8224-4455121ee9b0",
    "_uuid": "d629ff2d2480ee46fbb7e2d37f6b5fab8052498a",
    "collapsed": true
   },
   "source": [
    "## 基本操作\n",
    "\n",
    "コードが書かれているブロックを **セル** と呼びます。  \n",
    "\n",
    "1. セルをクリックして選択する（入力できる状態になる）\n",
    "2. 選択したセルを実行する\n",
    "    - 入力できる状態でShift+Enterキーを押す（こちらに慣れると簡単です）\n",
    "    - 左側に表示される再生ボタン▶をクリック"
   ]
  },
  {
   "cell_type": "code",
   "execution_count": null,
   "metadata": {
    "_uuid": "1cfc40de1ea79f50218d9ad0c978c51594353d01"
   },
   "outputs": [],
   "source": [
    "# 前処理に必要なモジュールの読み込み\n",
    "import numpy as np\n",
    "import pandas as pd"
   ]
  },
  {
   "cell_type": "markdown",
   "metadata": {
    "_uuid": "15f58440178d2240f490af07ecb4ae57d26100fa"
   },
   "source": [
    "タイタニックコンペでは以下のフォルダ配置となる。これを踏まえて、相対パスでデータを指定する\n",
    "\n",
    "- ┣ ディレクトリ\n",
    "    - ┗ 現在のkernel\n",
    "- ┗ input/\n",
    "    - ┣ train.csv（モデル作成用データ）\n",
    "    - ┣ test.csv（予測対象データ）\n",
    "    - ┗ gender_submission.csv（提出練習用データ）"
   ]
  },
  {
   "cell_type": "code",
   "execution_count": null,
   "metadata": {
    "_uuid": "c51e5fd74bfa4eeb84c1aadfebc8f059190fc596"
   },
   "outputs": [],
   "source": [
    "# 読み込んだデータはExcelの表のような形式で扱う（行と列がある）\n",
    "# モデル作成用データの読み込み（生存か死亡か知っているデータ）\n",
    "train_df = pd.read_csv('https://raw.githubusercontent.com/ftnext/spzcolab_titanic/master/input/train.csv')\n",
    "# 予測対象データの読み込み（生存か死亡か知らないデータ）\n",
    "test_df = pd.read_csv('https://raw.githubusercontent.com/ftnext/spzcolab_titanic/master/input/test.csv')"
   ]
  },
  {
   "cell_type": "markdown",
   "metadata": {
    "_uuid": "f98367e6902032fe3c05b240baceaa85cc8b59e4"
   },
   "source": [
    "`read_csv`  \n",
    "解説: https://note.nkmk.me/python-pandas-read-csv-tsv/  \n",
    "ドキュメント: https://pandas.pydata.org/pandas-docs/stable/reference/api/pandas.read_csv.html"
   ]
  },
  {
   "cell_type": "code",
   "execution_count": null,
   "metadata": {
    "_uuid": "a8fce89b69183148bacdad4507f474af93900d01"
   },
   "outputs": [],
   "source": [
    "# モデル作成用データのサイズを確認\n",
    "# (行数, 列数) で表示される\n",
    "train_df.shape"
   ]
  },
  {
   "cell_type": "code",
   "execution_count": null,
   "metadata": {
    "_uuid": "31250ea2947935237bcd038686dd3b52fa968c30"
   },
   "outputs": [],
   "source": [
    "# 予測対象データのサイズを確認\n",
    "# モデル作成用データに対して1列少ない\n",
    "test_df.shape"
   ]
  },
  {
   "cell_type": "markdown",
   "metadata": {
    "_uuid": "e492a2390deb2451771e3e9ff856da8a672244ab"
   },
   "source": [
    "`shape`  \n",
    "ドキュメント: https://pandas.pydata.org/pandas-docs/stable/reference/api/pandas.DataFrame.shape.html"
   ]
  },
  {
   "cell_type": "code",
   "execution_count": null,
   "metadata": {
    "_uuid": "0539904b0e0c8ad1f9be69de3288275ff8761e9d"
   },
   "outputs": [],
   "source": [
    "# モデル作成用データの上から5行を表示\n",
    "# 参考: train_df.head(7) # 上から7行表示\n",
    "train_df.head()"
   ]
  },
  {
   "cell_type": "code",
   "execution_count": null,
   "metadata": {
    "_uuid": "396149f7b3382de0d4d8de5f21f04d8b2ade66a1"
   },
   "outputs": [],
   "source": [
    "# 予測対象データの上から5行を表示\n",
    "# Survivedの列（生存か死亡かを表す）がないことが確認できる\n",
    "test_df.head()"
   ]
  },
  {
   "cell_type": "markdown",
   "metadata": {
    "_uuid": "0e55e984bbaa82fdbdee7c7244162aea0dd4803d"
   },
   "source": [
    "`head`  \n",
    "ドキュメント: https://pandas.pydata.org/pandas-docs/stable/reference/api/pandas.DataFrame.head.html"
   ]
  },
  {
   "cell_type": "code",
   "execution_count": null,
   "metadata": {
    "_uuid": "8fee68e0970b6d1d8f8363fec7032694c05876e9"
   },
   "outputs": [],
   "source": [
    "# モデル作成用データの情報を確認\n",
    "train_df.info()"
   ]
  },
  {
   "cell_type": "code",
   "execution_count": null,
   "metadata": {
    "_uuid": "5313cd4db853ceb6f5e09e9bfb8a37df278f16a0"
   },
   "outputs": [],
   "source": [
    "# 予測対象データの情報を確認\n",
    "test_df.info()"
   ]
  },
  {
   "cell_type": "markdown",
   "metadata": {
    "_uuid": "9b86455b77dfbfdb8f5905e61a4227e37c914a3b"
   },
   "source": [
    "`info`  \n",
    "解説: https://note.nkmk.me/python-pandas-len-shape-size/  \n",
    "ドキュメント: https://pandas.pydata.org/pandas-docs/stable/reference/api/pandas.DataFrame.info.html"
   ]
  },
  {
   "cell_type": "markdown",
   "metadata": {
    "_uuid": "167716b1debadbf441c33bd89f478243130e1a38"
   },
   "source": [
    "| infoによる情報 | 意味 |\n",
    "| ----|---- | \n",
    "| int | 整数 |\n",
    "| float | 浮動小数点数 |\n",
    "| object | 文字列 |"
   ]
  },
  {
   "cell_type": "markdown",
   "metadata": {
    "_uuid": "e24224735ca20796ab15c84f5984cda34a107f53"
   },
   "source": [
    "| データの情報 | 列名 |　意味 |\n",
    "| ----- | ----- | ----- |\n",
    "| int | PassengerId | 乗客ID |\n",
    "| int | **Pclass** | チケットの等級 (1, 2, 3) |\n",
    "| int | SibSp | 同乗した兄弟姉妹/配偶者の人数 |\n",
    "| int | Parch | 同乗した両親/子供の人数 |\n",
    "| int | *Survived* | 0：死亡、1：生存 |\n",
    "| float | **Age** | 年齢（推測があるため、浮動小数点数） |\n",
    "| float | Fare | 運賃 |\n",
    "| object | Name | 氏名 |\n",
    "| object | **Sex** | 性別 |\n",
    "| object | Ticket | チケット番号 |\n",
    "| object | Cabin | 船室番号　|\n",
    "| object | **Embarked** | 乗船した港の頭文字(S, Q, C) |\n",
    "\n",
    "ref: https://www.kaggle.com/c/titanic/data"
   ]
  },
  {
   "cell_type": "markdown",
   "metadata": {
    "_uuid": "aec5fbf9dcc5885f5d4cacda535b6dbe0e9842a1"
   },
   "source": [
    "## 1. 単純なモデル"
   ]
  },
  {
   "cell_type": "markdown",
   "metadata": {
    "_uuid": "54f4df433648d57638c3f33f2400fba0678bb8af"
   },
   "source": [
    "性別を元に生死を予測するモデルを作成する\n",
    "\n",
    "- 男性：死亡\n",
    "- 女性：生存\n",
    "\n",
    "注：この単純なモデルは機械学習で作るのではなく、人が決めたルールを実装して実現"
   ]
  },
  {
   "cell_type": "markdown",
   "metadata": {
    "_uuid": "8fa24410d72b68a456d70a82e9427210e9e68cb7"
   },
   "source": [
    "![](https://raw.githubusercontent.com/ftnext/2019_slides/master/spz_online_titanic_handson/assets/survived_per_sex.png)"
   ]
  },
  {
   "cell_type": "markdown",
   "metadata": {
    "_uuid": "8d2febb1236fee74ebf8f4e1ab28837e84e4ca39"
   },
   "source": [
    "性別ごとの生死のヒストグラムから\n",
    "\n",
    "- 男性の生存率は低い（左側より右側のほうが低い）\n",
    "- 女性の生存率は高い（左側よりも右側のほうが高い）\n",
    "- → 性別は生死を予測する際に有力な情報と考えられる\n",
    "\n",
    "※生死が取りうる値は0か1。区間は2つなので、0の数と1の数に分かれる"
   ]
  },
  {
   "cell_type": "code",
   "execution_count": null,
   "metadata": {
    "_uuid": "834b2d4b6bd6f90bd53d654f9fadb3a190efb28a"
   },
   "outputs": [],
   "source": [
    "# モデル作成・性能評価に使うモジュールの読み込み\n",
    "from sklearn.metrics import accuracy_score\n",
    "from sklearn.model_selection import train_test_split, cross_val_score, KFold, GridSearchCV\n",
    "from sklearn.tree import DecisionTreeClassifier"
   ]
  },
  {
   "cell_type": "code",
   "execution_count": null,
   "metadata": {
    "_uuid": "7ec884f71ed3334b0ca669bbf9540e3acecbdeda"
   },
   "outputs": [],
   "source": [
    "# モデルが予測に使う情報（ここでは性別）をx, モデルが予測する情報（ここでは生死）をyとする\n",
    "x = train_df['Sex']\n",
    "y = train_df['Survived']"
   ]
  },
  {
   "cell_type": "markdown",
   "metadata": {
    "_uuid": "6c64a86bde8d32abfbad1db51eae4c9a1bbe00b5"
   },
   "source": [
    "参考: 列の取り出し https://note.nkmk.me/python-pandas-index-row-column/  \n",
    "ドキュメント: 10 minutes pandasの中のSelection https://pandas.pydata.org/pandas-docs/stable/getting_started/10min.html#selection"
   ]
  },
  {
   "cell_type": "code",
   "execution_count": null,
   "metadata": {
    "_uuid": "fad6d1de26ecf0a807ac2b924e21c3e6cb977141"
   },
   "outputs": [],
   "source": [
    "# 引数の辞書のキー（コロンの左側）に一致する要素が、辞書の値（コロンの右側）に置き換わる（femaleが1に置き換わり、maleが0に置き換わる）\n",
    "# 注: Sexの取りうる値はfemaleかmale\n",
    "# astype(int)でデータの型が文字列から整数へ変わることに対応\n",
    "y_pred = x.map({'female': 1, 'male': 0}).astype(int)"
   ]
  },
  {
   "cell_type": "markdown",
   "metadata": {
    "_uuid": "3dcdf935764c4178da593c732f4f83071abf3b13"
   },
   "source": [
    "`map`  \n",
    "参考: https://note.nkmk.me/python-pandas-map-replace/  \n",
    "ドキュメント: https://pandas.pydata.org/pandas-docs/stable/reference/api/pandas.Series.map.html"
   ]
  },
  {
   "cell_type": "markdown",
   "metadata": {
    "_uuid": "1cc51c7eaa894db40f9fef0d0e64229c5a785dc0"
   },
   "source": [
    "タイタニックの場合、モデルの性能はaccuracyというスコアで評価される  \n",
    "（**注**：性能を表すスコアは他にもある）\n",
    "\n",
    "- 418名のうち生死を正しく予想できたものの割合\n",
    "- 1に近いほど性能がよい\n",
    "\n",
    "| ケース | 正解／誤り |\n",
    "| ----- | ----- |\n",
    "| 生存した乗客を生存と予測 | 正解 |\n",
    "| 生存した乗客を死亡と予測 | 誤り |\n",
    "| 死亡した乗客を生存と予測 | 誤り |\n",
    "| 死亡した乗客を死亡と予測 | 正解 |\n",
    "\n",
    "accuracy = (正解の総数) / (正解の総数 + 誤りの総数)\n",
    "\n",
    ">Your score is the percentage of passengers you correctly predict. This is known simply as \"accuracy”.\n",
    "\n",
    "ref: https://www.kaggle.com/c/titanic#evaluation"
   ]
  },
  {
   "cell_type": "code",
   "execution_count": null,
   "metadata": {
    "_uuid": "40deae510f7a587ceaa84f2a4c041f921b173c29"
   },
   "outputs": [],
   "source": [
    "# accuracyを算出して表示\n",
    "accuracy_score(y, y_pred)"
   ]
  },
  {
   "cell_type": "markdown",
   "metadata": {
    "_uuid": "ecfe43482dc1f9e895de3f68b0c4a5a1135e02b5"
   },
   "source": [
    "`accuracy_score`  \n",
    "ドキュメント: https://scikit-learn.org/stable/modules/generated/sklearn.metrics.accuracy_score.html"
   ]
  },
  {
   "cell_type": "code",
   "execution_count": null,
   "metadata": {
    "_uuid": "c4ce11b2224a1e59078208b9517ce97c404cbb9c"
   },
   "outputs": [],
   "source": [
    "x_test = test_df['Sex']\n",
    "# 予測対象データについて生死を予測（Sexの値を元に、生死を予測）\n",
    "y_test_pred = x_test.map({'female': 1, 'male': 0}).astype(int)"
   ]
  },
  {
   "cell_type": "markdown",
   "metadata": {
    "_uuid": "7e1519aeea4906c81a53848406488a9a9b76dcc8"
   },
   "source": [
    "- 予測した結果から提出用データを作る\n",
    "- 提出用データは以下の形式のCSVとするように指定されている（1が生存、0が死亡）\n",
    "\n",
    "PassengerId | Survived\n",
    "----- | -----\n",
    "892 | 0\n",
    ": | :\n",
    "1309|1\n",
    "\n",
    "- ref: https://www.kaggle.com/c/titanic#evaluation"
   ]
  },
  {
   "cell_type": "code",
   "execution_count": null,
   "metadata": {
    "_uuid": "55e07788d3f2f0e0034d9dcfb2fdbfed4007ee18"
   },
   "outputs": [],
   "source": [
    "# colabでの実行の際は省略\n",
    "# # 提出用データの形式に変換\n",
    "# submission = pd.DataFrame({\n",
    "#     'PassengerId': test_df['PassengerId'],\n",
    "#     'Survived': y_test_pred\n",
    "# })\n",
    "# # 提出用データ作成\n",
    "# submission.to_csv('submission.csv', index=False)"
   ]
  },
  {
   "cell_type": "markdown",
   "metadata": {
    "_uuid": "285ce587425f7149a3ba8fa5942e7cd6b3afdd4a"
   },
   "source": [
    "## 2. モデル作成を一緒に体験\n",
    "\n",
    "単純なモデルよりも性能のいいモデル作りに挑戦\n",
    "\n",
    "### SexとPclassからモデル作成"
   ]
  },
  {
   "cell_type": "code",
   "execution_count": null,
   "metadata": {
    "_uuid": "6b5db7204d13791b9c0ffb7100397ed0098eff08"
   },
   "outputs": [],
   "source": [
    "# SexとPclassから生死を予測するモデルを作ることにする\n",
    "columns = ['Pclass', 'Sex']"
   ]
  },
  {
   "cell_type": "markdown",
   "metadata": {
    "_uuid": "2257ebcfe2d6fb2917b989924974277662845529"
   },
   "source": [
    "![](https://raw.githubusercontent.com/ftnext/2019_slides/master/spz_online_titanic_handson/assets/survived_per_pclass.png)"
   ]
  },
  {
   "cell_type": "markdown",
   "metadata": {
    "_uuid": "e2d6ed0b5d4c8dc7931eeaf0a29b38d1af88235a"
   },
   "source": [
    "- Pclass=1は生存者が過半数を超えている\n",
    "- Pclass=2は生存者が半分程度\n",
    "- Pclass=3は生存者が少ない（4分の1程度）\n",
    "- →Pclassも生死の予測に使える"
   ]
  },
  {
   "cell_type": "code",
   "execution_count": null,
   "metadata": {
    "_uuid": "61ba0eb3014ed5813005b88e1947eed1e6266b89"
   },
   "outputs": [],
   "source": [
    "# モデルが予測に使う情報をX, モデルが予測する情報（ここでは生死）をyとする（Xとyという変数名が多い）\n",
    "X = train_df[columns].copy()\n",
    "y = train_df['Survived']\n",
    "# 予測対象データについて、予測に使う情報を取り出しておく\n",
    "X_test = test_df[columns].copy()"
   ]
  },
  {
   "cell_type": "code",
   "execution_count": null,
   "metadata": {
    "_uuid": "fe285526d1635fb8e9b945b75572cbbbe5f48fee"
   },
   "outputs": [],
   "source": [
    "X.head()"
   ]
  },
  {
   "cell_type": "markdown",
   "metadata": {
    "_uuid": "17d79258f64e7bd250b0561acfacf81ef097eb39"
   },
   "source": [
    "- いくつかの文字列の値を取る変数：カテゴリ変数\n",
    "    - Sex: male, female\n",
    "- 文字列を整数に変換する\n",
    "    - Sex: male=1, female=0として置き換え"
   ]
  },
  {
   "cell_type": "code",
   "execution_count": null,
   "metadata": {
    "_uuid": "88961d4756dd4d1b7cad72eddf32604fea742ea3"
   },
   "outputs": [],
   "source": [
    "# 性別（female/male）を0/1に変換する（maleとfemaleのままではsklearnが扱えない）\n",
    "# カテゴリを整数に置き換えるための辞書を用意\n",
    "gender_map = {'female': 0, 'male': 1}\n",
    "# 引数の辞書のキー（コロンの左側）に一致する要素が、辞書の値（コロンの右側）に置き換わる（femaleが0に置き換わり、maleが1に置き換わる）\n",
    "# 注: Sexの取りうる値はfemaleかmale\n",
    "X['Gender'] = X['Sex'].map(gender_map).astype(int)\n",
    "X_test['Gender'] = X_test['Sex'].map(gender_map).astype(int)"
   ]
  },
  {
   "cell_type": "code",
   "execution_count": null,
   "metadata": {
    "_uuid": "809619380c1adad2cd4b089291cee799fa801cc6"
   },
   "outputs": [],
   "source": [
    "# Sexに代えてGenderを使うため、Sex列を削除する\n",
    "X = X.drop(['Sex'], axis=1)\n",
    "X_test = X_test.drop(['Sex'], axis=1)"
   ]
  },
  {
   "cell_type": "markdown",
   "metadata": {
    "_uuid": "14f8cdd816d7e4706e9f0c6f67c3333765de0b24"
   },
   "source": [
    "`drop`  \n",
    "参考: https://note.nkmk.me/python-pandas-drop/  \n",
    "ドキュメント: https://pandas.pydata.org/pandas-docs/stable/reference/api/pandas.DataFrame.drop.html"
   ]
  },
  {
   "cell_type": "code",
   "execution_count": null,
   "metadata": {
    "_uuid": "a2ad8b1621a78a1ceadf3b154f7c34e19e7934e6"
   },
   "outputs": [],
   "source": [
    "# 前処理したモデル作成用データの確認\n",
    "X.head()"
   ]
  },
  {
   "cell_type": "markdown",
   "metadata": {
    "_uuid": "a07a42f98a6585bddaed7f062fbd56f852faf03b"
   },
   "source": [
    "このあとモデルを作成するが、予測対象データについて生死を予測する前に、  \n",
    "どの程度の性能のモデルなのか確認したい。  \n",
    "→モデル作成用データをランダムに2つに分ける（`train_test_split`）\n",
    "\n",
    "- モデル作成用データのうち、例えば7割でモデルを作る\n",
    "- 残りの3割でモデルの性能を評価する\n",
    "\n",
    "参考情報\n",
    "\n",
    "- ランダムに分けているが、`random_state`引数の値が同じなら、**何回実行しても同じ** ようにランダムに分かれる"
   ]
  },
  {
   "cell_type": "code",
   "execution_count": null,
   "metadata": {
    "_uuid": "2e265192a98cecd770899eeb223b768e25b736ae"
   },
   "outputs": [],
   "source": [
    "# 今回のハンズオンは7:3に分けて進める\n",
    "X_train, X_val, y_train, y_val = train_test_split(X, y, test_size=0.3, random_state=1)"
   ]
  },
  {
   "cell_type": "markdown",
   "metadata": {
    "_uuid": "d81fe7d9e0e5e18b34f62ac72bf04466b694ea42"
   },
   "source": [
    "`train_test_split`  \n",
    "参考: https://docs.pyq.jp/python/machine_learning/tips/train_test_split.html  \n",
    "ドキュメント: https://scikit-learn.org/stable/modules/generated/sklearn.model_selection.train_test_split.html"
   ]
  },
  {
   "cell_type": "markdown",
   "metadata": {
    "_uuid": "f0568ada7f8aada0ff02000fe944a8a136fdaad6"
   },
   "source": [
    "| 変数名 | 用途 |\n",
    "| ----- | ----- |\n",
    "| X_train | モデル作成用のデータ（乗客の属性） |\n",
    "| y_train | モデル作成用のデータ（生死） |\n",
    "| X_val | モデルの性能確認用のデータ（乗客の属性） |\n",
    "| y_val | モデルの性能確認用のデータ（生死） |"
   ]
  },
  {
   "cell_type": "code",
   "execution_count": null,
   "metadata": {
    "_uuid": "7d837f2e0c8d24f6640d759c80b63e3c468924e0"
   },
   "outputs": [],
   "source": [
    "# モデル作成用のデータの数の確認\n",
    "len(y_train)"
   ]
  },
  {
   "cell_type": "code",
   "execution_count": null,
   "metadata": {
    "_uuid": "8d393db840989c0bb5262bc821122421bf8b522f",
    "scrolled": true
   },
   "outputs": [],
   "source": [
    "# モデル性能確認用のデータの数の確認\n",
    "len(y_val)"
   ]
  },
  {
   "cell_type": "code",
   "execution_count": null,
   "metadata": {
    "_uuid": "9538ed46f9ed05095c1dffcdd71103b56e036013"
   },
   "outputs": [],
   "source": [
    "# 決定木というアルゴリズムを使ったモデルを用意\n",
    "model = DecisionTreeClassifier(random_state=1, criterion='entropy', max_depth=3, min_samples_leaf=2)\n",
    "# モデル作成は以下の1行（ここまでの前処理に対してたった1行！）で完了する\n",
    "model.fit(X_train, y_train)"
   ]
  },
  {
   "cell_type": "markdown",
   "metadata": {
    "_uuid": "3e2a9776a3eb7b10f749ddd886bb0e7afa2b6649"
   },
   "source": [
    "参考: https://scikit-learn.org/stable/modules/tree.html#classification  \n",
    "ドキュメント: https://scikit-learn.org/stable/modules/generated/sklearn.tree.DecisionTreeClassifier.html"
   ]
  },
  {
   "cell_type": "code",
   "execution_count": null,
   "metadata": {
    "_uuid": "a063293d2167961907aa65fe4cc2f504bdc86a16"
   },
   "outputs": [],
   "source": [
    "# モデル性能確認用データについて生死を予測\n",
    "pred = model.predict(X_val)\n",
    "# accuracyを算出して表示\n",
    "accuracy_score(y_val, pred)"
   ]
  },
  {
   "cell_type": "markdown",
   "metadata": {
    "_uuid": "9da8b7d4bdd7c0a45b244dd5489bb5b074304dfc"
   },
   "source": [
    "別のモデルを作ったときに、以前に作ったモデルよりスコアが低ければ、提出しないという判断ができる  \n",
    "（Kaggleに提出しなくても試行錯誤が進められる。提出回数には日次の上限がある）"
   ]
  },
  {
   "cell_type": "code",
   "execution_count": null,
   "metadata": {
    "_uuid": "6f8f1f89df8a2845df1840288c04a8cc51213e0c"
   },
   "outputs": [],
   "source": [
    "# 提出する場合は以下の2つのセルを実行\n",
    "# 予測対象データについて生死を予測\n",
    "pred = model.predict(X_test)"
   ]
  },
  {
   "cell_type": "code",
   "execution_count": null,
   "metadata": {
    "_uuid": "048198f3fda1818008d2e7b20b6bacce37109c53"
   },
   "outputs": [],
   "source": [
    "# colabでの実行の際は省略\n",
    "# # 提出用データの形式に変換\n",
    "# submission = pd.DataFrame({\n",
    "#     'PassengerId': test_df['PassengerId'],\n",
    "#     'Survived': pred\n",
    "# })\n",
    "# # 提出用データ作成\n",
    "# submission.to_csv('submission.csv', index=False)"
   ]
  },
  {
   "cell_type": "markdown",
   "metadata": {
    "_uuid": "d0671a593509c533f4de856c3ffdcf307fe2b9d5"
   },
   "source": [
    "## 3. 用意した選択肢を試す\n",
    "\n",
    "欠損値の対応を新しく扱う"
   ]
  },
  {
   "cell_type": "markdown",
   "metadata": {
    "_uuid": "fe0c944512016ff55ded15055f062a0ff9b77d2f"
   },
   "source": [
    "### （選択肢1）Ageを追加"
   ]
  },
  {
   "cell_type": "code",
   "execution_count": null,
   "metadata": {
    "_uuid": "e8122893012b2c4e43e3d873500f3e9aad494112"
   },
   "outputs": [],
   "source": [
    "# モデルの予測に使う情報にAgeを追加\n",
    "columns = ['Pclass', 'Sex', 'Age']"
   ]
  },
  {
   "cell_type": "markdown",
   "metadata": {
    "_uuid": "f7d3950a79ee31eea4cff72d299ff434d2a24cec"
   },
   "source": [
    "![](https://raw.githubusercontent.com/ftnext/2019_slides/master/spz_online_titanic_handson/assets/age_hist_stacked_survived.png)"
   ]
  },
  {
   "cell_type": "markdown",
   "metadata": {
    "_uuid": "a561fd3cb5ffb67de6683a8609bf709b3811d344"
   },
   "source": [
    "0〜80歳を10分割なので、約8歳ずつ分割している  \n",
    "助かっている割合が高い年齢層は0歳〜8歳（半数以上）、10代前半、30代後半、50〜60歳（半数程度）"
   ]
  },
  {
   "cell_type": "code",
   "execution_count": null,
   "metadata": {
    "_uuid": "f1128409ea48e28ec35dcca4c32d59c5b1a3e911"
   },
   "outputs": [],
   "source": [
    "# モデルが予測に使う情報をX, モデルが予測する情報（ここでは生死）をyとする（Xとyという変数名が多い）\n",
    "X = train_df[columns].copy()\n",
    "y = train_df['Survived']\n",
    "# 予測対象データについて、予測に使う情報を取り出しておく\n",
    "X_test = test_df[columns].copy()"
   ]
  },
  {
   "cell_type": "code",
   "execution_count": null,
   "metadata": {
    "_uuid": "9ea9062a82999050a5a325f92daec958ae1aa4a2"
   },
   "outputs": [],
   "source": [
    "X.head()"
   ]
  },
  {
   "cell_type": "code",
   "execution_count": null,
   "metadata": {
    "_uuid": "576ba46eeae0f0ad563567c70a535a1ca5460dd8"
   },
   "outputs": [],
   "source": [
    "# モデル作成用データの欠損値の確認\n",
    "X.isnull().sum()"
   ]
  },
  {
   "cell_type": "code",
   "execution_count": null,
   "metadata": {
    "_uuid": "066d69cbfd933ea242eb75ff3e2ed99a6af86731"
   },
   "outputs": [],
   "source": [
    "# 予測対象データの欠損値の確認\n",
    "X_test.isnull().sum()"
   ]
  },
  {
   "cell_type": "markdown",
   "metadata": {
    "_uuid": "4aee0885b58eb27f8dda60e788047a7d6639d94d"
   },
   "source": [
    "`isnull().sum()`  \n",
    "参考: https://note.nkmk.me/python-pandas-nan-judge-count/"
   ]
  },
  {
   "cell_type": "markdown",
   "metadata": {
    "_uuid": "394655188306461998bf151b4483c58a7f0ecbc2"
   },
   "source": [
    "Ageがモデル作成用・性能評価用とで20%程度欠けている\n",
    "\n",
    "- 欠けたデータ＝**欠損値**（missing value、欠測値とも呼ばれる）  \n",
    "- 欠損の要因：データの収集過程で抜けてしまったなど\n",
    "- 機械学習のツールは **一般に欠損値に対処できない**（そのためデータを前処理する）\n",
    "- 削除すると貴重なデータが減るので、**埋める**\n",
    "\n",
    "モデル作成用データの平均値（=年齢の総和/個数）で埋める"
   ]
  },
  {
   "cell_type": "code",
   "execution_count": null,
   "metadata": {
    "_uuid": "307da559d42c4c705d42f7c9dad4750ee4dd292e"
   },
   "outputs": [],
   "source": [
    "# Ageの欠損を平均値で埋めた列AgeFillを追加\n",
    "age_mean = X['Age'].mean()\n",
    "print(f'Age mean: {age_mean}')\n",
    "X['AgeFill'] = X['Age'].fillna(age_mean)\n",
    "X_test['AgeFill'] = X_test['Age'].fillna(age_mean)"
   ]
  },
  {
   "cell_type": "markdown",
   "metadata": {
    "_uuid": "97b230e97e1f391dbb1e31c52569bc64aeb42352"
   },
   "source": [
    "`mean`  \n",
    "参考: https://deepage.net/features/pandas-mean.html  \n",
    "ドキュメント: https://pandas.pydata.org/pandas-docs/stable/reference/api/pandas.Series.mean.html"
   ]
  },
  {
   "cell_type": "markdown",
   "metadata": {
    "_uuid": "00a59a577a38d27b3f8e5410f661fe749177bb3e"
   },
   "source": [
    "`fillna`  \n",
    "参考: https://note.nkmk.me/python-pandas-nan-dropna-fillna/  \n",
    "ドキュメント: https://pandas.pydata.org/pandas-docs/stable/reference/api/pandas.DataFrame.fillna.html"
   ]
  },
  {
   "cell_type": "code",
   "execution_count": null,
   "metadata": {
    "_uuid": "21d1c73dc88fcc86be12c49236d5fcff26f7cd23"
   },
   "outputs": [],
   "source": [
    "# 欠損を含むAge列を削除（年齢の情報はAgeFill列を参照する）\n",
    "X = X.drop(['Age'], axis=1)\n",
    "X_test = X_test.drop(['Age'], axis=1)"
   ]
  },
  {
   "cell_type": "markdown",
   "metadata": {
    "_uuid": "8708b657fceeccc41df8e806f1b0da5ca7314449"
   },
   "source": [
    "`drop`  \n",
    "参考: https://note.nkmk.me/python-pandas-drop/  \n",
    "ドキュメント: https://pandas.pydata.org/pandas-docs/stable/reference/api/pandas.DataFrame.drop.html"
   ]
  },
  {
   "cell_type": "code",
   "execution_count": null,
   "metadata": {
    "_uuid": "7353aed8b830abe34b943740aa8c67d53616263b"
   },
   "outputs": [],
   "source": [
    "# モデル作成用データの欠損値の確認\n",
    "X.isnull().sum()"
   ]
  },
  {
   "cell_type": "code",
   "execution_count": null,
   "metadata": {
    "_uuid": "dd929ffd4e30aca5775eb8c758b5103fe683b378"
   },
   "outputs": [],
   "source": [
    "# 予測対象データの欠損値の確認\n",
    "X_test.isnull().sum()"
   ]
  },
  {
   "cell_type": "code",
   "execution_count": null,
   "metadata": {
    "_uuid": "e279117ab77ac337631ecd4fc7b921d15a397766"
   },
   "outputs": [],
   "source": [
    "# 性別（female/male）を0/1に変換する（maleとfemaleのままではsklearnが扱えない）\n",
    "# カテゴリを整数に置き換えるための辞書を用意\n",
    "gender_map = {'female': 0, 'male': 1}\n",
    "# 引数の辞書のキー（コロンの左側）に一致する要素が、辞書の値（コロンの右側）に置き換わる（femaleが1に置き換わり、maleが0に置き換わる）\n",
    "# 注: Sexの取りうる値はfemaleかmale\n",
    "X['Gender'] = X['Sex'].map(gender_map).astype(int)\n",
    "X_test['Gender'] = X_test['Sex'].map(gender_map).astype(int)"
   ]
  },
  {
   "cell_type": "code",
   "execution_count": null,
   "metadata": {
    "_uuid": "d0f01ff352ff473d524ad5e8c2067cd0b41ff1d0"
   },
   "outputs": [],
   "source": [
    "# Sexに代えてGenderを使うため、Sex列を削除する\n",
    "X = X.drop(['Sex'], axis=1)\n",
    "X_test = X_test.drop(['Sex'], axis=1)"
   ]
  },
  {
   "cell_type": "code",
   "execution_count": null,
   "metadata": {
    "_uuid": "40e1c9ad5214a13ffad8b7b21c9f2694a8c25bab"
   },
   "outputs": [],
   "source": [
    "# 前処理したモデル作成用データの確認\n",
    "X.head()"
   ]
  },
  {
   "cell_type": "code",
   "execution_count": null,
   "metadata": {
    "_uuid": "2e265192a98cecd770899eeb223b768e25b736ae"
   },
   "outputs": [],
   "source": [
    "# 今回のハンズオンではモデル作成用データを7:3に分けて進める\n",
    "X_train, X_val, y_train, y_val = train_test_split(X, y, test_size=0.3, random_state=1)"
   ]
  },
  {
   "cell_type": "code",
   "execution_count": null,
   "metadata": {
    "_uuid": "7d837f2e0c8d24f6640d759c80b63e3c468924e0"
   },
   "outputs": [],
   "source": [
    "# モデル作成用のデータの数の確認\n",
    "len(y_train)"
   ]
  },
  {
   "cell_type": "code",
   "execution_count": null,
   "metadata": {
    "_uuid": "8d393db840989c0bb5262bc821122421bf8b522f",
    "scrolled": true
   },
   "outputs": [],
   "source": [
    "# モデル性能確認用のデータの数の確認\n",
    "len(y_val)"
   ]
  },
  {
   "cell_type": "code",
   "execution_count": null,
   "metadata": {
    "_uuid": "2678d78ea05cab4c6407cb016ecd708b890f6187"
   },
   "outputs": [],
   "source": [
    "# 決定木というアルゴリズムを使ったモデルを用意\n",
    "model = DecisionTreeClassifier(random_state=1, criterion='entropy', max_depth=3, min_samples_leaf=2)\n",
    "# モデル作成は以下の1行（ここまでの前処理に対してたった1行！）で完了する\n",
    "model.fit(X_train, y_train)"
   ]
  },
  {
   "cell_type": "code",
   "execution_count": null,
   "metadata": {
    "_uuid": "a063293d2167961907aa65fe4cc2f504bdc86a16"
   },
   "outputs": [],
   "source": [
    "# モデル性能確認用データについて生死を予測\n",
    "pred = model.predict(X_val)\n",
    "# 性能確認：accuracyを算出して表示\n",
    "accuracy_score(y_val, pred)"
   ]
  },
  {
   "cell_type": "code",
   "execution_count": null,
   "metadata": {
    "_uuid": "6f8f1f89df8a2845df1840288c04a8cc51213e0c"
   },
   "outputs": [],
   "source": [
    "# 予測対象データについて生死を予測\n",
    "pred = model.predict(X_test)"
   ]
  },
  {
   "cell_type": "code",
   "execution_count": null,
   "metadata": {
    "_uuid": "048198f3fda1818008d2e7b20b6bacce37109c53"
   },
   "outputs": [],
   "source": [
    "# colabでの実行の際は省略\n",
    "# # 提出用データの形式に変換\n",
    "# submission = pd.DataFrame({\n",
    "#     'PassengerId': test_df['PassengerId'],\n",
    "#     'Survived': pred\n",
    "# })\n",
    "# # 提出用データ作成\n",
    "# submission.to_csv('submission.csv', index=False)"
   ]
  },
  {
   "cell_type": "markdown",
   "metadata": {
    "_uuid": "b149a2db6a5b48d3eef5da83707cdbf5f6c67a30"
   },
   "source": [
    "### （選択肢2）Embarkedを追加"
   ]
  },
  {
   "cell_type": "code",
   "execution_count": null,
   "metadata": {
    "_uuid": "f099802375a6f29c05d28d93923eff715140288d"
   },
   "outputs": [],
   "source": [
    "# モデルの予測に使う情報にEmbarkedを追加\n",
    "columns = ['Pclass', 'Sex', 'Embarked']"
   ]
  },
  {
   "cell_type": "markdown",
   "metadata": {
    "_uuid": "99f081a886f032a00fd2b645748375626224b8e7"
   },
   "source": [
    "![](https://raw.githubusercontent.com/ftnext/2019_slides/master/spz_online_titanic_handson/assets/survived_per_embarked.png)"
   ]
  },
  {
   "cell_type": "markdown",
   "metadata": {
    "_uuid": "d7d57f74200d23284f727f50aded30ff04a4cbe9"
   },
   "source": [
    "- 港Cは生存者が半分程度\n",
    "- 港S, Qは生存者が3分の1程度\n",
    "- →Embarkedを生死の予測に加える"
   ]
  },
  {
   "cell_type": "code",
   "execution_count": null,
   "metadata": {
    "_uuid": "4693f1e7d3612d02023d6949eb61c8cebfc647fd"
   },
   "outputs": [],
   "source": [
    "# モデルが予測に使う情報をX, モデルが予測する情報（ここでは生死）をyとする（Xとyという変数名が多い）\n",
    "X = train_df[columns].copy()\n",
    "y = train_df['Survived']\n",
    "# 予測対象データについて、予測に使う情報を取り出しておく\n",
    "X_test = test_df[columns].copy()"
   ]
  },
  {
   "cell_type": "code",
   "execution_count": null,
   "metadata": {
    "_uuid": "5d78fda648c48875ad919ada6d039f330be93fac"
   },
   "outputs": [],
   "source": [
    "X.head()"
   ]
  },
  {
   "cell_type": "code",
   "execution_count": null,
   "metadata": {
    "_uuid": "225ffa9ce27862b4c217a26444658a435a4c9b9a"
   },
   "outputs": [],
   "source": [
    "# モデル作成用データの欠損値の確認\n",
    "X.isnull().sum()"
   ]
  },
  {
   "cell_type": "code",
   "execution_count": null,
   "metadata": {
    "_uuid": "e01cd1a55fc159b83f0ed089aa75fe269b48b19a"
   },
   "outputs": [],
   "source": [
    "# 予測対象データの欠損値の確認\n",
    "X_test.isnull().sum()"
   ]
  },
  {
   "cell_type": "markdown",
   "metadata": {
    "_uuid": "c006da8f33a2f3b0a83785654363ba344a97952a"
   },
   "source": [
    "Embarkedがモデル作成用で数件欠けている\n",
    "\n",
    "*※欠損値の対応の詳細は選択肢1を確認してください*\n",
    "\n",
    "モデル作成用データで一番多く登場する値（一番多くの人が乗っている港）で埋める"
   ]
  },
  {
   "cell_type": "code",
   "execution_count": null,
   "metadata": {
    "_uuid": "f4199253b47bd3e1573a3d2194989eb88d786cd4"
   },
   "outputs": [],
   "source": [
    "# Embarkedの欠損値を埋める（欠損値を埋めた後の値で置き換える）\n",
    "embarked_freq = X['Embarked'].mode()[0]\n",
    "print(f'Embarked freq: {embarked_freq}')\n",
    "X['Embarked'] = X['Embarked'].fillna(embarked_freq)\n",
    "# X_testにEmbarkedの欠損値がないため、実施しない"
   ]
  },
  {
   "cell_type": "markdown",
   "metadata": {
    "_uuid": "7d6e0ea96c6e73cb88a319f9a885dce4c1e8a207"
   },
   "source": [
    "`mode`  \n",
    "参考: https://note.nkmk.me/python-pandas-mode/  \n",
    "ドキュメント: https://pandas.pydata.org/pandas-docs/stable/reference/api/pandas.Series.mode.html"
   ]
  },
  {
   "cell_type": "code",
   "execution_count": null,
   "metadata": {
    "_uuid": "962e21089923579d112068c9a06704d8399cf613"
   },
   "outputs": [],
   "source": [
    "# モデル作成用データの欠損値の確認\n",
    "X.isnull().sum()"
   ]
  },
  {
   "cell_type": "code",
   "execution_count": null,
   "metadata": {
    "_uuid": "ffae3340b2d3eb95f5317a0f15adbc0d9d10ce90"
   },
   "outputs": [],
   "source": [
    "# 性別（female/male）を0/1に変換する（maleとfemaleのままではsklearnが扱えない）\n",
    "# カテゴリを整数に置き換えるための辞書を用意\n",
    "gender_map = {'female': 0, 'male': 1}\n",
    "# 引数の辞書のキー（コロンの左側）に一致する要素が、辞書の値（コロンの右側）に置き換わる（femaleが1に置き換わり、maleが0に置き換わる）\n",
    "# 注: Sexの取りうる値はfemaleかmale\n",
    "X['Gender'] = X['Sex'].map(gender_map).astype(int)\n",
    "X_test['Gender'] = X_test['Sex'].map(gender_map).astype(int)"
   ]
  },
  {
   "cell_type": "code",
   "execution_count": null,
   "metadata": {
    "_uuid": "d950a73c563265607d9542b6303ab79cd816b8c1"
   },
   "outputs": [],
   "source": [
    "# Sexに代えてGenderを使うため、Sex列を削除する\n",
    "X = X.drop(['Sex'], axis=1)\n",
    "X_test = X_test.drop(['Sex'], axis=1)"
   ]
  },
  {
   "cell_type": "markdown",
   "metadata": {
    "_uuid": "9cecb2d37fbc584d861d65345582825e3b65c9cf"
   },
   "source": [
    "カテゴリ変数Embarkedはダミー変数化する\n",
    "\n",
    "- S=1, Q=2, C=3と整数に置き換える\n",
    "    - **本来なかった大小関係が想定されてしまう**\n",
    "- (S, Q, C)という形式で整数に置き換える\n",
    "\n",
    "| Embarkedの値 | 置き換えたあと |\n",
    "| ----- | ----- |\n",
    "| S | (1, 0, 0) |\n",
    "| Q | (0, 1, 0) |\n",
    "| C | (0, 0, 1) |"
   ]
  },
  {
   "cell_type": "code",
   "execution_count": null,
   "metadata": {
    "_uuid": "633f08fa5571c505e22b2eb5e54566d3a63e2961"
   },
   "outputs": [],
   "source": [
    "# Embarked（S, Q, Cという3カテゴリ）をダミー変数にする\n",
    "# （Embarked列が消え、Embarked_S, Embarked_Q, Embarked_C列が追加される）\n",
    "X = pd.get_dummies(X, columns=['Embarked'])\n",
    "X_test = pd.get_dummies(X_test, columns=['Embarked'])"
   ]
  },
  {
   "cell_type": "markdown",
   "metadata": {
    "_uuid": "a2108df79b7baebcfeb62ebae31370335e1e7c49"
   },
   "source": [
    "`get_dummies`  \n",
    "参考: https://note.nkmk.me/python-pandas-get-dummies/  \n",
    "ドキュメント: https://pandas.pydata.org/pandas-docs/stable/reference/api/pandas.get_dummies.html"
   ]
  },
  {
   "cell_type": "code",
   "execution_count": null,
   "metadata": {
    "_uuid": "fd49c3f965df1b76cc49345cd41b9f3804925ee3"
   },
   "outputs": [],
   "source": [
    "# 前処理したモデル作成用データの確認\n",
    "X.head()"
   ]
  },
  {
   "cell_type": "code",
   "execution_count": null,
   "metadata": {
    "_uuid": "2e265192a98cecd770899eeb223b768e25b736ae"
   },
   "outputs": [],
   "source": [
    "# 今回のハンズオンではモデル作成用データを7:3に分けて進める\n",
    "X_train, X_val, y_train, y_val = train_test_split(X, y, test_size=0.3, random_state=1)"
   ]
  },
  {
   "cell_type": "code",
   "execution_count": null,
   "metadata": {
    "_uuid": "7d837f2e0c8d24f6640d759c80b63e3c468924e0"
   },
   "outputs": [],
   "source": [
    "# モデル作成用のデータの数の確認\n",
    "len(y_train)"
   ]
  },
  {
   "cell_type": "code",
   "execution_count": null,
   "metadata": {
    "_uuid": "8d393db840989c0bb5262bc821122421bf8b522f",
    "scrolled": true
   },
   "outputs": [],
   "source": [
    "# モデル性能確認用のデータの数の確認\n",
    "len(y_val)"
   ]
  },
  {
   "cell_type": "code",
   "execution_count": null,
   "metadata": {
    "_uuid": "c1af3019ddd0147f9b629dac686c8ed6104cd20e"
   },
   "outputs": [],
   "source": [
    "# 決定木というアルゴリズムを使ったモデルを用意\n",
    "model = DecisionTreeClassifier(random_state=1, criterion='entropy', max_depth=3, min_samples_leaf=2)\n",
    "# モデル作成は以下の1行（ここまでの前処理に対してたった1行！）で完了する\n",
    "model.fit(X_train, y_train)"
   ]
  },
  {
   "cell_type": "code",
   "execution_count": null,
   "metadata": {
    "_uuid": "a063293d2167961907aa65fe4cc2f504bdc86a16"
   },
   "outputs": [],
   "source": [
    "# モデル性能確認用データについて生死を予測\n",
    "pred = model.predict(X_val)\n",
    "# 性能確認：accuracyを算出して表示\n",
    "accuracy_score(y_val, pred)"
   ]
  },
  {
   "cell_type": "code",
   "execution_count": null,
   "metadata": {
    "_uuid": "6f8f1f89df8a2845df1840288c04a8cc51213e0c"
   },
   "outputs": [],
   "source": [
    "# 予測対象データについて生死を予測\n",
    "pred = model.predict(X_test)"
   ]
  },
  {
   "cell_type": "code",
   "execution_count": null,
   "metadata": {
    "_uuid": "048198f3fda1818008d2e7b20b6bacce37109c53"
   },
   "outputs": [],
   "source": [
    "# colabでの実行の際は省略\n",
    "# # 提出用データの形式に変換\n",
    "# submission = pd.DataFrame({\n",
    "#     'PassengerId': test_df['PassengerId'],\n",
    "#     'Survived': pred\n",
    "# })\n",
    "# # 提出用データ作成\n",
    "# submission.to_csv('submission.csv', index=False)"
   ]
  },
  {
   "cell_type": "markdown",
   "metadata": {
    "_uuid": "60bb4a2e2efa91ae763b16ce0f4b058ecfeb7c94"
   },
   "source": [
    "### 練習問題: AgeとEmbarkedの両方を追加"
   ]
  },
  {
   "cell_type": "code",
   "execution_count": null,
   "metadata": {
    "_uuid": "c36112dc888df41f13921d31593d7b55b61ae695"
   },
   "outputs": [],
   "source": [
    "# train_df, test_dfからSex, Pclass, Age, Embarkedを取り出す"
   ]
  },
  {
   "cell_type": "code",
   "execution_count": null,
   "metadata": {
    "_uuid": "54f71fcdea78324cd896cb6fbc8e5da8375e9217"
   },
   "outputs": [],
   "source": [
    "# Ageの欠損への対応"
   ]
  },
  {
   "cell_type": "code",
   "execution_count": null,
   "metadata": {
    "_uuid": "df9574b85799841a9ca0dba16ead2360d9993544"
   },
   "outputs": [],
   "source": [
    "# Embarkedの欠損への対応"
   ]
  },
  {
   "cell_type": "code",
   "execution_count": null,
   "metadata": {
    "_uuid": "0f442762591c3697cc0324266251c4cb1813085d"
   },
   "outputs": [],
   "source": [
    "# がテゴリ変数Sexへの対応"
   ]
  },
  {
   "cell_type": "code",
   "execution_count": null,
   "metadata": {
    "_uuid": "402ccfd0faa1621e444d2f8b571f2e81d9fc14ab"
   },
   "outputs": [],
   "source": [
    "# カテゴリ変数Embarkedへの対応"
   ]
  },
  {
   "cell_type": "code",
   "execution_count": null,
   "metadata": {
    "_uuid": "26fca72f7bd0b29204a3a812d9e26eee532a8e43"
   },
   "outputs": [],
   "source": [
    "# モデル作成"
   ]
  },
  {
   "cell_type": "code",
   "execution_count": null,
   "metadata": {
    "_uuid": "603b473edd6e758934b4b6fbe6e7e4c78690cb82"
   },
   "outputs": [],
   "source": [
    "# 性能確認"
   ]
  },
  {
   "cell_type": "code",
   "execution_count": null,
   "metadata": {
    "_uuid": "b358e610e7cfc30f64ae738668919bcf3c3664dc"
   },
   "outputs": [],
   "source": [
    "# 提出用データ作成"
   ]
  },
  {
   "cell_type": "markdown",
   "metadata": {
    "_uuid": "16b9cbe1f13581bb38a5c3a9bc00aba66433b4dd"
   },
   "source": [
    "### 変更履歴\n",
    "https://www.kaggle.com/ftnext/kaggle-spzcolab-201901 をベースにやることを絞ってアップデートした  \n",
    "ref: https://github.com/PyDataTokyo/pydata-tokyo-tutorial-1"
   ]
  }
 ],
 "metadata": {
  "kernelspec": {
   "display_name": "Python 3",
   "language": "python",
   "name": "python3"
  },
  "language_info": {
   "codemirror_mode": {
    "name": "ipython",
    "version": 3
   },
   "file_extension": ".py",
   "mimetype": "text/x-python",
   "name": "python",
   "nbconvert_exporter": "python",
   "pygments_lexer": "ipython3",
   "version": "3.7.0"
  }
 },
 "nbformat": 4,
 "nbformat_minor": 1
}
